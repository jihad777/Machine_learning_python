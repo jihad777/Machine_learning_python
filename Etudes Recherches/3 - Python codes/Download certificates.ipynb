{
 "cells": [
  {
   "cell_type": "code",
   "execution_count": 1,
   "id": "69f08375",
   "metadata": {},
   "outputs": [],
   "source": [
    "import requests\n",
    "url = 'https://www.venafi.com/'"
   ]
  },
  {
   "cell_type": "code",
   "execution_count": 3,
   "id": "36f801b2",
   "metadata": {},
   "outputs": [
    {
     "data": {
      "text/plain": [
       "<Response [200]>"
      ]
     },
     "execution_count": 3,
     "metadata": {},
     "output_type": "execute_result"
    }
   ],
   "source": [
    "r = requests.get(url)\n",
    "r"
   ]
  },
  {
   "cell_type": "code",
   "execution_count": null,
   "id": "920f048f",
   "metadata": {},
   "outputs": [],
   "source": [
    "# r = requests.get(url, cert= ('client.crt', 'client.key'))\n",
    "\n",
    "'''\n",
    "file-->6443.p12\n",
    "psw--->\"*******************\"\n",
    "'''"
   ]
  },
  {
   "cell_type": "code",
   "execution_count": null,
   "id": "83b85b52",
   "metadata": {},
   "outputs": [],
   "source": [
    "from ca import certificate_path, certpw\n",
    "from OpenSSL import crypto\n",
    "\n",
    "def load_cert():\n",
    "    # ref: https://stackoverflow.com/questions/49163100/p12-cert-authenticate-python\n",
    "    # create pem file from p12\n",
    "    p12 = crypto.load_pkcs12(open(certificate_path, 'rb').read(), certpw.encode())\n",
    "\n",
    "    # PEM formatted private key\n",
    "    k = crypto.dump_privatekey(crypto.FILETYPE_PEM, p12.get_privatekey())\n",
    "    fkey = open('myKey.key', 'wb')\n",
    "    fkey.write(k)\n",
    "    fkey.close()\n",
    "\n",
    "    # PEM formatted certificate\n",
    "    c = crypto.dump_certificate(crypto.FILETYPE_PEM, p12.get_certificate())\n",
    "    fcert = open('myCert.crt', 'wb')\n",
    "    fcert.write(c)\n",
    "    fcert.close()"
   ]
  },
  {
   "cell_type": "code",
   "execution_count": null,
   "id": "4346c740",
   "metadata": {},
   "outputs": [],
   "source": [
    "load_cert()"
   ]
  },
  {
   "cell_type": "code",
   "execution_count": null,
   "id": "3be6b9bd",
   "metadata": {},
   "outputs": [],
   "source": [
    "r = requests.get(url, cert= ('client.crt', 'client.key'))"
   ]
  },
  {
   "cell_type": "code",
   "execution_count": null,
   "id": "35788c3c",
   "metadata": {},
   "outputs": [],
   "source": [
    "r"
   ]
  },
  {
   "cell_type": "code",
   "execution_count": null,
   "id": "88eb46c3",
   "metadata": {},
   "outputs": [],
   "source": [
    "r.text"
   ]
  },
  {
   "cell_type": "code",
   "execution_count": null,
   "id": "32ee6750",
   "metadata": {},
   "outputs": [],
   "source": [
    "r.url"
   ]
  },
  {
   "cell_type": "code",
   "execution_count": null,
   "id": "61b66d9a",
   "metadata": {},
   "outputs": [],
   "source": []
  }
 ],
 "metadata": {
  "kernelspec": {
   "display_name": "Python 3 (ipykernel)",
   "language": "python",
   "name": "python3"
  },
  "language_info": {
   "codemirror_mode": {
    "name": "ipython",
    "version": 3
   },
   "file_extension": ".py",
   "mimetype": "text/x-python",
   "name": "python",
   "nbconvert_exporter": "python",
   "pygments_lexer": "ipython3",
   "version": "3.8.11"
  }
 },
 "nbformat": 4,
 "nbformat_minor": 5
}
