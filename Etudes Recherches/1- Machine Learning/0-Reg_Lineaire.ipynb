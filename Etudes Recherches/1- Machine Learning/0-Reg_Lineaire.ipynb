{
 "cells": [
  {
   "cell_type": "code",
   "execution_count": 1,
   "id": "8aa34ed7-d88d-41a4-8217-a7a1ae7f3eb4",
   "metadata": {},
   "outputs": [],
   "source": [
    "#Regréssion linéaire\n",
    "\n",
    "import numpy as np\n",
    "from sklearn.datasets import make_regression\n",
    "import matplotlib.pyplot as plt"
   ]
  },
  {
   "cell_type": "code",
   "execution_count": 2,
   "id": "85cf9f7a-6193-4314-a9ea-5cbc0fc5fae2",
   "metadata": {},
   "outputs": [],
   "source": [
    "#Etape 1: Générer un dataset aléatoire grâce à sklearn : make_regression\n",
    "x , y = make_regression(n_samples=100, n_features=1, noise = 10)"
   ]
  },
  {
   "cell_type": "code",
   "execution_count": 3,
   "id": "879f8ce8-f885-4a32-b206-6be9fb95b4a5",
   "metadata": {},
   "outputs": [
    {
     "data": {
      "text/plain": [
       "<matplotlib.collections.PathCollection at 0x1abf434cd30>"
      ]
     },
     "execution_count": 3,
     "metadata": {},
     "output_type": "execute_result"
    },
    {
     "data": {
      "image/png": "[encoded data removed]",
      "text/plain": [
       "<Figure size 432x288 with 1 Axes>"
      ]
     },
     "metadata": {
      "needs_background": "light"
     },
     "output_type": "display_data"
    }
   ],
   "source": [
    "plt.scatter(x,y)"
   ]
  },
  {
   "cell_type": "code",
   "execution_count": 4,
   "id": "1de52783-d675-4ecd-9c8b-8c0200878d71",
   "metadata": {},
   "outputs": [
    {
     "name": "stdout",
     "output_type": "stream",
     "text": [
      "(100, 1)\n",
      "(100,)\n"
     ]
    }
   ],
   "source": [
    "print(x.shape)\n",
    "print(y.shape)"
   ]
  },
  {
   "cell_type": "code",
   "execution_count": 6,
   "id": "db174084-9efe-47c8-9569-4ee8e8248041",
   "metadata": {},
   "outputs": [
    {
     "name": "stdout",
     "output_type": "stream",
     "text": [
      "(100, 1)\n"
     ]
    }
   ],
   "source": [
    "y = y.reshape(y.shape[0],1)\n",
    "print(y.shape)"
   ]
  },
  {
   "cell_type": "code",
   "execution_count": 13,
   "id": "775e5186-69c7-4f20-b43f-37b9a1c1408d",
   "metadata": {},
   "outputs": [
    {
     "data": {
      "text/plain": [
       "(100, 2)"
      ]
     },
     "execution_count": 13,
     "metadata": {},
     "output_type": "execute_result"
    }
   ],
   "source": [
    "#matrice X \n",
    "X = np.hstack((x , np.ones(x.shape)))\n",
    "X.shape"
   ]
  },
  {
   "cell_type": "code",
   "execution_count": 14,
   "id": "a895cb31-2bf1-42a7-a572-53b4a9038936",
   "metadata": {},
   "outputs": [
    {
     "data": {
      "text/plain": [
       "(2, 1)"
      ]
     },
     "execution_count": 14,
     "metadata": {},
     "output_type": "execute_result"
    }
   ],
   "source": [
    "#Initialiser theta avec des paramètres aléatoires\n",
    "theta = np.random.randn(2,1)\n",
    "theta.shape"
   ]
  },
  {
   "cell_type": "code",
   "execution_count": 15,
   "id": "5b26681c-b594-4b98-a06a-17d0de4741ad",
   "metadata": {},
   "outputs": [
    {
     "data": {
      "text/plain": [
       "array([[ 1.0699659 ],\n",
       "       [-1.37319478]])"
      ]
     },
     "execution_count": 15,
     "metadata": {},
     "output_type": "execute_result"
    }
   ],
   "source": [
    "theta"
   ]
  },
  {
   "cell_type": "code",
   "execution_count": 16,
   "id": "681e4153-85f9-41ef-a9a6-8eff40606409",
   "metadata": {},
   "outputs": [],
   "source": [
    "#Etape 2: modèle\n",
    "#créer fonction X produit theta\n",
    "def model(X, theta):\n",
    "    return X.dot(theta)"
   ]
  },
  {
   "cell_type": "code",
   "execution_count": 23,
   "id": "914bb7bf-c451-4b04-a959-0f6df711ffa0",
   "metadata": {},
   "outputs": [
    {
     "data": {
      "text/plain": [
       "<matplotlib.collections.PathCollection at 0x1abf5d28910>"
      ]
     },
     "execution_count": 23,
     "metadata": {},
     "output_type": "execute_result"
    },
    {
     "data": {
      "image/png": "[encoded data removed]",
      "text/plain": [
       "<Figure size 432x288 with 1 Axes>"
      ]
     },
     "metadata": {
      "needs_background": "light"
     },
     "output_type": "display_data"
    }
   ],
   "source": [
    "plt.plot(x,model(X, theta), c='r')\n",
    "plt.scatter(y,x)"
   ]
  },
  {
   "cell_type": "code",
   "execution_count": 24,
   "id": "70c36f1c-f694-4770-abeb-0306a62f49c8",
   "metadata": {},
   "outputs": [],
   "source": [
    "#Fonction cout (erreur quadratique moyenne) >> on veut que ça tende vers 0\n",
    "def cost_function(X, y, theta):\n",
    "    m = len(y)\n",
    "    return 1/(2*m) * np.sum((model(X,theta)-y)**2)"
   ]
  },
  {
   "cell_type": "code",
   "execution_count": 25,
   "id": "e1e9ce16-1bce-4eca-add5-135d2a0de37e",
   "metadata": {},
   "outputs": [
    {
     "data": {
      "text/plain": [
       "3507.389798089128"
      ]
     },
     "execution_count": 25,
     "metadata": {},
     "output_type": "execute_result"
    }
   ],
   "source": [
    "cost_function(X,y,theta)"
   ]
  },
  {
   "cell_type": "code",
   "execution_count": 35,
   "id": "9d92910d-a28a-4690-a9af-23f207893e16",
   "metadata": {},
   "outputs": [],
   "source": [
    "#Gradient et Descente de gradient\n",
    "#Gradient\n",
    "def grad(X,y,theta):\n",
    "    m=len(y)\n",
    "    return (1/m)*X.T.dot( model(X,theta) - y)"
   ]
  },
  {
   "cell_type": "code",
   "execution_count": 36,
   "id": "15d17f45-615e-45a1-8322-4773756fd812",
   "metadata": {},
   "outputs": [
    {
     "data": {
      "text/plain": [
       "array([[-75.33450648],\n",
       "       [  6.56444601]])"
      ]
     },
     "execution_count": 36,
     "metadata": {},
     "output_type": "execute_result"
    }
   ],
   "source": [
    "grad(X,y,theta)"
   ]
  },
  {
   "cell_type": "code",
   "execution_count": 49,
   "id": "ee50f3bf-a214-4e91-a555-6124b2e2ef9b",
   "metadata": {},
   "outputs": [],
   "source": [
    "#Algo de descente de gradient\n",
    "def gradient_descent(X,y,theta, learning_rate, n_iterations):\n",
    "    \n",
    "    #---------------on a rajouté ces 2 lignes pour savoir si la machine a réussi à bien apprendre----------\n",
    "    cost_history = np.zeros(n_iterations)\n",
    "    for i in range (0, n_iterations):\n",
    "        theta = theta - learning_rate * grad(X,y,theta)\n",
    "        #------------ on va insérer dans ce vecteur (après chaque itération) -----------\n",
    "        cost_history[i]= cost_function(X,y,theta)\n",
    "        \n",
    "    return theta , cost_history"
   ]
  },
  {
   "cell_type": "code",
   "execution_count": 50,
   "id": "20a20d9e-ee42-4ada-b58e-0d744f674e7e",
   "metadata": {},
   "outputs": [
    {
     "data": {
      "text/plain": [
       "array([[92.81259308],\n",
       "       [ 0.17902874]])"
      ]
     },
     "execution_count": 50,
     "metadata": {},
     "output_type": "execute_result"
    }
   ],
   "source": [
    "#Machine Learning\n",
    "theta_final ,cost_history = gradient_descent(X,y,theta, learning_rate=0.05, n_iterations=400)\n",
    "theta_final"
   ]
  },
  {
   "cell_type": "code",
   "execution_count": 51,
   "id": "e8090f8f-d0a1-421e-91e9-d47c5de1ea66",
   "metadata": {},
   "outputs": [
    {
     "data": {
      "text/plain": [
       "<matplotlib.collections.PathCollection at 0x1abf76f8a00>"
      ]
     },
     "execution_count": 51,
     "metadata": {},
     "output_type": "execute_result"
    },
    {
     "data": {
      "image/png": "[encoded data removed]",
      "text/plain": [
       "<Figure size 432x288 with 1 Axes>"
      ]
     },
     "metadata": {
      "needs_background": "light"
     },
     "output_type": "display_data"
    }
   ],
   "source": [
    "#vérification de l'apprentissage du madèle\n",
    "predictions = model(X,theta_final)\n",
    "plt.plot(x,predictions,c='r')\n",
    "plt.scatter(x,y)"
   ]
  },
  {
   "cell_type": "code",
   "execution_count": 53,
   "id": "234791b8-ac5b-4d0f-9b57-3d390e5b81d9",
   "metadata": {},
   "outputs": [
    {
     "data": {
      "text/plain": [
       "[<matplotlib.lines.Line2D at 0x1abf5cd9a60>]"
      ]
     },
     "execution_count": 53,
     "metadata": {},
     "output_type": "execute_result"
    },
    {
     "data": {
      "image/png": "[encoded data removed]",
      "text/plain": [
       "<Figure size 432x288 with 1 Axes>"
      ]
     },
     "metadata": {
      "needs_background": "light"
     },
     "output_type": "display_data"
    }
   ],
   "source": [
    "#cost_history ou visualiser la courbe d'apprentissage de notre algo (ici à partir de la 80ème itération on aurai pu aréter les itérations) \n",
    "plt.plot(range(400), cost_history)"
   ]
  },
  {
   "cell_type": "code",
   "execution_count": 54,
   "id": "63911f0f-01d0-4573-8ac6-5a1c36ca998f",
   "metadata": {},
   "outputs": [],
   "source": [
    "#Coefficient de détermination (permet de montrer la performance de notre modèle- plus proche de 1 plus le modèle performant)\n",
    "def coef_determination(y , pred):\n",
    "    u = ((y-pred)**2).sum()\n",
    "    v = ((y- y.mean())**2).sum()\n",
    "    return 1- u/v"
   ]
  },
  {
   "cell_type": "code",
   "execution_count": 55,
   "id": "db54bc1e-b6b3-4374-9e8e-ed67bb84d212",
   "metadata": {},
   "outputs": [
    {
     "data": {
      "text/plain": [
       "0.984075497491432"
      ]
     },
     "execution_count": 55,
     "metadata": {},
     "output_type": "execute_result"
    }
   ],
   "source": [
    "#Modèle précis à hauteur de 98,4% (il sert à le montrer au patron/collègues)\n",
    "coef_determination(y, predictions)"
   ]
  },
  {
   "cell_type": "code",
   "execution_count": null,
   "id": "dec2c1dc-27e2-476a-9bd3-d0392e1586c4",
   "metadata": {},
   "outputs": [],
   "source": []
  }
 ],
 "metadata": {
  "kernelspec": {
   "display_name": "Python 3 (ipykernel)",
   "language": "python",
   "name": "python3"
  },
  "language_info": {
   "codemirror_mode": {
    "name": "ipython",
    "version": 3
   },
   "file_extension": ".py",
   "mimetype": "text/x-python",
   "name": "python",
   "nbconvert_exporter": "python",
   "pygments_lexer": "ipython3",
   "version": "3.8.11"
  }
 },
 "nbformat": 4,
 "nbformat_minor": 5
}
