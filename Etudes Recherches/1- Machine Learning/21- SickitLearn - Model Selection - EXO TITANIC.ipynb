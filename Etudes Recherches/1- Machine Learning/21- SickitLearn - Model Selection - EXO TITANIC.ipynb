{
 "cells": [
  {
   "cell_type": "code",
   "execution_count": 1,
   "id": "5aa91de0",
   "metadata": {},
   "outputs": [],
   "source": [
    "#------------------------------------------------EXO: titanic---------------------------------------------\n",
    "import pandas as pd\n",
    "import numpy as np\n",
    "import matplotlib.pyplot as plt"
   ]
  },
  {
   "cell_type": "code",
   "execution_count": 2,
   "id": "7e80789e",
   "metadata": {},
   "outputs": [],
   "source": [
    "titanic = pd.read_excel(r'C:\\Users\\elbakkali\\Desktop\\Datasets_Machine_Learning\\titanic3.xls')"
   ]
  },
  {
   "cell_type": "code",
   "execution_count": 3,
   "id": "19ae9893",
   "metadata": {},
   "outputs": [],
   "source": [
    "titanic.drop(['name', 'ticket', 'cabin','boat', 'body', 'home.dest'], axis= 1, inplace = True)"
   ]
  },
  {
   "cell_type": "code",
   "execution_count": 4,
   "id": "f49c4f52",
   "metadata": {},
   "outputs": [],
   "source": [
    "titanic['sex'].replace(['male', 'female'],[0,1], inplace=True)"
   ]
  },
  {
   "cell_type": "code",
   "execution_count": 5,
   "id": "f1432fe5",
   "metadata": {},
   "outputs": [],
   "source": [
    "#titanic['boat'] = titanic['boat'].fillna(0)"
   ]
  },
  {
   "cell_type": "code",
   "execution_count": 6,
   "id": "27282d7f",
   "metadata": {},
   "outputs": [],
   "source": [
    " #!!!!!!!!Très utile: auto feature engineer 'embarked'\n",
    "titanic['embarked']= titanic['embarked'].astype('category').cat.codes"
   ]
  },
  {
   "cell_type": "code",
   "execution_count": 7,
   "id": "f7c6d104",
   "metadata": {},
   "outputs": [],
   "source": [
    "#d = dict(enumerate(titanic['embarked'].cat.categories))\n",
    "#print (d)\n",
    "#titanic['embarked'].cat.categories[0]"
   ]
  },
  {
   "cell_type": "code",
   "execution_count": 8,
   "id": "d38ce0a8",
   "metadata": {},
   "outputs": [
    {
     "data": {
      "text/html": [
       "<div>\n",
       "<style scoped>\n",
       "    .dataframe tbody tr th:only-of-type {\n",
       "        vertical-align: middle;\n",
       "    }\n",
       "\n",
       "    .dataframe tbody tr th {\n",
       "        vertical-align: top;\n",
       "    }\n",
       "\n",
       "    .dataframe thead th {\n",
       "        text-align: right;\n",
       "    }\n",
       "</style>\n",
       "<table border=\"1\" class=\"dataframe\">\n",
       "  <thead>\n",
       "    <tr style=\"text-align: right;\">\n",
       "      <th></th>\n",
       "      <th>pclass</th>\n",
       "      <th>survived</th>\n",
       "      <th>sex</th>\n",
       "      <th>age</th>\n",
       "      <th>sibsp</th>\n",
       "      <th>parch</th>\n",
       "      <th>fare</th>\n",
       "      <th>embarked</th>\n",
       "    </tr>\n",
       "  </thead>\n",
       "  <tbody>\n",
       "    <tr>\n",
       "      <th>count</th>\n",
       "      <td>1045.000000</td>\n",
       "      <td>1045.000000</td>\n",
       "      <td>1045.000000</td>\n",
       "      <td>1045.000000</td>\n",
       "      <td>1045.000000</td>\n",
       "      <td>1045.000000</td>\n",
       "      <td>1045.000000</td>\n",
       "      <td>1045.000000</td>\n",
       "    </tr>\n",
       "    <tr>\n",
       "      <th>mean</th>\n",
       "      <td>2.206699</td>\n",
       "      <td>0.408612</td>\n",
       "      <td>0.371292</td>\n",
       "      <td>29.851834</td>\n",
       "      <td>0.503349</td>\n",
       "      <td>0.421053</td>\n",
       "      <td>36.686080</td>\n",
       "      <td>1.540670</td>\n",
       "    </tr>\n",
       "    <tr>\n",
       "      <th>std</th>\n",
       "      <td>0.841542</td>\n",
       "      <td>0.491813</td>\n",
       "      <td>0.483382</td>\n",
       "      <td>14.389201</td>\n",
       "      <td>0.912471</td>\n",
       "      <td>0.840052</td>\n",
       "      <td>55.732533</td>\n",
       "      <td>0.816216</td>\n",
       "    </tr>\n",
       "    <tr>\n",
       "      <th>min</th>\n",
       "      <td>1.000000</td>\n",
       "      <td>0.000000</td>\n",
       "      <td>0.000000</td>\n",
       "      <td>0.166700</td>\n",
       "      <td>0.000000</td>\n",
       "      <td>0.000000</td>\n",
       "      <td>0.000000</td>\n",
       "      <td>-1.000000</td>\n",
       "    </tr>\n",
       "    <tr>\n",
       "      <th>25%</th>\n",
       "      <td>1.000000</td>\n",
       "      <td>0.000000</td>\n",
       "      <td>0.000000</td>\n",
       "      <td>21.000000</td>\n",
       "      <td>0.000000</td>\n",
       "      <td>0.000000</td>\n",
       "      <td>8.050000</td>\n",
       "      <td>1.000000</td>\n",
       "    </tr>\n",
       "    <tr>\n",
       "      <th>50%</th>\n",
       "      <td>2.000000</td>\n",
       "      <td>0.000000</td>\n",
       "      <td>0.000000</td>\n",
       "      <td>28.000000</td>\n",
       "      <td>0.000000</td>\n",
       "      <td>0.000000</td>\n",
       "      <td>15.750000</td>\n",
       "      <td>2.000000</td>\n",
       "    </tr>\n",
       "    <tr>\n",
       "      <th>75%</th>\n",
       "      <td>3.000000</td>\n",
       "      <td>1.000000</td>\n",
       "      <td>1.000000</td>\n",
       "      <td>39.000000</td>\n",
       "      <td>1.000000</td>\n",
       "      <td>1.000000</td>\n",
       "      <td>35.500000</td>\n",
       "      <td>2.000000</td>\n",
       "    </tr>\n",
       "    <tr>\n",
       "      <th>max</th>\n",
       "      <td>3.000000</td>\n",
       "      <td>1.000000</td>\n",
       "      <td>1.000000</td>\n",
       "      <td>80.000000</td>\n",
       "      <td>8.000000</td>\n",
       "      <td>6.000000</td>\n",
       "      <td>512.329200</td>\n",
       "      <td>2.000000</td>\n",
       "    </tr>\n",
       "  </tbody>\n",
       "</table>\n",
       "</div>"
      ],
      "text/plain": [
       "            pclass     survived          sex          age        sibsp  \\\n",
       "count  1045.000000  1045.000000  1045.000000  1045.000000  1045.000000   \n",
       "mean      2.206699     0.408612     0.371292    29.851834     0.503349   \n",
       "std       0.841542     0.491813     0.483382    14.389201     0.912471   \n",
       "min       1.000000     0.000000     0.000000     0.166700     0.000000   \n",
       "25%       1.000000     0.000000     0.000000    21.000000     0.000000   \n",
       "50%       2.000000     0.000000     0.000000    28.000000     0.000000   \n",
       "75%       3.000000     1.000000     1.000000    39.000000     1.000000   \n",
       "max       3.000000     1.000000     1.000000    80.000000     8.000000   \n",
       "\n",
       "             parch         fare     embarked  \n",
       "count  1045.000000  1045.000000  1045.000000  \n",
       "mean      0.421053    36.686080     1.540670  \n",
       "std       0.840052    55.732533     0.816216  \n",
       "min       0.000000     0.000000    -1.000000  \n",
       "25%       0.000000     8.050000     1.000000  \n",
       "50%       0.000000    15.750000     2.000000  \n",
       "75%       1.000000    35.500000     2.000000  \n",
       "max       6.000000   512.329200     2.000000  "
      ]
     },
     "execution_count": 8,
     "metadata": {},
     "output_type": "execute_result"
    }
   ],
   "source": [
    "titanic.dropna(axis=0, inplace=True)\n",
    "titanic.describe()"
   ]
  },
  {
   "cell_type": "code",
   "execution_count": 9,
   "id": "0fd64f8a",
   "metadata": {},
   "outputs": [],
   "source": [
    "y = titanic['survived']"
   ]
  },
  {
   "cell_type": "code",
   "execution_count": 10,
   "id": "c17ccb53",
   "metadata": {},
   "outputs": [
    {
     "data": {
      "text/plain": [
       "0    1\n",
       "1    1\n",
       "2    0\n",
       "3    0\n",
       "4    0\n",
       "Name: survived, dtype: int64"
      ]
     },
     "execution_count": 10,
     "metadata": {},
     "output_type": "execute_result"
    }
   ],
   "source": [
    "X= titanic.drop(['survived'], axis = 1)\n",
    "y.head()"
   ]
  },
  {
   "cell_type": "code",
   "execution_count": 11,
   "id": "36e3efb6",
   "metadata": {},
   "outputs": [],
   "source": [
    "from sklearn.model_selection import train_test_split"
   ]
  },
  {
   "cell_type": "code",
   "execution_count": 12,
   "id": "7484bc3a",
   "metadata": {},
   "outputs": [],
   "source": [
    "X_train, X_test, y_train, y_test = train_test_split(X,y)"
   ]
  },
  {
   "cell_type": "code",
   "execution_count": 13,
   "id": "3f9fe202",
   "metadata": {},
   "outputs": [
    {
     "name": "stdout",
     "output_type": "stream",
     "text": [
      "(783, 7)\n",
      "(262, 7)\n",
      "(783,)\n",
      "(262,)\n"
     ]
    }
   ],
   "source": [
    "print(X_train.shape)\n",
    "print(X_test.shape)\n",
    "print(y_train.shape)\n",
    "print(y_test.shape)"
   ]
  },
  {
   "cell_type": "code",
   "execution_count": 14,
   "id": "ea411701",
   "metadata": {},
   "outputs": [],
   "source": [
    "from sklearn.neighbors import KNeighborsClassifier\n",
    "from sklearn.model_selection import GridSearchCV\n",
    "\n",
    "#y_train = y_train.values.reshape(y_train.shape[0],1)\n",
    "#y_train.shape\n",
    "#y_test = y_test.values.reshape(y_test.shape[0],1)\n",
    "#y_test.shape"
   ]
  },
  {
   "cell_type": "code",
   "execution_count": 15,
   "id": "e5ed4eda",
   "metadata": {},
   "outputs": [],
   "source": [
    "param_grid = {'n_neighbors' : np.arange(1,20),\n",
    "                'metric': ['euclidean', 'manhattan'],\n",
    "                 'weights' : ['uniform', 'distance'],\n",
    "                  'algorithm' :['auto', 'ball_tree', 'kd_tree', 'brute']    \n",
    "}"
   ]
  },
  {
   "cell_type": "code",
   "execution_count": 16,
   "id": "46e2302d",
   "metadata": {},
   "outputs": [],
   "source": [
    "kn = GridSearchCV(KNeighborsClassifier(), param_grid, cv=5)"
   ]
  },
  {
   "cell_type": "code",
   "execution_count": null,
   "id": "697c839e",
   "metadata": {},
   "outputs": [],
   "source": [
    "kn.fit(X_train, y_train)"
   ]
  },
  {
   "cell_type": "code",
   "execution_count": null,
   "id": "da115349",
   "metadata": {},
   "outputs": [],
   "source": [
    "kn.best_score_"
   ]
  },
  {
   "cell_type": "code",
   "execution_count": null,
   "id": "c6bc51aa",
   "metadata": {},
   "outputs": [],
   "source": [
    "kn.best_params_"
   ]
  },
  {
   "cell_type": "code",
   "execution_count": null,
   "id": "8a8f46e9",
   "metadata": {},
   "outputs": [],
   "source": [
    "kn_titanic = kn.best_estimator_"
   ]
  },
  {
   "cell_type": "code",
   "execution_count": null,
   "id": "4ceb2470",
   "metadata": {},
   "outputs": [],
   "source": [
    "kn_titanic.score(X_train,y_train)"
   ]
  },
  {
   "cell_type": "code",
   "execution_count": null,
   "id": "5524d8e8",
   "metadata": {},
   "outputs": [],
   "source": [
    "kn_titanic.score(X_test,y_test)"
   ]
  },
  {
   "cell_type": "code",
   "execution_count": null,
   "id": "6f8f0601",
   "metadata": {},
   "outputs": [],
   "source": [
    "#Validation cuvre >> overfitting ou underfitting\n",
    "from sklearn.model_selection import validation_curve"
   ]
  },
  {
   "cell_type": "code",
   "execution_count": null,
   "id": "f1bdb16d",
   "metadata": {},
   "outputs": [],
   "source": [
    "param_range= np.arange(1,20)\n",
    "\n",
    "train_score, val_score = validation_curve(kn_titanic, X_train, y_train, 'n_neighbors' ,param_range , cv=5 )"
   ]
  },
  {
   "cell_type": "code",
   "execution_count": null,
   "id": "56c94eed",
   "metadata": {},
   "outputs": [],
   "source": [
    "plt.plot(param_range, train_score.mean(axis= 1), label='training')\n",
    "plt.plot(param_range, val_score.mean(axis=1), label='validation', c='r')"
   ]
  },
  {
   "cell_type": "code",
   "execution_count": 27,
   "id": "72196901",
   "metadata": {},
   "outputs": [],
   "source": [
    "#Learning curve\n",
    "from sklearn.model_selection import learning_curve\n",
    "\n",
    "N, train_sc, val_sc = learning_curve(kn_titanic, X_train, y_train, train_sizes=np.linspace(0.2,1,5), cv=5)"
   ]
  },
  {
   "cell_type": "code",
   "execution_count": 28,
   "id": "2bcfb2f1",
   "metadata": {},
   "outputs": [
    {
     "data": {
      "text/plain": [
       "<matplotlib.legend.Legend at 0x19851e46e50>"
      ]
     },
     "execution_count": 28,
     "metadata": {},
     "output_type": "execute_result"
    },
    {
     "data": {
      "image/png": "[encoded data removed]",
      "text/plain": [
       "<Figure size 432x288 with 1 Axes>"
      ]
     },
     "metadata": {
      "needs_background": "light"
     },
     "output_type": "display_data"
    }
   ],
   "source": [
    "plt.plot(N, train_sc.mean(axis = 1), label = 'train')\n",
    "plt.plot(N, val_sc.mean(axis= 1), label= 'validation', c='orange')\n",
    "plt.legend()\n",
    "\n",
    "#Possibilité d\"améliorer le modèle avec plus de données :)"
   ]
  },
  {
   "cell_type": "code",
   "execution_count": null,
   "id": "d4755b7c",
   "metadata": {},
   "outputs": [],
   "source": []
  },
  {
   "cell_type": "code",
   "execution_count": null,
   "id": "48befd2e",
   "metadata": {},
   "outputs": [],
   "source": []
  },
  {
   "cell_type": "code",
   "execution_count": 29,
   "id": "a6928a79",
   "metadata": {},
   "outputs": [],
   "source": [
    "#----------------Neural-Network\n",
    "from sklearn.neural_network import MLPClassifier"
   ]
  },
  {
   "cell_type": "code",
   "execution_count": 30,
   "id": "420bb62a",
   "metadata": {},
   "outputs": [],
   "source": [
    "NN = MLPClassifier(solver='lbfgs', alpha=0.006, hidden_layer_sizes=(7, 2), random_state=1)"
   ]
  },
  {
   "cell_type": "code",
   "execution_count": 31,
   "id": "bc0cedd6",
   "metadata": {},
   "outputs": [
    {
     "name": "stderr",
     "output_type": "stream",
     "text": [
      "C:\\Users\\elbakkali\\anaconda3\\lib\\site-packages\\sklearn\\neural_network\\_multilayer_perceptron.py:500: ConvergenceWarning: lbfgs failed to converge (status=1):\n",
      "STOP: TOTAL NO. of ITERATIONS REACHED LIMIT.\n",
      "\n",
      "Increase the number of iterations (max_iter) or scale the data as shown in:\n",
      "    https://scikit-learn.org/stable/modules/preprocessing.html\n",
      "  self.n_iter_ = _check_optimize_result(\"lbfgs\", opt_res, self.max_iter)\n"
     ]
    },
    {
     "data": {
      "text/plain": [
       "MLPClassifier(alpha=0.006, hidden_layer_sizes=(7, 2), random_state=1,\n",
       "              solver='lbfgs')"
      ]
     },
     "execution_count": 31,
     "metadata": {},
     "output_type": "execute_result"
    }
   ],
   "source": [
    "NN.fit(X_train, y_train)"
   ]
  },
  {
   "cell_type": "code",
   "execution_count": 32,
   "id": "5c937a39",
   "metadata": {},
   "outputs": [
    {
     "data": {
      "text/plain": [
       "0.8007662835249042"
      ]
     },
     "execution_count": 32,
     "metadata": {},
     "output_type": "execute_result"
    }
   ],
   "source": [
    "NN.score(X_train,y_train)"
   ]
  },
  {
   "cell_type": "code",
   "execution_count": 33,
   "id": "378bba41",
   "metadata": {},
   "outputs": [
    {
     "data": {
      "text/plain": [
       "0.7786259541984732"
      ]
     },
     "execution_count": 33,
     "metadata": {},
     "output_type": "execute_result"
    }
   ],
   "source": [
    "NN.score(X_test,y_test)"
   ]
  },
  {
   "cell_type": "code",
   "execution_count": null,
   "id": "731b5d8f",
   "metadata": {},
   "outputs": [],
   "source": []
  },
  {
   "cell_type": "code",
   "execution_count": null,
   "id": "744da179",
   "metadata": {},
   "outputs": [],
   "source": []
  },
  {
   "cell_type": "code",
   "execution_count": 36,
   "id": "800e240f",
   "metadata": {},
   "outputs": [],
   "source": [
    "#-----------LinearSVC (Support Vector Machine)\n",
    "from sklearn.svm import LinearSVC "
   ]
  },
  {
   "cell_type": "code",
   "execution_count": 43,
   "id": "49066953",
   "metadata": {},
   "outputs": [],
   "source": [
    "linear_svm = LinearSVC(max_iter=10000)"
   ]
  },
  {
   "cell_type": "code",
   "execution_count": 44,
   "id": "b5a2cba9",
   "metadata": {},
   "outputs": [
    {
     "name": "stderr",
     "output_type": "stream",
     "text": [
      "C:\\Users\\elbakkali\\anaconda3\\lib\\site-packages\\sklearn\\svm\\_base.py:985: ConvergenceWarning: Liblinear failed to converge, increase the number of iterations.\n",
      "  warnings.warn(\"Liblinear failed to converge, increase \"\n"
     ]
    },
    {
     "data": {
      "text/plain": [
       "LinearSVC(max_iter=10000)"
      ]
     },
     "execution_count": 44,
     "metadata": {},
     "output_type": "execute_result"
    }
   ],
   "source": [
    "linear_svm.fit(X_train,y_train)"
   ]
  },
  {
   "cell_type": "code",
   "execution_count": null,
   "id": "503ad8e3",
   "metadata": {},
   "outputs": [],
   "source": []
  }
 ],
 "metadata": {
  "kernelspec": {
   "display_name": "Python 3",
   "language": "python",
   "name": "python3"
  },
  "language_info": {
   "codemirror_mode": {
    "name": "ipython",
    "version": 3
   },
   "file_extension": ".py",
   "mimetype": "text/x-python",
   "name": "python",
   "nbconvert_exporter": "python",
   "pygments_lexer": "ipython3",
   "version": "3.8.8"
  }
 },
 "nbformat": 4,
 "nbformat_minor": 5
}
