{
 "cells": [
  {
   "cell_type": "code",
   "execution_count": 2,
   "id": "e748d73b",
   "metadata": {},
   "outputs": [],
   "source": [
    "import pandas as pd \n",
    "import numpy as np\n",
    "import matplotlib.pyplot as plt\n",
    "from sklearn.datasets import make_regression"
   ]
  },
  {
   "cell_type": "code",
   "execution_count": 15,
   "id": "9185b2c8",
   "metadata": {},
   "outputs": [],
   "source": [
    "X, y = make_regression(n_samples=100, n_features=3 , noise=5)"
   ]
  },
  {
   "cell_type": "code",
   "execution_count": 20,
   "id": "d1d249c3",
   "metadata": {},
   "outputs": [
    {
     "data": {
      "text/plain": [
       "<matplotlib.collections.PathCollection at 0x28add8131f0>"
      ]
     },
     "execution_count": 20,
     "metadata": {},
     "output_type": "execute_result"
    },
    {
     "data": {
      "image/png": "[encoded data removed]",
      "text/plain": [
       "<Figure size 432x288 with 1 Axes>"
      ]
     },
     "metadata": {
      "needs_background": "light"
     },
     "output_type": "display_data"
    }
   ],
   "source": [
    "plt.scatter(X[:,0], X[:,1], c=y, cmap=plt.cm.Paired)"
   ]
  },
  {
   "cell_type": "code",
   "execution_count": 30,
   "id": "9dd4ad85",
   "metadata": {},
   "outputs": [],
   "source": [
    "from sklearn.linear_model import SGDRegressor"
   ]
  },
  {
   "cell_type": "code",
   "execution_count": 31,
   "id": "65bf1b0d",
   "metadata": {},
   "outputs": [],
   "source": [
    "sgdr = SGDRegressor()"
   ]
  },
  {
   "cell_type": "code",
   "execution_count": 32,
   "id": "516eae5e",
   "metadata": {},
   "outputs": [],
   "source": [
    "from sklearn.model_selection import train_test_split"
   ]
  },
  {
   "cell_type": "code",
   "execution_count": 95,
   "id": "585a5b83",
   "metadata": {},
   "outputs": [],
   "source": [
    "X_train, X_test, y_train, y_test = train_test_split(X, y, test_size=0.2, random_state=0,shuffle=True)"
   ]
  },
  {
   "cell_type": "code",
   "execution_count": 96,
   "id": "dd34be4f",
   "metadata": {},
   "outputs": [
    {
     "data": {
      "text/plain": [
       "SGDRegressor()"
      ]
     },
     "execution_count": 96,
     "metadata": {},
     "output_type": "execute_result"
    }
   ],
   "source": [
    "sgdr.fit(X_train, y_train)"
   ]
  },
  {
   "cell_type": "code",
   "execution_count": 97,
   "id": "6a53301b",
   "metadata": {},
   "outputs": [
    {
     "name": "stdout",
     "output_type": "stream",
     "text": [
      "[[ 1.08080275e+00 -5.07621810e-01  3.44011783e-01]\n",
      " [ 2.70062677e-01 -3.86114006e-01 -1.57339963e+00]\n",
      " [-9.98073100e-01  1.01924221e-01 -8.91693926e-01]\n",
      " [-4.96311985e-01 -1.13480912e-01 -3.09273760e-01]\n",
      " [-1.76488296e+00 -3.34770193e-01 -3.88894363e-01]\n",
      " [ 1.79953934e+00 -8.37500607e-02  4.65008728e-01]\n",
      " [-1.54680260e+00  1.05926204e-01 -1.08887931e+00]\n",
      " [ 1.40580930e+00 -1.41098722e+00  3.53838530e-01]\n",
      " [-1.35229780e-01 -5.06879184e-01  3.53779608e-02]\n",
      " [ 1.01174650e-01 -5.61466893e-01 -1.31503683e+00]\n",
      " [-2.22278445e-01  5.46578489e-01 -1.88653238e+00]\n",
      " [ 7.75619979e-01 -3.09059234e-01 -4.55282349e-01]\n",
      " [-1.26412943e+00  1.17245780e+00 -1.65622087e+00]\n",
      " [-4.79514963e-01 -2.45762327e-01 -5.09093289e-01]\n",
      " [ 7.44755382e-01 -1.08917472e+00 -5.90415447e-01]\n",
      " [ 1.60276543e+00 -1.81567666e+00 -4.33241487e-01]\n",
      " [ 2.82829307e-01 -1.30944107e+00 -5.19511394e-01]\n",
      " [ 9.77670419e-01 -3.05119024e-01  2.12814342e-01]\n",
      " [ 2.07780574e+00 -3.64617005e-03  1.56969330e+00]\n",
      " [ 1.13905078e+00  4.93957771e-01  7.03206201e-01]\n",
      " [ 7.82893323e-01 -8.38532687e-02  1.76878934e+00]\n",
      " [-1.73146771e-01 -1.18685587e+00  1.40329571e+00]\n",
      " [-6.75130784e-01 -1.47692401e+00  2.17794212e-01]\n",
      " [ 5.30396436e-01 -9.01701386e-03  2.18830718e-01]\n",
      " [-8.05253870e-01 -1.55261583e+00  2.80143352e-01]\n",
      " [-9.71664094e-01  9.64726192e-01  6.71574432e-01]\n",
      " [ 5.77192594e-01  1.82975730e+00 -1.78383880e+00]\n",
      " [ 5.46780804e-01 -1.58669914e-01 -7.31660828e-01]\n",
      " [ 2.29618298e-01 -1.16815370e+00  8.10774105e-01]\n",
      " [-4.16575345e-01 -1.79616824e+00 -1.19324540e-01]\n",
      " [-5.87442876e-01 -1.22058682e+00  5.26992364e-02]\n",
      " [ 3.06103102e-01  5.02467534e-01  3.62202313e-01]\n",
      " [ 7.77476033e-01 -2.24993348e+00  1.79404451e+00]\n",
      " [ 7.68340081e-01  4.62407457e-01  1.39795615e+00]\n",
      " [ 5.41077032e-01  7.17816175e-02  1.16393516e+00]\n",
      " [ 1.08163857e-02 -7.88704217e-01  2.59053693e-01]\n",
      " [ 1.77146359e-01 -5.67384038e-01  5.25528567e-01]\n",
      " [ 9.73679244e-01 -7.11072517e-01 -4.36835020e-01]\n",
      " [-1.28892559e+00  1.75435862e-01 -1.29337476e+00]\n",
      " [ 2.01852445e+00  8.42712341e-01 -1.11794555e-01]\n",
      " [ 5.14791226e-01  5.37462735e-01 -1.08827910e+00]\n",
      " [ 6.59067894e-01  1.66648394e+00 -5.38072731e-01]\n",
      " [ 3.19805772e-01  1.32789983e+00 -2.68135816e-01]\n",
      " [-1.10433048e+00  7.08983575e-01 -1.22655247e-01]\n",
      " [-2.11419911e-01  4.97044580e-02  2.05125748e-02]\n",
      " [-6.05385018e-01  1.46455062e+00 -5.27596137e-01]\n",
      " [-3.34904983e-01  5.32604298e-01 -2.37647632e+00]\n",
      " [ 3.41403770e+00 -3.15308444e-01  8.19437683e-02]\n",
      " [-2.08678023e+00  1.84135765e+00 -2.94412193e-01]\n",
      " [-3.73146374e-01 -1.98973528e+00  1.50457834e+00]\n",
      " [-5.46553931e-02 -1.64394707e+00  4.75858666e-02]\n",
      " [ 7.49729503e-01  6.52553414e-01 -8.19479432e-01]\n",
      " [ 1.43398601e+00 -1.65735021e-01  8.64738563e-01]\n",
      " [-1.90839896e+00  4.92784763e-01  1.30971790e+00]\n",
      " [ 6.82145886e-01 -8.66450471e-01 -9.99832288e-01]\n",
      " [-9.65683084e-01 -1.24619684e+00 -8.79967514e-02]\n",
      " [-1.42096243e+00 -6.80430131e-01  2.73967559e-01]\n",
      " [-6.57971606e-01  4.40882416e-01  5.93970872e-01]\n",
      " [ 6.45707592e-01  3.89911693e-01  1.41948114e+00]\n",
      " [-1.03254793e+00  1.95846147e-01 -1.91610340e-01]\n",
      " [-6.98881037e-01  3.02928345e-02  2.31900006e-01]\n",
      " [-8.80238224e-01 -3.50994055e-01  1.77684421e+00]\n",
      " [ 1.80693460e-01  9.69666797e-01 -4.43096862e-01]\n",
      " [-1.60571758e+00  9.02116312e-01  7.87929832e-01]\n",
      " [ 7.61605110e-01  9.89310303e-01  7.57430991e-01]\n",
      " [ 5.21639737e-01 -6.76381188e-01 -4.42605482e-01]\n",
      " [-1.27310228e+00  3.93245523e-01 -2.51270400e+00]\n",
      " [ 1.86201304e+00  4.49717197e-01  1.27894689e+00]\n",
      " [-3.52273115e-01 -1.79896433e+00 -1.30490951e+00]\n",
      " [ 8.23699175e-01  1.18708093e+00 -1.80619567e+00]\n",
      " [-5.91815393e-01  4.52981257e-01 -1.10514337e-01]\n",
      " [-8.89877567e-02 -1.33936040e+00 -2.63231999e+00]\n",
      " [ 1.34309727e+00 -5.00195954e-01 -3.41334356e-01]\n",
      " [-1.28221570e+00  1.08351604e+00 -1.73080901e+00]\n",
      " [-7.83346123e-01  1.46527996e+00  8.57344748e-01]\n",
      " [ 1.15526777e+00  1.27883265e+00 -2.42227187e+00]\n",
      " [ 7.52493268e-01 -4.67339399e-01  5.27344314e-01]\n",
      " [ 9.83969505e-02  8.29111909e-02  1.58906823e+00]\n",
      " [-4.30871878e-01 -1.78480221e+00 -6.50971432e-04]\n",
      " [ 3.72378173e-01 -6.10724868e-01 -6.60964637e-02]\n",
      " [ 2.26760084e+00  3.61432843e-01 -1.28785886e-01]\n",
      " [-4.30621562e-01  1.45437078e+00  3.30562031e-01]\n",
      " [-2.02688300e+00 -2.01362437e+00  2.61048733e-04]\n",
      " [ 1.83428752e-01  7.21455248e-01  3.79810155e-01]\n",
      " [-1.05430942e+00  9.89379161e-01 -4.05517976e-01]\n",
      " [-3.11799082e-01 -4.90526998e-02  3.08179165e-01]\n",
      " [ 6.10014144e-02 -1.98043510e+00  1.18736952e+00]\n",
      " [-5.33604020e-01 -1.51600521e+00  6.11320744e-01]\n",
      " [ 8.85040267e-01 -6.53005656e-02  2.16093219e+00]\n",
      " [-4.54209139e-01 -4.23557039e-02  1.35206078e-02]\n",
      " [-5.39690578e-01  7.00856123e-01 -5.23224829e-01]\n",
      " [ 7.62079870e-01  6.16830569e-01  5.04573242e-01]\n",
      " [-6.19962947e-01  6.80562553e-01  9.33717137e-01]\n",
      " [ 4.65794912e-01 -1.38188131e+00  1.14882875e+00]\n",
      " [ 1.77353889e-01  6.78075534e-01  1.55315909e+00]\n",
      " [ 4.32282860e-01 -1.15874062e-01 -1.39648693e+00]\n",
      " [-2.22822109e-02 -1.05951586e+00 -1.21338983e-01]\n",
      " [ 1.53963679e+00 -2.49200735e-01  1.12284543e+00]\n",
      " [-1.21804607e+00  1.67250443e+00  1.48123286e+00]\n",
      " [-2.20626375e+00  1.07919653e+00 -2.83980098e-01]] [  31.75312908 -108.75070614  -75.98223708  -29.13904994  -58.63380363\n",
      "   65.18224223  -88.59495381   21.08907032   -7.06074663  -96.10018285\n",
      " -117.06310357  -33.14302628 -111.61055264  -47.81013356  -51.80678862\n",
      "  -46.79550057  -68.38214077   18.50471848  137.0487516    83.46921113\n",
      "  128.09446952   66.31915502  -36.66585888   25.83756493  -27.10609169\n",
      "   54.41855914  -63.90005534  -45.23926108   34.57132179  -52.18444986\n",
      "  -33.44018592   45.33400057   80.35580776  123.27287002   85.25240208\n",
      "   -1.85600443   26.89734786  -27.50635748 -103.45273675   49.58612167\n",
      "  -58.76863122   16.43372828   33.18462605   -2.73783169    3.00345833\n",
      "   -5.96399472 -148.03176828   56.59015973  -20.71484143   50.15426309\n",
      "  -26.71763643  -20.85238145   80.28858814   72.22075114  -81.52479061\n",
      "  -49.31234253  -24.00527321   36.60611777  115.14671828  -30.32087598\n",
      "    0.69347596  108.29061971    1.47791679   43.29718271   89.73829053\n",
      "  -40.80111096 -177.58187679  126.88753917 -138.21401838  -87.34650851\n",
      "   -8.14123806 -218.22639885   -9.26917373 -111.79920856   75.67301919\n",
      " -115.07302166   45.0216987   114.21614377  -54.6459234    -2.04595283\n",
      "   38.15064612   50.6023634   -91.21925402   40.5773255   -16.25006703\n",
      "   19.64857463   27.5309186    -9.77098952  162.34776792   -5.24434345\n",
      "  -24.86423867   58.61897883   76.60301455   49.80502804  128.16300842\n",
      "  -94.80382586  -30.11521856   97.17253887  129.63024636  -33.5292194 ]\n"
     ]
    }
   ],
   "source": [
    "print(X, y)"
   ]
  },
  {
   "cell_type": "code",
   "execution_count": 98,
   "id": "39eb667d",
   "metadata": {},
   "outputs": [],
   "source": [
    "a_predire = [1, -0.5, 0.344]"
   ]
  },
  {
   "cell_type": "code",
   "execution_count": 99,
   "id": "3a56529c",
   "metadata": {},
   "outputs": [
    {
     "data": {
      "text/plain": [
       "array([[ 1.   , -0.5  ,  0.344]])"
      ]
     },
     "execution_count": 99,
     "metadata": {},
     "output_type": "execute_result"
    }
   ],
   "source": [
    "np.array(a_predire).reshape(1,-1)"
   ]
  },
  {
   "cell_type": "code",
   "execution_count": 100,
   "id": "96bed3b7",
   "metadata": {},
   "outputs": [
    {
     "data": {
      "text/plain": [
       "array([29.47439403])"
      ]
     },
     "execution_count": 100,
     "metadata": {},
     "output_type": "execute_result"
    }
   ],
   "source": [
    "sgdr.predict(np.array(a_predire).reshape(1,-1))   #31 à peut près"
   ]
  },
  {
   "cell_type": "code",
   "execution_count": 101,
   "id": "0c15e097",
   "metadata": {},
   "outputs": [],
   "source": [
    "from sklearn.model_selection import learning_curve"
   ]
  },
  {
   "cell_type": "code",
   "execution_count": 102,
   "id": "62aaa1ae",
   "metadata": {
    "scrolled": true
   },
   "outputs": [
    {
     "name": "stderr",
     "output_type": "stream",
     "text": [
      "C:\\Users\\elbakkali\\anaconda3\\lib\\site-packages\\sklearn\\linear_model\\_stochastic_gradient.py:1225: ConvergenceWarning: Maximum number of iteration reached before convergence. Consider increasing max_iter to improve the fit.\n",
      "  warnings.warn(\"Maximum number of iteration reached before \"\n",
      "C:\\Users\\elbakkali\\anaconda3\\lib\\site-packages\\sklearn\\linear_model\\_stochastic_gradient.py:1225: ConvergenceWarning: Maximum number of iteration reached before convergence. Consider increasing max_iter to improve the fit.\n",
      "  warnings.warn(\"Maximum number of iteration reached before \"\n",
      "C:\\Users\\elbakkali\\anaconda3\\lib\\site-packages\\sklearn\\linear_model\\_stochastic_gradient.py:1225: ConvergenceWarning: Maximum number of iteration reached before convergence. Consider increasing max_iter to improve the fit.\n",
      "  warnings.warn(\"Maximum number of iteration reached before \"\n",
      "C:\\Users\\elbakkali\\anaconda3\\lib\\site-packages\\sklearn\\linear_model\\_stochastic_gradient.py:1225: ConvergenceWarning: Maximum number of iteration reached before convergence. Consider increasing max_iter to improve the fit.\n",
      "  warnings.warn(\"Maximum number of iteration reached before \"\n",
      "C:\\Users\\elbakkali\\anaconda3\\lib\\site-packages\\sklearn\\linear_model\\_stochastic_gradient.py:1225: ConvergenceWarning: Maximum number of iteration reached before convergence. Consider increasing max_iter to improve the fit.\n",
      "  warnings.warn(\"Maximum number of iteration reached before \"\n",
      "C:\\Users\\elbakkali\\anaconda3\\lib\\site-packages\\sklearn\\linear_model\\_stochastic_gradient.py:1225: ConvergenceWarning: Maximum number of iteration reached before convergence. Consider increasing max_iter to improve the fit.\n",
      "  warnings.warn(\"Maximum number of iteration reached before \"\n",
      "C:\\Users\\elbakkali\\anaconda3\\lib\\site-packages\\sklearn\\linear_model\\_stochastic_gradient.py:1225: ConvergenceWarning: Maximum number of iteration reached before convergence. Consider increasing max_iter to improve the fit.\n",
      "  warnings.warn(\"Maximum number of iteration reached before \"\n",
      "C:\\Users\\elbakkali\\anaconda3\\lib\\site-packages\\sklearn\\linear_model\\_stochastic_gradient.py:1225: ConvergenceWarning: Maximum number of iteration reached before convergence. Consider increasing max_iter to improve the fit.\n",
      "  warnings.warn(\"Maximum number of iteration reached before \"\n"
     ]
    }
   ],
   "source": [
    "N , train_score, val_score= learning_curve(SGDRegressor(), X, y, train_sizes=np.linspace(0.1,1,10), cv = 5)"
   ]
  },
  {
   "cell_type": "code",
   "execution_count": 103,
   "id": "7f213b2c",
   "metadata": {
    "scrolled": false
   },
   "outputs": [
    {
     "data": {
      "text/plain": [
       "<matplotlib.legend.Legend at 0x28ae0573b50>"
      ]
     },
     "execution_count": 103,
     "metadata": {},
     "output_type": "execute_result"
    },
    {
     "data": {
      "image/png": "[encoded data removed]",
      "text/plain": [
       "<Figure size 432x288 with 1 Axes>"
      ]
     },
     "metadata": {
      "needs_background": "light"
     },
     "output_type": "display_data"
    }
   ],
   "source": [
    "plt.figure()\n",
    "plt.plot(N, train_score.mean(axis=1), label='train')\n",
    "plt.plot(N, val_score.mean(axis=1), label='validation')\n",
    "plt.legend()"
   ]
  },
  {
   "cell_type": "code",
   "execution_count": null,
   "id": "9fd14940",
   "metadata": {},
   "outputs": [],
   "source": []
  }
 ],
 "metadata": {
  "kernelspec": {
   "display_name": "Python 3 (ipykernel)",
   "language": "python",
   "name": "python3"
  },
  "language_info": {
   "codemirror_mode": {
    "name": "ipython",
    "version": 3
   },
   "file_extension": ".py",
   "mimetype": "text/x-python",
   "name": "python",
   "nbconvert_exporter": "python",
   "pygments_lexer": "ipython3",
   "version": "3.8.11"
  }
 },
 "nbformat": 4,
 "nbformat_minor": 5
}
