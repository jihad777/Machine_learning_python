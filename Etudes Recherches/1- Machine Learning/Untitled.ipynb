{
 "cells": [
  {
   "cell_type": "code",
   "execution_count": 1,
   "id": "b7bb1be7",
   "metadata": {},
   "outputs": [],
   "source": [
    "import numpy as np\n",
    "import pandas as pd\n",
    "import matplotlib.pyplot as plt"
   ]
  },
  {
   "cell_type": "code",
   "execution_count": 2,
   "id": "e7389c9f",
   "metadata": {},
   "outputs": [],
   "source": [
    "surveillance = pd.read_csv(r'C:\\Users\\elbakkali\\Desktop\\Datasets_Machine_Learning\\Surveillance.csv')"
   ]
  },
  {
   "cell_type": "code",
   "execution_count": 5,
   "id": "f5c27c1e",
   "metadata": {},
   "outputs": [
    {
     "name": "stdout",
     "output_type": "stream",
     "text": [
      "<class 'pandas.core.frame.DataFrame'>\n",
      "RangeIndex: 14 entries, 0 to 13\n",
      "Data columns (total 8 columns):\n",
      " #   Column      Non-Null Count  Dtype \n",
      "---  ------      --------------  ----- \n",
      " 0   A01         14 non-null     object\n",
      " 1   A02         14 non-null     object\n",
      " 2   A03         14 non-null     object\n",
      " 3   A04         14 non-null     object\n",
      " 4   A05         14 non-null     object\n",
      " 5   A06         14 non-null     object\n",
      " 6   A07         14 non-null     object\n",
      " 7   Categories  14 non-null     object\n",
      "dtypes: object(8)\n",
      "memory usage: 1.0+ KB\n"
     ]
    }
   ],
   "source": [
    "surveillance.info()"
   ]
  },
  {
   "cell_type": "code",
   "execution_count": null,
   "id": "7ab239a4",
   "metadata": {},
   "outputs": [],
   "source": []
  }
 ],
 "metadata": {
  "kernelspec": {
   "display_name": "Python 3 (ipykernel)",
   "language": "python",
   "name": "python3"
  },
  "language_info": {
   "codemirror_mode": {
    "name": "ipython",
    "version": 3
   },
   "file_extension": ".py",
   "mimetype": "text/x-python",
   "name": "python",
   "nbconvert_exporter": "python",
   "pygments_lexer": "ipython3",
   "version": "3.8.11"
  }
 },
 "nbformat": 4,
 "nbformat_minor": 5
}
