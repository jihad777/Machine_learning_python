{
 "cells": [
  {
   "cell_type": "code",
   "execution_count": 1,
   "id": "a7efec8b",
   "metadata": {},
   "outputs": [
    {
     "name": "stdout",
     "output_type": "stream",
     "text": [
      "Bonjour!\n",
      "Bonjour!\n",
      "Bonjour!\n",
      "Bonjour!\n",
      "Bonjour!\n",
      "Bonjour!\n",
      "Bonjour!\n",
      "Bonjour!\n",
      "Bonjour!\n",
      "Bonjour!\n",
      "Bonjour!\n",
      "Bonjour!\n",
      "Bonjour!\n",
      "Bonjour!\n",
      "Bonjour!\n",
      "Bonjour!\n",
      "Bonjour!\n",
      "Bonjour!\n",
      "Bonjour!\n",
      "Bonjour!\n"
     ]
    }
   ],
   "source": [
    "for i in range (0,20):\n",
    "    print('Bonjour!')"
   ]
  },
  {
   "cell_type": "code",
   "execution_count": 2,
   "id": "caae895d",
   "metadata": {},
   "outputs": [
    {
     "name": "stdout",
     "output_type": "stream",
     "text": [
      "0\n",
      "1\n",
      "2\n",
      "3\n",
      "4\n",
      "5\n",
      "6\n",
      "7\n",
      "8\n",
      "9\n"
     ]
    }
   ],
   "source": [
    "i= 0\n",
    "while i < 10:\n",
    "    print(i)\n",
    "    i = i + 1"
   ]
  },
  {
   "cell_type": "code",
   "execution_count": 3,
   "id": "73fba075",
   "metadata": {},
   "outputs": [],
   "source": [
    "import numpy as np"
   ]
  },
  {
   "cell_type": "code",
   "execution_count": 6,
   "id": "5f9d7bf2",
   "metadata": {},
   "outputs": [
    {
     "data": {
      "text/plain": [
       "array([[1., 1., 1.],\n",
       "       [1., 1., 1.]])"
      ]
     },
     "execution_count": 6,
     "metadata": {},
     "output_type": "execute_result"
    }
   ],
   "source": [
    "A = np.ones((2,3))\n",
    "A"
   ]
  },
  {
   "cell_type": "code",
   "execution_count": 8,
   "id": "27c65f44",
   "metadata": {},
   "outputs": [
    {
     "data": {
      "text/plain": [
       "6.0"
      ]
     },
     "execution_count": 8,
     "metadata": {},
     "output_type": "execute_result"
    }
   ],
   "source": [
    "A.sum()"
   ]
  },
  {
   "cell_type": "code",
   "execution_count": 11,
   "id": "3cc3a470",
   "metadata": {},
   "outputs": [],
   "source": [
    "def fonction_test(x,y,z):\n",
    "    resultat = x + y + z\n",
    "    return resultat"
   ]
  },
  {
   "cell_type": "code",
   "execution_count": 12,
   "id": "c43d3e0a",
   "metadata": {},
   "outputs": [
    {
     "data": {
      "text/plain": [
       "18"
      ]
     },
     "execution_count": 12,
     "metadata": {},
     "output_type": "execute_result"
    }
   ],
   "source": [
    "fonction_test(5,6,7)"
   ]
  },
  {
   "cell_type": "code",
   "execution_count": null,
   "id": "5a2c1158",
   "metadata": {},
   "outputs": [],
   "source": []
  }
 ],
 "metadata": {
  "kernelspec": {
   "display_name": "Python 3",
   "language": "python",
   "name": "python3"
  },
  "language_info": {
   "codemirror_mode": {
    "name": "ipython",
    "version": 3
   },
   "file_extension": ".py",
   "mimetype": "text/x-python",
   "name": "python",
   "nbconvert_exporter": "python",
   "pygments_lexer": "ipython3",
   "version": "3.8.8"
  }
 },
 "nbformat": 4,
 "nbformat_minor": 5
}
