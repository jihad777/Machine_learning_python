{
 "cells": [
  {
   "cell_type": "code",
   "execution_count": 1,
   "id": "4454f075",
   "metadata": {},
   "outputs": [],
   "source": [
    "#Le Pre-Processing représnte parfois 80% du travail d'un Data Scientist\n",
    "import numpy as np\n",
    "   \n",
    "    "
   ]
  },
  {
   "cell_type": "code",
   "execution_count": 2,
   "id": "0740e6fc",
   "metadata": {},
   "outputs": [],
   "source": [
    "#Encoder (transformer valeurs qualitatives en valeurs numériques)\n",
    "        \n",
    "        #Ordinal encoders:  LabelEncoder() , OrdinalEncoder()\n",
    "   \n",
    "vect = np.array(['chat', 'chien', 'chat', 'loup'])"
   ]
  },
  {
   "cell_type": "code",
   "execution_count": 4,
   "id": "a269e642",
   "metadata": {},
   "outputs": [],
   "source": [
    "from sklearn.preprocessing import LabelEncoder, OrdinalEncoder"
   ]
  },
  {
   "cell_type": "code",
   "execution_count": 5,
   "id": "dcabe51e",
   "metadata": {},
   "outputs": [],
   "source": [
    "encoder = LabelEncoder()"
   ]
  },
  {
   "cell_type": "code",
   "execution_count": 6,
   "id": "e475c258",
   "metadata": {},
   "outputs": [
    {
     "data": {
      "text/plain": [
       "LabelEncoder()"
      ]
     },
     "execution_count": 6,
     "metadata": {},
     "output_type": "execute_result"
    }
   ],
   "source": [
    "encoder.fit(vect)"
   ]
  },
  {
   "cell_type": "code",
   "execution_count": 7,
   "id": "f8b070ff",
   "metadata": {},
   "outputs": [
    {
     "data": {
      "text/plain": [
       "array([0, 1, 0, 2])"
      ]
     },
     "execution_count": 7,
     "metadata": {},
     "output_type": "execute_result"
    }
   ],
   "source": [
    "encoder.transform(vect)"
   ]
  },
  {
   "cell_type": "code",
   "execution_count": 10,
   "id": "40f191e2",
   "metadata": {},
   "outputs": [
    {
     "data": {
      "text/plain": [
       "array(['chat', 'chat', 'chat', 'loup', 'chien', 'loup'], dtype='<U5')"
      ]
     },
     "execution_count": 10,
     "metadata": {},
     "output_type": "execute_result"
    }
   ],
   "source": [
    "encoder.inverse_transform(np.array([0, 0, 0, 2,1,2]))"
   ]
  },
  {
   "cell_type": "code",
   "execution_count": 11,
   "id": "452d9ff2",
   "metadata": {},
   "outputs": [],
   "source": [
    "        #OneHotEncoders : LabelBinarizer, MultiLabelBinarizer, OneHotEncoder\n",
    "    \n",
    "from sklearn.preprocessing import LabelBinarizer    "
   ]
  },
  {
   "cell_type": "code",
   "execution_count": 12,
   "id": "1c7ce188",
   "metadata": {},
   "outputs": [],
   "source": [
    "encoder1= LabelBinarizer()"
   ]
  },
  {
   "cell_type": "code",
   "execution_count": 15,
   "id": "f1011571",
   "metadata": {},
   "outputs": [
    {
     "data": {
      "text/plain": [
       "array([[1, 0, 0],\n",
       "       [0, 1, 0],\n",
       "       [1, 0, 0],\n",
       "       [0, 0, 1]])"
      ]
     },
     "execution_count": 15,
     "metadata": {},
     "output_type": "execute_result"
    }
   ],
   "source": [
    "encoder1.fit_transform(vect)"
   ]
  },
  {
   "cell_type": "code",
   "execution_count": 16,
   "id": "8b5a6649",
   "metadata": {},
   "outputs": [
    {
     "data": {
      "text/plain": [
       "array(['chat', 'chien', 'chat', 'loup'], dtype='<U5')"
      ]
     },
     "execution_count": 16,
     "metadata": {},
     "output_type": "execute_result"
    }
   ],
   "source": [
    "encoder1.inverse_transform(np.array([[1, 0, 0],\n",
    "                                     [0, 1, 0],\n",
    "                                     [1, 0, 0],\n",
    "                                     [0, 0, 1]]))"
   ]
  },
  {
   "cell_type": "code",
   "execution_count": null,
   "id": "0fd1e54b",
   "metadata": {},
   "outputs": [],
   "source": []
  },
  {
   "cell_type": "code",
   "execution_count": null,
   "id": "6bc9faae",
   "metadata": {},
   "outputs": [],
   "source": []
  },
  {
   "cell_type": "markdown",
   "id": "e6ea1871",
   "metadata": {},
   "source": [
    "### Exemple de Tranformer-Estimator-Test"
   ]
  },
  {
   "cell_type": "code",
   "execution_count": 26,
   "id": "1aef835d",
   "metadata": {},
   "outputs": [],
   "source": [
    "from sklearn.datasets import load_iris\n",
    "from sklearn.model_selection import train_test_split"
   ]
  },
  {
   "cell_type": "code",
   "execution_count": 55,
   "id": "f67ff788",
   "metadata": {},
   "outputs": [],
   "source": [
    "iris = load_iris()\n",
    "\n",
    "X = iris.data\n",
    "y = iris.target\n",
    "\n",
    "X_train, X_test, y_train, y_test = train_test_split(X, y)"
   ]
  },
  {
   "cell_type": "code",
   "execution_count": 56,
   "id": "7408b9eb",
   "metadata": {},
   "outputs": [],
   "source": [
    "#Transformer\n",
    "from sklearn.preprocessing import StandardScaler\n",
    "\n",
    "std_scaler = StandardScaler()\n",
    "X_transformed = std_scaler.fit_transform(X_train)"
   ]
  },
  {
   "cell_type": "code",
   "execution_count": 57,
   "id": "ccdbc49c",
   "metadata": {},
   "outputs": [
    {
     "data": {
      "text/plain": [
       "LogisticRegression(max_iter=10000)"
      ]
     },
     "execution_count": 57,
     "metadata": {},
     "output_type": "execute_result"
    }
   ],
   "source": [
    "#Estimator\n",
    "from sklearn.linear_model import LogisticRegression\n",
    "\n",
    "log = LogisticRegression(max_iter=10000)\n",
    "log.fit(X_transformed,y_train)"
   ]
  },
  {
   "cell_type": "code",
   "execution_count": 62,
   "id": "2551c493",
   "metadata": {},
   "outputs": [
    {
     "data": {
      "text/plain": [
       "array([1, 2, 1, 0, 2, 1, 2, 1, 1, 1, 0, 1, 2, 2, 2, 1, 0, 1, 1, 1, 1, 2,\n",
       "       2, 0, 0, 1, 0, 1, 1, 2, 2, 0, 2, 0, 2, 1, 1, 1])"
      ]
     },
     "execution_count": 62,
     "metadata": {},
     "output_type": "execute_result"
    }
   ],
   "source": [
    "#Test\n",
    "from sklearn.metrics import *\n",
    "\n",
    "X_test_tr = std_scaler.fit_transform(X_test)\n",
    "\n",
    "log.predict(X_test_tr)"
   ]
  },
  {
   "cell_type": "markdown",
   "id": "cc199d12",
   "metadata": {},
   "source": [
    "### Refaire le Transformer-Estimator-Test avec le Pipeline (plus facile)"
   ]
  },
  {
   "cell_type": "code",
   "execution_count": 63,
   "id": "6ec2456f",
   "metadata": {},
   "outputs": [],
   "source": [
    "from sklearn.pipeline import make_pipeline"
   ]
  },
  {
   "cell_type": "code",
   "execution_count": 64,
   "id": "5df6f587",
   "metadata": {},
   "outputs": [
    {
     "data": {
      "text/plain": [
       "array([1, 2, 2, 0, 2, 2, 2, 1, 1, 1, 0, 1, 2, 2, 2, 1, 0, 2, 1, 1, 1, 2,\n",
       "       2, 0, 0, 1, 0, 1, 1, 2, 2, 0, 2, 0, 2, 1, 1, 1])"
      ]
     },
     "execution_count": 64,
     "metadata": {},
     "output_type": "execute_result"
    }
   ],
   "source": [
    "model = make_pipeline(StandardScaler(), LogisticRegression())\n",
    "\n",
    "model.fit(X_train, y_train)\n",
    "\n",
    "model.predict(X_test)"
   ]
  },
  {
   "cell_type": "code",
   "execution_count": null,
   "id": "fb3298e4",
   "metadata": {},
   "outputs": [],
   "source": []
  },
  {
   "cell_type": "markdown",
   "id": "21b8abac",
   "metadata": {},
   "source": [
    "### GridSearchCV avec Pipeline"
   ]
  },
  {
   "cell_type": "code",
   "execution_count": 66,
   "id": "9a189c7e",
   "metadata": {},
   "outputs": [],
   "source": [
    "from sklearn.model_selection import GridSearchCV\n",
    "from sklearn.preprocessing import PolynomialFeatures"
   ]
  },
  {
   "cell_type": "code",
   "execution_count": 68,
   "id": "67afe4b6",
   "metadata": {},
   "outputs": [],
   "source": [
    "model = make_pipeline(PolynomialFeatures(), StandardScaler(), LogisticRegression())\n",
    "\n",
    "params = {\n",
    "    'polynomialfeatures__degree':[2,3,4],\n",
    "    'logisticregression__C':[0.5,1,1.5]\n",
    "}\n",
    "\n",
    "grid = GridSearchCV(model, params, cv=5)\n"
   ]
  },
  {
   "cell_type": "code",
   "execution_count": 69,
   "id": "861d234a",
   "metadata": {},
   "outputs": [
    {
     "data": {
      "text/plain": [
       "GridSearchCV(cv=5,\n",
       "             estimator=Pipeline(steps=[('polynomialfeatures',\n",
       "                                        PolynomialFeatures()),\n",
       "                                       ('standardscaler', StandardScaler()),\n",
       "                                       ('logisticregression',\n",
       "                                        LogisticRegression())]),\n",
       "             param_grid={'logisticregression__C': [0.5, 1, 1.5],\n",
       "                         'polynomialfeatures__degree': [2, 3, 4]})"
      ]
     },
     "execution_count": 69,
     "metadata": {},
     "output_type": "execute_result"
    }
   ],
   "source": [
    "grid.fit(X_train, y_train)"
   ]
  },
  {
   "cell_type": "code",
   "execution_count": 70,
   "id": "a1bfe85e",
   "metadata": {},
   "outputs": [
    {
     "data": {
      "text/plain": [
       "0.9731225296442687"
      ]
     },
     "execution_count": 70,
     "metadata": {},
     "output_type": "execute_result"
    }
   ],
   "source": [
    "grid.best_score_"
   ]
  },
  {
   "cell_type": "code",
   "execution_count": 71,
   "id": "28b908f6",
   "metadata": {},
   "outputs": [
    {
     "data": {
      "text/plain": [
       "{'logisticregression__C': 0.5, 'polynomialfeatures__degree': 3}"
      ]
     },
     "execution_count": 71,
     "metadata": {},
     "output_type": "execute_result"
    }
   ],
   "source": [
    "grid.best_params_"
   ]
  },
  {
   "cell_type": "code",
   "execution_count": 81,
   "id": "39082112",
   "metadata": {},
   "outputs": [],
   "source": [
    "from sklearn.preprocessing import PolynomialFeatures\n",
    "\n",
    "Q = np.array([5, 7.5, 10])\n",
    "\n",
    "Poly = PolynomialFeatures()"
   ]
  },
  {
   "cell_type": "code",
   "execution_count": 83,
   "id": "8a77b537",
   "metadata": {},
   "outputs": [
    {
     "data": {
      "text/plain": [
       "array([[  1.  ,   5.  ,   7.5 ,  10.  ,  25.  ,  37.5 ,  50.  ,  56.25,\n",
       "         75.  , 100.  ]])"
      ]
     },
     "execution_count": 83,
     "metadata": {},
     "output_type": "execute_result"
    }
   ],
   "source": [
    "Poly.fit_transform(Q.reshape(1,-1))"
   ]
  },
  {
   "cell_type": "code",
   "execution_count": null,
   "id": "50180995",
   "metadata": {},
   "outputs": [],
   "source": []
  }
 ],
 "metadata": {
  "kernelspec": {
   "display_name": "Python 3 (ipykernel)",
   "language": "python",
   "name": "python3"
  },
  "language_info": {
   "codemirror_mode": {
    "name": "ipython",
    "version": 3
   },
   "file_extension": ".py",
   "mimetype": "text/x-python",
   "name": "python",
   "nbconvert_exporter": "python",
   "pygments_lexer": "ipython3",
   "version": "3.8.11"
  }
 },
 "nbformat": 4,
 "nbformat_minor": 5
}
