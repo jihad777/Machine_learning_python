{
 "cells": [
  {
   "cell_type": "code",
   "execution_count": 89,
   "id": "e4a0210c",
   "metadata": {},
   "outputs": [],
   "source": [
    "import pandas as pd\n",
    "import numpy as np\n",
    "import matplotlib.pyplot as plt"
   ]
  },
  {
   "cell_type": "code",
   "execution_count": 90,
   "id": "a1bdb913",
   "metadata": {},
   "outputs": [],
   "source": [
    "titanic = pd.read_excel(r'C:\\Users\\elbakkali\\Desktop\\Datasets_Machine_Learning\\titanic3.xls')"
   ]
  },
  {
   "cell_type": "markdown",
   "id": "7fd1944c",
   "metadata": {},
   "source": [
    "### Supprimer colonnes:"
   ]
  },
  {
   "cell_type": "code",
   "execution_count": 91,
   "id": "2207ef40",
   "metadata": {},
   "outputs": [],
   "source": [
    "titanic.drop(['name','ticket','cabin','boat', 'body','home.dest'], axis = 1, inplace=True)"
   ]
  },
  {
   "cell_type": "markdown",
   "id": "b7ab999d",
   "metadata": {},
   "source": [
    "### Dicrétiser variables"
   ]
  },
  {
   "cell_type": "code",
   "execution_count": 92,
   "id": "b7cd8dcb",
   "metadata": {},
   "outputs": [],
   "source": [
    "titanic['sex'].replace(['male','female'],[0,1], inplace= True)"
   ]
  },
  {
   "cell_type": "markdown",
   "id": "ad336a33",
   "metadata": {},
   "source": [
    "### Standardiser 'age' et 'fare' >> (méthode perso)"
   ]
  },
  {
   "cell_type": "code",
   "execution_count": 93,
   "id": "5cd9f95b",
   "metadata": {},
   "outputs": [],
   "source": [
    "# Standardiser 'age'\n",
    "\n",
    "from sklearn.preprocessing import StandardScaler\n",
    "\n",
    "std_scaler = StandardScaler()"
   ]
  },
  {
   "cell_type": "code",
   "execution_count": 94,
   "id": "1ebf19a4",
   "metadata": {},
   "outputs": [
    {
     "data": {
      "text/plain": [
       "array([[-0.06116183,  3.44116502],\n",
       "       [-2.01049644,  2.28560268],\n",
       "       [-1.93530178,  2.28560268],\n",
       "       ...,\n",
       "       [-0.23469331, -0.50388566],\n",
       "       [-0.19998701, -0.50388566],\n",
       "       [-0.06116183, -0.49132258]])"
      ]
     },
     "execution_count": 94,
     "metadata": {},
     "output_type": "execute_result"
    }
   ],
   "source": [
    "std_scaler.fit_transform(titanic[['age', 'fare']])"
   ]
  },
  {
   "cell_type": "code",
   "execution_count": 95,
   "id": "dfe42923",
   "metadata": {},
   "outputs": [],
   "source": [
    "# Méthode de standardisation de colonnes dans tableau pandas (méthode perso)\n",
    "\n",
    "def scaling_standard(df, col1):\n",
    "    for i in range(0, len(df)):\n",
    "        df[col1][i] = (df[col1][i]- np.mean(df[col1]))/(np.std(df[col1]))"
   ]
  },
  {
   "cell_type": "code",
   "execution_count": 96,
   "id": "211abf20",
   "metadata": {
    "scrolled": true
   },
   "outputs": [
    {
     "name": "stderr",
     "output_type": "stream",
     "text": [
      "<ipython-input-95-d00fd2f84c02>:5: SettingWithCopyWarning: \n",
      "A value is trying to be set on a copy of a slice from a DataFrame\n",
      "\n",
      "See the caveats in the documentation: https://pandas.pydata.org/pandas-docs/stable/user_guide/indexing.html#returning-a-view-versus-a-copy\n",
      "  df[col1][i] = (df[col1][i]- np.mean(df[col1]))/(np.std(df[col1]))\n"
     ]
    }
   ],
   "source": [
    "scaling_standard(titanic, 'age')\n"
   ]
  },
  {
   "cell_type": "code",
   "execution_count": 97,
   "id": "cc173ddd",
   "metadata": {},
   "outputs": [
    {
     "name": "stderr",
     "output_type": "stream",
     "text": [
      "<ipython-input-95-d00fd2f84c02>:5: SettingWithCopyWarning: \n",
      "A value is trying to be set on a copy of a slice from a DataFrame\n",
      "\n",
      "See the caveats in the documentation: https://pandas.pydata.org/pandas-docs/stable/user_guide/indexing.html#returning-a-view-versus-a-copy\n",
      "  df[col1][i] = (df[col1][i]- np.mean(df[col1]))/(np.std(df[col1]))\n"
     ]
    }
   ],
   "source": [
    "scaling_standard(titanic, 'fare')"
   ]
  },
  {
   "cell_type": "markdown",
   "id": "c5816626",
   "metadata": {},
   "source": [
    "### Discrétiser 'embarked' : transformer catégories en valeurs numériques:"
   ]
  },
  {
   "cell_type": "code",
   "execution_count": 98,
   "id": "51cbeaf9",
   "metadata": {},
   "outputs": [],
   "source": [
    "titanic['embarked']=titanic['embarked'].astype('category').cat.codes"
   ]
  },
  {
   "cell_type": "code",
   "execution_count": 99,
   "id": "8803907d",
   "metadata": {},
   "outputs": [
    {
     "data": {
      "text/html": [
       "<div>\n",
       "<style scoped>\n",
       "    .dataframe tbody tr th:only-of-type {\n",
       "        vertical-align: middle;\n",
       "    }\n",
       "\n",
       "    .dataframe tbody tr th {\n",
       "        vertical-align: top;\n",
       "    }\n",
       "\n",
       "    .dataframe thead th {\n",
       "        text-align: right;\n",
       "    }\n",
       "</style>\n",
       "<table border=\"1\" class=\"dataframe\">\n",
       "  <thead>\n",
       "    <tr style=\"text-align: right;\">\n",
       "      <th></th>\n",
       "      <th>pclass</th>\n",
       "      <th>survived</th>\n",
       "      <th>sex</th>\n",
       "      <th>age</th>\n",
       "      <th>sibsp</th>\n",
       "      <th>parch</th>\n",
       "      <th>fare</th>\n",
       "      <th>embarked</th>\n",
       "      <th>boat</th>\n",
       "    </tr>\n",
       "  </thead>\n",
       "  <tbody>\n",
       "    <tr>\n",
       "      <th>0</th>\n",
       "      <td>1</td>\n",
       "      <td>1</td>\n",
       "      <td>1</td>\n",
       "      <td>-0.061162</td>\n",
       "      <td>0</td>\n",
       "      <td>0</td>\n",
       "      <td>3.441165</td>\n",
       "      <td>2</td>\n",
       "      <td>2</td>\n",
       "    </tr>\n",
       "    <tr>\n",
       "      <th>1</th>\n",
       "      <td>1</td>\n",
       "      <td>1</td>\n",
       "      <td>0</td>\n",
       "      <td>-2.004441</td>\n",
       "      <td>1</td>\n",
       "      <td>2</td>\n",
       "      <td>2.298821</td>\n",
       "      <td>2</td>\n",
       "      <td>11</td>\n",
       "    </tr>\n",
       "    <tr>\n",
       "      <th>2</th>\n",
       "      <td>1</td>\n",
       "      <td>0</td>\n",
       "      <td>1</td>\n",
       "      <td>-1.928422</td>\n",
       "      <td>1</td>\n",
       "      <td>2</td>\n",
       "      <td>2.305387</td>\n",
       "      <td>2</td>\n",
       "      <td>NaN</td>\n",
       "    </tr>\n",
       "    <tr>\n",
       "      <th>3</th>\n",
       "      <td>1</td>\n",
       "      <td>0</td>\n",
       "      <td>0</td>\n",
       "      <td>0.010602</td>\n",
       "      <td>1</td>\n",
       "      <td>2</td>\n",
       "      <td>2.311998</td>\n",
       "      <td>2</td>\n",
       "      <td>NaN</td>\n",
       "    </tr>\n",
       "    <tr>\n",
       "      <th>4</th>\n",
       "      <td>1</td>\n",
       "      <td>0</td>\n",
       "      <td>1</td>\n",
       "      <td>-0.332760</td>\n",
       "      <td>1</td>\n",
       "      <td>2</td>\n",
       "      <td>2.318654</td>\n",
       "      <td>2</td>\n",
       "      <td>NaN</td>\n",
       "    </tr>\n",
       "  </tbody>\n",
       "</table>\n",
       "</div>"
      ],
      "text/plain": [
       "   pclass  survived  sex       age  sibsp  parch      fare  embarked boat\n",
       "0       1         1    1 -0.061162      0      0  3.441165         2    2\n",
       "1       1         1    0 -2.004441      1      2  2.298821         2   11\n",
       "2       1         0    1 -1.928422      1      2  2.305387         2  NaN\n",
       "3       1         0    0  0.010602      1      2  2.311998         2  NaN\n",
       "4       1         0    1 -0.332760      1      2  2.318654         2  NaN"
      ]
     },
     "execution_count": 99,
     "metadata": {},
     "output_type": "execute_result"
    }
   ],
   "source": [
    "titanic.head()"
   ]
  },
  {
   "cell_type": "markdown",
   "id": "ae58b537",
   "metadata": {},
   "source": [
    "### Discrétiser 'boat': si boat = null sinon ..."
   ]
  },
  {
   "cell_type": "code",
   "execution_count": 103,
   "id": "2c0ba982",
   "metadata": {},
   "outputs": [],
   "source": [
    "titanic.drop(['boat'], axis=1, inplace=True)"
   ]
  },
  {
   "cell_type": "markdown",
   "id": "2652ba6f",
   "metadata": {},
   "source": [
    "# Drop les lignes avec valeurs nulles"
   ]
  },
  {
   "cell_type": "code",
   "execution_count": 111,
   "id": "36ca40db",
   "metadata": {},
   "outputs": [],
   "source": [
    "titanic.dropna(axis=0, inplace=True)"
   ]
  },
  {
   "cell_type": "code",
   "execution_count": 112,
   "id": "5d92890c",
   "metadata": {},
   "outputs": [
    {
     "data": {
      "text/html": [
       "<div>\n",
       "<style scoped>\n",
       "    .dataframe tbody tr th:only-of-type {\n",
       "        vertical-align: middle;\n",
       "    }\n",
       "\n",
       "    .dataframe tbody tr th {\n",
       "        vertical-align: top;\n",
       "    }\n",
       "\n",
       "    .dataframe thead th {\n",
       "        text-align: right;\n",
       "    }\n",
       "</style>\n",
       "<table border=\"1\" class=\"dataframe\">\n",
       "  <thead>\n",
       "    <tr style=\"text-align: right;\">\n",
       "      <th></th>\n",
       "      <th>pclass</th>\n",
       "      <th>survived</th>\n",
       "      <th>sex</th>\n",
       "      <th>age</th>\n",
       "      <th>sibsp</th>\n",
       "      <th>parch</th>\n",
       "      <th>fare</th>\n",
       "      <th>embarked</th>\n",
       "    </tr>\n",
       "  </thead>\n",
       "  <tbody>\n",
       "    <tr>\n",
       "      <th>count</th>\n",
       "      <td>1045.000000</td>\n",
       "      <td>1045.000000</td>\n",
       "      <td>1045.000000</td>\n",
       "      <td>1045.000000</td>\n",
       "      <td>1045.000000</td>\n",
       "      <td>1045.000000</td>\n",
       "      <td>1045.000000</td>\n",
       "      <td>1045.000000</td>\n",
       "    </tr>\n",
       "    <tr>\n",
       "      <th>mean</th>\n",
       "      <td>2.206699</td>\n",
       "      <td>0.408612</td>\n",
       "      <td>0.371292</td>\n",
       "      <td>1.441017</td>\n",
       "      <td>0.503349</td>\n",
       "      <td>0.421053</td>\n",
       "      <td>1.460812</td>\n",
       "      <td>1.540670</td>\n",
       "    </tr>\n",
       "    <tr>\n",
       "      <th>std</th>\n",
       "      <td>0.841542</td>\n",
       "      <td>0.491813</td>\n",
       "      <td>0.483382</td>\n",
       "      <td>1.763701</td>\n",
       "      <td>0.912471</td>\n",
       "      <td>0.840052</td>\n",
       "      <td>1.986708</td>\n",
       "      <td>0.816216</td>\n",
       "    </tr>\n",
       "    <tr>\n",
       "      <th>min</th>\n",
       "      <td>1.000000</td>\n",
       "      <td>0.000000</td>\n",
       "      <td>0.000000</td>\n",
       "      <td>-2.004441</td>\n",
       "      <td>0.000000</td>\n",
       "      <td>0.000000</td>\n",
       "      <td>-0.637745</td>\n",
       "      <td>-1.000000</td>\n",
       "    </tr>\n",
       "    <tr>\n",
       "      <th>25%</th>\n",
       "      <td>1.000000</td>\n",
       "      <td>0.000000</td>\n",
       "      <td>0.000000</td>\n",
       "      <td>0.505416</td>\n",
       "      <td>0.000000</td>\n",
       "      <td>0.000000</td>\n",
       "      <td>0.227639</td>\n",
       "      <td>1.000000</td>\n",
       "    </tr>\n",
       "    <tr>\n",
       "      <th>50%</th>\n",
       "      <td>2.000000</td>\n",
       "      <td>0.000000</td>\n",
       "      <td>0.000000</td>\n",
       "      <td>1.122553</td>\n",
       "      <td>0.000000</td>\n",
       "      <td>0.000000</td>\n",
       "      <td>0.769422</td>\n",
       "      <td>2.000000</td>\n",
       "    </tr>\n",
       "    <tr>\n",
       "      <th>75%</th>\n",
       "      <td>3.000000</td>\n",
       "      <td>1.000000</td>\n",
       "      <td>1.000000</td>\n",
       "      <td>1.951609</td>\n",
       "      <td>1.000000</td>\n",
       "      <td>1.000000</td>\n",
       "      <td>1.910947</td>\n",
       "      <td>2.000000</td>\n",
       "    </tr>\n",
       "    <tr>\n",
       "      <th>max</th>\n",
       "      <td>3.000000</td>\n",
       "      <td>1.000000</td>\n",
       "      <td>1.000000</td>\n",
       "      <td>17.274577</td>\n",
       "      <td>8.000000</td>\n",
       "      <td>6.000000</td>\n",
       "      <td>21.456999</td>\n",
       "      <td>2.000000</td>\n",
       "    </tr>\n",
       "  </tbody>\n",
       "</table>\n",
       "</div>"
      ],
      "text/plain": [
       "            pclass     survived          sex          age        sibsp  \\\n",
       "count  1045.000000  1045.000000  1045.000000  1045.000000  1045.000000   \n",
       "mean      2.206699     0.408612     0.371292     1.441017     0.503349   \n",
       "std       0.841542     0.491813     0.483382     1.763701     0.912471   \n",
       "min       1.000000     0.000000     0.000000    -2.004441     0.000000   \n",
       "25%       1.000000     0.000000     0.000000     0.505416     0.000000   \n",
       "50%       2.000000     0.000000     0.000000     1.122553     0.000000   \n",
       "75%       3.000000     1.000000     1.000000     1.951609     1.000000   \n",
       "max       3.000000     1.000000     1.000000    17.274577     8.000000   \n",
       "\n",
       "             parch         fare     embarked  \n",
       "count  1045.000000  1045.000000  1045.000000  \n",
       "mean      0.421053     1.460812     1.540670  \n",
       "std       0.840052     1.986708     0.816216  \n",
       "min       0.000000    -0.637745    -1.000000  \n",
       "25%       0.000000     0.227639     1.000000  \n",
       "50%       0.000000     0.769422     2.000000  \n",
       "75%       1.000000     1.910947     2.000000  \n",
       "max       6.000000    21.456999     2.000000  "
      ]
     },
     "execution_count": 112,
     "metadata": {},
     "output_type": "execute_result"
    }
   ],
   "source": [
    "titanic.describe()"
   ]
  },
  {
   "cell_type": "markdown",
   "id": "1a130cc7",
   "metadata": {},
   "source": [
    "# Corrélation des vars"
   ]
  },
  {
   "cell_type": "code",
   "execution_count": 113,
   "id": "ee1056e6",
   "metadata": {},
   "outputs": [
    {
     "data": {
      "text/html": [
       "<div>\n",
       "<style scoped>\n",
       "    .dataframe tbody tr th:only-of-type {\n",
       "        vertical-align: middle;\n",
       "    }\n",
       "\n",
       "    .dataframe tbody tr th {\n",
       "        vertical-align: top;\n",
       "    }\n",
       "\n",
       "    .dataframe thead th {\n",
       "        text-align: right;\n",
       "    }\n",
       "</style>\n",
       "<table border=\"1\" class=\"dataframe\">\n",
       "  <thead>\n",
       "    <tr style=\"text-align: right;\">\n",
       "      <th></th>\n",
       "      <th>pclass</th>\n",
       "      <th>survived</th>\n",
       "      <th>sex</th>\n",
       "      <th>age</th>\n",
       "      <th>sibsp</th>\n",
       "      <th>parch</th>\n",
       "      <th>fare</th>\n",
       "      <th>embarked</th>\n",
       "    </tr>\n",
       "  </thead>\n",
       "  <tbody>\n",
       "    <tr>\n",
       "      <th>pclass</th>\n",
       "      <td>1.000000</td>\n",
       "      <td>-0.319979</td>\n",
       "      <td>-0.144105</td>\n",
       "      <td>0.289561</td>\n",
       "      <td>0.047746</td>\n",
       "      <td>0.017685</td>\n",
       "      <td>-0.162012</td>\n",
       "      <td>0.281989</td>\n",
       "    </tr>\n",
       "    <tr>\n",
       "      <th>survived</th>\n",
       "      <td>-0.319979</td>\n",
       "      <td>1.000000</td>\n",
       "      <td>0.537719</td>\n",
       "      <td>-0.221101</td>\n",
       "      <td>-0.012657</td>\n",
       "      <td>0.114091</td>\n",
       "      <td>0.085862</td>\n",
       "      <td>-0.207274</td>\n",
       "    </tr>\n",
       "    <tr>\n",
       "      <th>sex</th>\n",
       "      <td>-0.144105</td>\n",
       "      <td>0.537719</td>\n",
       "      <td>1.000000</td>\n",
       "      <td>-0.136933</td>\n",
       "      <td>0.094902</td>\n",
       "      <td>0.220864</td>\n",
       "      <td>0.150499</td>\n",
       "      <td>-0.115998</td>\n",
       "    </tr>\n",
       "    <tr>\n",
       "      <th>age</th>\n",
       "      <td>0.289561</td>\n",
       "      <td>-0.221101</td>\n",
       "      <td>-0.136933</td>\n",
       "      <td>1.000000</td>\n",
       "      <td>-0.175012</td>\n",
       "      <td>-0.127474</td>\n",
       "      <td>0.105530</td>\n",
       "      <td>0.049252</td>\n",
       "    </tr>\n",
       "    <tr>\n",
       "      <th>sibsp</th>\n",
       "      <td>0.047746</td>\n",
       "      <td>-0.012657</td>\n",
       "      <td>0.094902</td>\n",
       "      <td>-0.175012</td>\n",
       "      <td>1.000000</td>\n",
       "      <td>0.374291</td>\n",
       "      <td>0.343169</td>\n",
       "      <td>0.048367</td>\n",
       "    </tr>\n",
       "    <tr>\n",
       "      <th>parch</th>\n",
       "      <td>0.017685</td>\n",
       "      <td>0.114091</td>\n",
       "      <td>0.220864</td>\n",
       "      <td>-0.127474</td>\n",
       "      <td>0.374291</td>\n",
       "      <td>1.000000</td>\n",
       "      <td>0.380112</td>\n",
       "      <td>0.014117</td>\n",
       "    </tr>\n",
       "    <tr>\n",
       "      <th>fare</th>\n",
       "      <td>-0.162012</td>\n",
       "      <td>0.085862</td>\n",
       "      <td>0.150499</td>\n",
       "      <td>0.105530</td>\n",
       "      <td>0.343169</td>\n",
       "      <td>0.380112</td>\n",
       "      <td>1.000000</td>\n",
       "      <td>-0.168891</td>\n",
       "    </tr>\n",
       "    <tr>\n",
       "      <th>embarked</th>\n",
       "      <td>0.281989</td>\n",
       "      <td>-0.207274</td>\n",
       "      <td>-0.115998</td>\n",
       "      <td>0.049252</td>\n",
       "      <td>0.048367</td>\n",
       "      <td>0.014117</td>\n",
       "      <td>-0.168891</td>\n",
       "      <td>1.000000</td>\n",
       "    </tr>\n",
       "  </tbody>\n",
       "</table>\n",
       "</div>"
      ],
      "text/plain": [
       "            pclass  survived       sex       age     sibsp     parch  \\\n",
       "pclass    1.000000 -0.319979 -0.144105  0.289561  0.047746  0.017685   \n",
       "survived -0.319979  1.000000  0.537719 -0.221101 -0.012657  0.114091   \n",
       "sex      -0.144105  0.537719  1.000000 -0.136933  0.094902  0.220864   \n",
       "age       0.289561 -0.221101 -0.136933  1.000000 -0.175012 -0.127474   \n",
       "sibsp     0.047746 -0.012657  0.094902 -0.175012  1.000000  0.374291   \n",
       "parch     0.017685  0.114091  0.220864 -0.127474  0.374291  1.000000   \n",
       "fare     -0.162012  0.085862  0.150499  0.105530  0.343169  0.380112   \n",
       "embarked  0.281989 -0.207274 -0.115998  0.049252  0.048367  0.014117   \n",
       "\n",
       "              fare  embarked  \n",
       "pclass   -0.162012  0.281989  \n",
       "survived  0.085862 -0.207274  \n",
       "sex       0.150499 -0.115998  \n",
       "age       0.105530  0.049252  \n",
       "sibsp     0.343169  0.048367  \n",
       "parch     0.380112  0.014117  \n",
       "fare      1.000000 -0.168891  \n",
       "embarked -0.168891  1.000000  "
      ]
     },
     "execution_count": 113,
     "metadata": {},
     "output_type": "execute_result"
    }
   ],
   "source": [
    "titanic.corr()"
   ]
  },
  {
   "cell_type": "markdown",
   "id": "8521d639",
   "metadata": {},
   "source": [
    "# Nuages de points"
   ]
  },
  {
   "cell_type": "code",
   "execution_count": 121,
   "id": "b20dc552",
   "metadata": {},
   "outputs": [
    {
     "data": {
      "text/plain": [
       "<matplotlib.collections.PathCollection at 0x2058d5de160>"
      ]
     },
     "execution_count": 121,
     "metadata": {},
     "output_type": "execute_result"
    },
    {
     "data": {
      "image/png": "[encoded data removed]",
      "text/plain": [
       "<Figure size 720x288 with 3 Axes>"
      ]
     },
     "metadata": {
      "needs_background": "light"
     },
     "output_type": "display_data"
    }
   ],
   "source": [
    "# Remarque 1 : le nuage de points marche avec les variables continues\n",
    "# Remarque 2 : effectuer le nuage de points avant la Normalisation\n",
    "\n",
    "plt.figure(figsize=(10,4))\n",
    "plt.subplot(1,3,1)\n",
    "plt.scatter(titanic['age'], titanic['pclass'])\n",
    "plt.subplot(1,3,2)\n",
    "plt.scatter(titanic['survived'], titanic['sex'])\n",
    "plt.subplot(1,3,3)\n",
    "plt.scatter(titanic['survived'], titanic['age'])"
   ]
  },
  {
   "cell_type": "markdown",
   "id": "1af797f4",
   "metadata": {},
   "source": [
    "# Machine Learning"
   ]
  },
  {
   "cell_type": "code",
   "execution_count": 122,
   "id": "444222ea",
   "metadata": {},
   "outputs": [
    {
     "data": {
      "text/html": [
       "<div>\n",
       "<style scoped>\n",
       "    .dataframe tbody tr th:only-of-type {\n",
       "        vertical-align: middle;\n",
       "    }\n",
       "\n",
       "    .dataframe tbody tr th {\n",
       "        vertical-align: top;\n",
       "    }\n",
       "\n",
       "    .dataframe thead th {\n",
       "        text-align: right;\n",
       "    }\n",
       "</style>\n",
       "<table border=\"1\" class=\"dataframe\">\n",
       "  <thead>\n",
       "    <tr style=\"text-align: right;\">\n",
       "      <th></th>\n",
       "      <th>pclass</th>\n",
       "      <th>survived</th>\n",
       "      <th>sex</th>\n",
       "      <th>age</th>\n",
       "      <th>sibsp</th>\n",
       "      <th>parch</th>\n",
       "      <th>fare</th>\n",
       "      <th>embarked</th>\n",
       "    </tr>\n",
       "  </thead>\n",
       "  <tbody>\n",
       "    <tr>\n",
       "      <th>0</th>\n",
       "      <td>1</td>\n",
       "      <td>1</td>\n",
       "      <td>1</td>\n",
       "      <td>-0.061162</td>\n",
       "      <td>0</td>\n",
       "      <td>0</td>\n",
       "      <td>3.441165</td>\n",
       "      <td>2</td>\n",
       "    </tr>\n",
       "    <tr>\n",
       "      <th>1</th>\n",
       "      <td>1</td>\n",
       "      <td>1</td>\n",
       "      <td>0</td>\n",
       "      <td>-2.004441</td>\n",
       "      <td>1</td>\n",
       "      <td>2</td>\n",
       "      <td>2.298821</td>\n",
       "      <td>2</td>\n",
       "    </tr>\n",
       "    <tr>\n",
       "      <th>2</th>\n",
       "      <td>1</td>\n",
       "      <td>0</td>\n",
       "      <td>1</td>\n",
       "      <td>-1.928422</td>\n",
       "      <td>1</td>\n",
       "      <td>2</td>\n",
       "      <td>2.305387</td>\n",
       "      <td>2</td>\n",
       "    </tr>\n",
       "    <tr>\n",
       "      <th>3</th>\n",
       "      <td>1</td>\n",
       "      <td>0</td>\n",
       "      <td>0</td>\n",
       "      <td>0.010602</td>\n",
       "      <td>1</td>\n",
       "      <td>2</td>\n",
       "      <td>2.311998</td>\n",
       "      <td>2</td>\n",
       "    </tr>\n",
       "    <tr>\n",
       "      <th>4</th>\n",
       "      <td>1</td>\n",
       "      <td>0</td>\n",
       "      <td>1</td>\n",
       "      <td>-0.332760</td>\n",
       "      <td>1</td>\n",
       "      <td>2</td>\n",
       "      <td>2.318654</td>\n",
       "      <td>2</td>\n",
       "    </tr>\n",
       "  </tbody>\n",
       "</table>\n",
       "</div>"
      ],
      "text/plain": [
       "   pclass  survived  sex       age  sibsp  parch      fare  embarked\n",
       "0       1         1    1 -0.061162      0      0  3.441165         2\n",
       "1       1         1    0 -2.004441      1      2  2.298821         2\n",
       "2       1         0    1 -1.928422      1      2  2.305387         2\n",
       "3       1         0    0  0.010602      1      2  2.311998         2\n",
       "4       1         0    1 -0.332760      1      2  2.318654         2"
      ]
     },
     "execution_count": 122,
     "metadata": {},
     "output_type": "execute_result"
    }
   ],
   "source": [
    "titanic.head()"
   ]
  },
  {
   "cell_type": "code",
   "execution_count": 125,
   "id": "d2ac4f76",
   "metadata": {},
   "outputs": [
    {
     "data": {
      "text/plain": [
       "(1045, 8)"
      ]
     },
     "execution_count": 125,
     "metadata": {},
     "output_type": "execute_result"
    }
   ],
   "source": [
    "titanic.shape"
   ]
  },
  {
   "cell_type": "code",
   "execution_count": 129,
   "id": "60a3f9ec",
   "metadata": {},
   "outputs": [],
   "source": [
    "X = titanic.drop(['survived'], axis=1)\n",
    "y = titanic['survived']"
   ]
  },
  {
   "cell_type": "code",
   "execution_count": 130,
   "id": "09275374",
   "metadata": {},
   "outputs": [],
   "source": [
    "# Diviser nos données en Train/Test splits\n",
    "\n",
    "from sklearn.model_selection import train_test_split"
   ]
  },
  {
   "cell_type": "code",
   "execution_count": 131,
   "id": "305b425d",
   "metadata": {},
   "outputs": [],
   "source": [
    "X_train, X_test, y_train, y_test = train_test_split(X, y, test_size=0.2, random_state=5) \n",
    "                                                                        #random_state = nb de shuffles avant split"
   ]
  },
  {
   "cell_type": "markdown",
   "id": "46e0d562",
   "metadata": {},
   "source": [
    "# LinearSVC  (de svm) >> 0.813"
   ]
  },
  {
   "cell_type": "code",
   "execution_count": 134,
   "id": "ca201440",
   "metadata": {},
   "outputs": [],
   "source": [
    "# choix du premier modèle: LinearSVC\n",
    "\n",
    "from sklearn.svm import LinearSVC\n",
    "from sklearn.model_selection import GridSearchCV"
   ]
  },
  {
   "cell_type": "code",
   "execution_count": 140,
   "id": "027ab41e",
   "metadata": {},
   "outputs": [],
   "source": [
    "parametres_linearSVC = {\n",
    "    'penalty': ['l2'],\n",
    "    'loss': ['hinge', 'squared_hinge'],\n",
    "        \n",
    "}\n",
    "\n",
    "grid_linearSVC = GridSearchCV(LinearSVC(), param_grid= parametres_linearSVC, cv=5)"
   ]
  },
  {
   "cell_type": "code",
   "execution_count": 141,
   "id": "63fad2a1",
   "metadata": {},
   "outputs": [
    {
     "name": "stderr",
     "output_type": "stream",
     "text": [
      "C:\\Users\\elbakkali\\anaconda3\\lib\\site-packages\\sklearn\\svm\\_base.py:985: ConvergenceWarning: Liblinear failed to converge, increase the number of iterations.\n",
      "  warnings.warn(\"Liblinear failed to converge, increase \"\n",
      "C:\\Users\\elbakkali\\anaconda3\\lib\\site-packages\\sklearn\\svm\\_base.py:985: ConvergenceWarning: Liblinear failed to converge, increase the number of iterations.\n",
      "  warnings.warn(\"Liblinear failed to converge, increase \"\n",
      "C:\\Users\\elbakkali\\anaconda3\\lib\\site-packages\\sklearn\\svm\\_base.py:985: ConvergenceWarning: Liblinear failed to converge, increase the number of iterations.\n",
      "  warnings.warn(\"Liblinear failed to converge, increase \"\n",
      "C:\\Users\\elbakkali\\anaconda3\\lib\\site-packages\\sklearn\\svm\\_base.py:985: ConvergenceWarning: Liblinear failed to converge, increase the number of iterations.\n",
      "  warnings.warn(\"Liblinear failed to converge, increase \"\n",
      "C:\\Users\\elbakkali\\anaconda3\\lib\\site-packages\\sklearn\\svm\\_base.py:985: ConvergenceWarning: Liblinear failed to converge, increase the number of iterations.\n",
      "  warnings.warn(\"Liblinear failed to converge, increase \"\n",
      "C:\\Users\\elbakkali\\anaconda3\\lib\\site-packages\\sklearn\\svm\\_base.py:985: ConvergenceWarning: Liblinear failed to converge, increase the number of iterations.\n",
      "  warnings.warn(\"Liblinear failed to converge, increase \"\n"
     ]
    },
    {
     "data": {
      "text/plain": [
       "GridSearchCV(cv=5, estimator=LinearSVC(),\n",
       "             param_grid={'loss': ['hinge', 'squared_hinge'], 'penalty': ['l2']})"
      ]
     },
     "execution_count": 141,
     "metadata": {},
     "output_type": "execute_result"
    }
   ],
   "source": [
    "grid_linearSVC.fit(X_train,y_train)"
   ]
  },
  {
   "cell_type": "code",
   "execution_count": 142,
   "id": "3cd84667",
   "metadata": {},
   "outputs": [
    {
     "data": {
      "text/plain": [
       "0.7740661534074708"
      ]
     },
     "execution_count": 142,
     "metadata": {},
     "output_type": "execute_result"
    }
   ],
   "source": [
    "grid_linearSVC.best_score_"
   ]
  },
  {
   "cell_type": "code",
   "execution_count": 143,
   "id": "6d6cca7a",
   "metadata": {},
   "outputs": [
    {
     "data": {
      "text/plain": [
       "{'loss': 'squared_hinge', 'penalty': 'l2'}"
      ]
     },
     "execution_count": 143,
     "metadata": {},
     "output_type": "execute_result"
    }
   ],
   "source": [
    "grid_linearSVC.best_params_"
   ]
  },
  {
   "cell_type": "code",
   "execution_count": 144,
   "id": "91e1d00d",
   "metadata": {},
   "outputs": [
    {
     "data": {
      "text/plain": [
       "0.8133971291866029"
      ]
     },
     "execution_count": 144,
     "metadata": {},
     "output_type": "execute_result"
    }
   ],
   "source": [
    "grid_linearSVC.score(X_test,y_test)"
   ]
  },
  {
   "cell_type": "markdown",
   "id": "19f4035c",
   "metadata": {},
   "source": [
    "# KNeighborsClassifier (de neighbors) >> 0.760"
   ]
  },
  {
   "cell_type": "code",
   "execution_count": 145,
   "id": "3756d74b",
   "metadata": {},
   "outputs": [],
   "source": [
    "from sklearn.neighbors import KNeighborsClassifier"
   ]
  },
  {
   "cell_type": "code",
   "execution_count": 146,
   "id": "4ea8da72",
   "metadata": {},
   "outputs": [],
   "source": [
    "n = np.arange(1,28)\n",
    "\n",
    "parametres_KNC = {\n",
    "    'n_neighbors': n,\n",
    "    'weights': ['uniform', 'distance'],\n",
    "    'algorithm':['auto', 'ball_tree', 'kd_tree', 'brute']\n",
    "}\n",
    "\n",
    "grid_KNC = GridSearchCV(KNeighborsClassifier(), parametres_KNC, cv=5)"
   ]
  },
  {
   "cell_type": "code",
   "execution_count": 147,
   "id": "ed14f856",
   "metadata": {},
   "outputs": [
    {
     "data": {
      "text/plain": [
       "GridSearchCV(cv=5, estimator=KNeighborsClassifier(),\n",
       "             param_grid={'algorithm': ['auto', 'ball_tree', 'kd_tree', 'brute'],\n",
       "                         'n_neighbors': array([ 1,  2,  3,  4,  5,  6,  7,  8,  9, 10, 11, 12, 13, 14, 15, 16, 17,\n",
       "       18, 19, 20, 21, 22, 23, 24, 25, 26, 27]),\n",
       "                         'weights': ['uniform', 'distance']})"
      ]
     },
     "execution_count": 147,
     "metadata": {},
     "output_type": "execute_result"
    }
   ],
   "source": [
    "grid_KNC.fit(X_train,y_train)"
   ]
  },
  {
   "cell_type": "code",
   "execution_count": 148,
   "id": "941c5ec7",
   "metadata": {},
   "outputs": [
    {
     "data": {
      "text/plain": [
       "0.7835757057313943"
      ]
     },
     "execution_count": 148,
     "metadata": {},
     "output_type": "execute_result"
    }
   ],
   "source": [
    "grid_KNC.best_score_"
   ]
  },
  {
   "cell_type": "code",
   "execution_count": 149,
   "id": "4eef62f1",
   "metadata": {},
   "outputs": [
    {
     "data": {
      "text/plain": [
       "{'algorithm': 'auto', 'n_neighbors': 11, 'weights': 'uniform'}"
      ]
     },
     "execution_count": 149,
     "metadata": {},
     "output_type": "execute_result"
    }
   ],
   "source": [
    "grid_KNC.best_params_"
   ]
  },
  {
   "cell_type": "code",
   "execution_count": 150,
   "id": "7c366b01",
   "metadata": {},
   "outputs": [
    {
     "data": {
      "text/plain": [
       "0.7607655502392344"
      ]
     },
     "execution_count": 150,
     "metadata": {},
     "output_type": "execute_result"
    }
   ],
   "source": [
    "grid_KNC.score(X_test,y_test)"
   ]
  },
  {
   "cell_type": "markdown",
   "id": "09beae63",
   "metadata": {},
   "source": [
    "# Naive Bayes (de naive_bayes) >> 0.784"
   ]
  },
  {
   "cell_type": "code",
   "execution_count": 151,
   "id": "c364ed79",
   "metadata": {},
   "outputs": [],
   "source": [
    "from sklearn.naive_bayes import GaussianNB"
   ]
  },
  {
   "cell_type": "code",
   "execution_count": 165,
   "id": "0726e98d",
   "metadata": {},
   "outputs": [],
   "source": [
    "nnb = np.linspace(0.00000000001,0.000000001, 10)\n",
    "\n",
    "parametres_naiveBayes = {\n",
    "    'var_smoothing' : nnb\n",
    "}\n",
    "\n",
    "grid_NB = GridSearchCV(GaussianNB(), parametres_naiveBayes, cv=5)"
   ]
  },
  {
   "cell_type": "code",
   "execution_count": 166,
   "id": "fc1bdbcc",
   "metadata": {},
   "outputs": [
    {
     "data": {
      "text/plain": [
       "GridSearchCV(cv=5, estimator=GaussianNB(),\n",
       "             param_grid={'var_smoothing': array([1.0e-11, 1.2e-10, 2.3e-10, 3.4e-10, 4.5e-10, 5.6e-10, 6.7e-10,\n",
       "       7.8e-10, 8.9e-10, 1.0e-09])})"
      ]
     },
     "execution_count": 166,
     "metadata": {},
     "output_type": "execute_result"
    }
   ],
   "source": [
    "grid_NB.fit(X_train,y_train)"
   ]
  },
  {
   "cell_type": "code",
   "execution_count": 167,
   "id": "ebbf2c56",
   "metadata": {},
   "outputs": [
    {
     "data": {
      "text/plain": [
       "0.7632520672939835"
      ]
     },
     "execution_count": 167,
     "metadata": {},
     "output_type": "execute_result"
    }
   ],
   "source": [
    "grid_NB.best_score_"
   ]
  },
  {
   "cell_type": "code",
   "execution_count": 168,
   "id": "a1846269",
   "metadata": {},
   "outputs": [
    {
     "data": {
      "text/plain": [
       "{'var_smoothing': 1e-11}"
      ]
     },
     "execution_count": 168,
     "metadata": {},
     "output_type": "execute_result"
    }
   ],
   "source": [
    "grid_NB.best_params_"
   ]
  },
  {
   "cell_type": "code",
   "execution_count": 169,
   "id": "7472fd54",
   "metadata": {},
   "outputs": [
    {
     "data": {
      "text/plain": [
       "0.784688995215311"
      ]
     },
     "execution_count": 169,
     "metadata": {},
     "output_type": "execute_result"
    }
   ],
   "source": [
    "grid_NB.score(X_test,y_test)"
   ]
  },
  {
   "cell_type": "markdown",
   "id": "4fa6f1cc",
   "metadata": {},
   "source": [
    "# SGDClassifier (de ) {normalement samples > 100k} >>> 0.789"
   ]
  },
  {
   "cell_type": "code",
   "execution_count": 170,
   "id": "e8380d58",
   "metadata": {},
   "outputs": [],
   "source": [
    "from sklearn.linear_model import SGDClassifier"
   ]
  },
  {
   "cell_type": "code",
   "execution_count": 179,
   "id": "f95cf71e",
   "metadata": {},
   "outputs": [],
   "source": [
    "SGD_alpha = np.linspace(0.0001, 0.001, 10)\n",
    "\n",
    "parametres_SGDClassifier = {\n",
    "    'loss': ['hinge', 'log', 'modified_huber', 'squared_hinge', 'perceptron'],\n",
    "    'penalty': ['l1','l2'],\n",
    "    'alpha': SGD_alpha,\n",
    "    #'learning_rate':['optimal', 'invscaling', 'adaptive']\n",
    "}\n",
    "\n",
    "grid_SGDClassifier = GridSearchCV(SGDClassifier(), parametres_SGDClassifier, cv=5)"
   ]
  },
  {
   "cell_type": "code",
   "execution_count": 180,
   "id": "810db338",
   "metadata": {},
   "outputs": [
    {
     "data": {
      "text/plain": [
       "GridSearchCV(cv=5, estimator=SGDClassifier(),\n",
       "             param_grid={'alpha': array([0.0001, 0.0002, 0.0003, 0.0004, 0.0005, 0.0006, 0.0007, 0.0008,\n",
       "       0.0009, 0.001 ]),\n",
       "                         'loss': ['hinge', 'log', 'modified_huber',\n",
       "                                  'squared_hinge', 'perceptron'],\n",
       "                         'penalty': ['l1', 'l2']})"
      ]
     },
     "execution_count": 180,
     "metadata": {},
     "output_type": "execute_result"
    }
   ],
   "source": [
    "grid_SGDClassifier.fit(X_train,y_train)"
   ]
  },
  {
   "cell_type": "code",
   "execution_count": 181,
   "id": "548a813b",
   "metadata": {},
   "outputs": [
    {
     "data": {
      "text/plain": [
       "0.790846877673225"
      ]
     },
     "execution_count": 181,
     "metadata": {},
     "output_type": "execute_result"
    }
   ],
   "source": [
    "grid_SGDClassifier.best_score_"
   ]
  },
  {
   "cell_type": "code",
   "execution_count": 182,
   "id": "ebbbdb25",
   "metadata": {},
   "outputs": [
    {
     "data": {
      "text/plain": [
       "{'alpha': 0.0009, 'loss': 'log', 'penalty': 'l2'}"
      ]
     },
     "execution_count": 182,
     "metadata": {},
     "output_type": "execute_result"
    }
   ],
   "source": [
    "grid_SGDClassifier.best_params_"
   ]
  },
  {
   "cell_type": "code",
   "execution_count": 183,
   "id": "f8fe301c",
   "metadata": {},
   "outputs": [
    {
     "data": {
      "text/plain": [
       "0.7894736842105263"
      ]
     },
     "execution_count": 183,
     "metadata": {},
     "output_type": "execute_result"
    }
   ],
   "source": [
    "grid_SGDClassifier.score(X_test,y_test)"
   ]
  },
  {
   "cell_type": "code",
   "execution_count": null,
   "id": "c1b88e8a",
   "metadata": {},
   "outputs": [],
   "source": []
  }
 ],
 "metadata": {
  "kernelspec": {
   "display_name": "Python 3",
   "language": "python",
   "name": "python3"
  },
  "language_info": {
   "codemirror_mode": {
    "name": "ipython",
    "version": 3
   },
   "file_extension": ".py",
   "mimetype": "text/x-python",
   "name": "python",
   "nbconvert_exporter": "python",
   "pygments_lexer": "ipython3",
   "version": "3.8.8"
  }
 },
 "nbformat": 4,
 "nbformat_minor": 5
}
