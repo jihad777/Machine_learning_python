{
 "cells": [
  {
   "cell_type": "code",
   "execution_count": 1,
   "id": "d956a85d",
   "metadata": {},
   "outputs": [],
   "source": [
    "import pandas as pd\n",
    "import numpy as np\n",
    "import matplotlib.pyplot as plt\n"
   ]
  },
  {
   "cell_type": "code",
   "execution_count": null,
   "id": "23428aeb",
   "metadata": {},
   "outputs": [],
   "source": [
    "df = pd.read_excel(r'C:\\Users\\elbakkali\\Desktop\\Datasets_Machine_Learning\\covid19.xlsx')"
   ]
  },
  {
   "cell_type": "code",
   "execution_count": null,
   "id": "03198972",
   "metadata": {},
   "outputs": [],
   "source": [
    "df2 = df.copy()"
   ]
  },
  {
   "cell_type": "code",
   "execution_count": null,
   "id": "1ecea704",
   "metadata": {},
   "outputs": [],
   "source": [
    "pd.set_option('display.max_row', 111)\n",
    "pd.set_option('display.max_column', 111)"
   ]
  },
  {
   "cell_type": "code",
   "execution_count": null,
   "id": "6c0620b7",
   "metadata": {},
   "outputs": [],
   "source": [
    "missing_rate = (df.isna().sum()/df.shape[0])"
   ]
  },
  {
   "cell_type": "code",
   "execution_count": null,
   "id": "85f94a6d",
   "metadata": {},
   "outputs": [],
   "source": [
    "virus_columns = list(df.columns[(missing_rate >= 0.76) & (missing_rate <= 0.77)])"
   ]
  },
  {
   "cell_type": "code",
   "execution_count": null,
   "id": "ec52a3c5",
   "metadata": {},
   "outputs": [],
   "source": [
    "blood_columns = list(df.columns[(missing_rate >= 0.89) & (missing_rate <= 0.91)])"
   ]
  },
  {
   "cell_type": "code",
   "execution_count": null,
   "id": "308f5092",
   "metadata": {},
   "outputs": [],
   "source": [
    "important_columns = ['SARS-Cov-2 exam result', 'Patient age quantile']"
   ]
  },
  {
   "cell_type": "code",
   "execution_count": null,
   "id": "371d383c",
   "metadata": {},
   "outputs": [],
   "source": [
    "data = df[important_columns + blood_columns + virus_columns]"
   ]
  },
  {
   "cell_type": "code",
   "execution_count": null,
   "id": "041ffb28",
   "metadata": {},
   "outputs": [],
   "source": [
    "data2 = data.copy()"
   ]
  },
  {
   "cell_type": "code",
   "execution_count": null,
   "id": "9778751b",
   "metadata": {},
   "outputs": [],
   "source": [
    "#after_test_coumns = ['SARS-Cov-2 exam result','Patient age quantile','Platelets', 'Red blood Cells','Leukocytes', 'Eosinophils', 'Monocytes', 'Rhinovirus/Enterovirus', 'Inf A H1N1 2009']"
   ]
  },
  {
   "cell_type": "code",
   "execution_count": null,
   "id": "5fc2ed54",
   "metadata": {},
   "outputs": [],
   "source": []
  },
  {
   "cell_type": "code",
   "execution_count": null,
   "id": "63765772",
   "metadata": {},
   "outputs": [],
   "source": [
    "from sklearn.model_selection import train_test_split"
   ]
  },
  {
   "cell_type": "code",
   "execution_count": null,
   "id": "8f6ec9e1",
   "metadata": {},
   "outputs": [],
   "source": [
    "trainset, testset = train_test_split(data_after_test_2, test_size=0.2, random_state=0)"
   ]
  },
  {
   "cell_type": "code",
   "execution_count": null,
   "id": "9afdd216",
   "metadata": {},
   "outputs": [],
   "source": []
  },
  {
   "cell_type": "code",
   "execution_count": null,
   "id": "f8e702f1",
   "metadata": {},
   "outputs": [],
   "source": [
    "def encodage(df):\n",
    "    dictionnaire_codes = {   'negative':0,\n",
    "                             'positive':1,\n",
    "                             'not_detected':0,\n",
    "                             'detected':1 }\n",
    "    \n",
    "    for col in df.select_dtypes(object):\n",
    "        df[col] = df[col].map(dictionnaire_codes)\n",
    "        \n",
    "    return df  "
   ]
  },
  {
   "cell_type": "code",
   "execution_count": null,
   "id": "4e67a940",
   "metadata": {},
   "outputs": [],
   "source": [
    "def imputation(df):\n",
    "    df = df.dropna(axis=0)\n",
    "    return df"
   ]
  },
  {
   "cell_type": "code",
   "execution_count": null,
   "id": "70d77874",
   "metadata": {},
   "outputs": [],
   "source": [
    "from sklearn.preprocessing import StandardScaler"
   ]
  },
  {
   "cell_type": "code",
   "execution_count": null,
   "id": "5c22c056",
   "metadata": {},
   "outputs": [],
   "source": [
    "#to_scale_columns = ['Patient age quantile','Platelets', 'Red blood Cells', 'Leukocytes', 'Eosinophils','Monocytes']"
   ]
  },
  {
   "cell_type": "code",
   "execution_count": null,
   "id": "9953a7fc",
   "metadata": {},
   "outputs": [],
   "source": [
    "def scalling(df):\n",
    "    scaller = StandardScaler()\n",
    "    for col in to_scale_columns:\n",
    "        df[col] = scaller.fit_transform(df[[col]])\n",
    "     \n",
    "    return df"
   ]
  },
  {
   "cell_type": "code",
   "execution_count": null,
   "id": "c620ee17",
   "metadata": {},
   "outputs": [],
   "source": [
    "def preprocessing(df):\n",
    "    df = scalling(df)\n",
    "    df = encodage(df)\n",
    "    df = imputation(df)\n",
    "    \n",
    "    X = df.drop('SARS-Cov-2 exam result', axis = 1)\n",
    "    y = df['SARS-Cov-2 exam result']\n",
    "    \n",
    "    print(X.shape)\n",
    "    print(y.shape)\n",
    "    \n",
    "    print(y.value_counts(normalize=True))\n",
    "    \n",
    "    return X, y"
   ]
  },
  {
   "cell_type": "code",
   "execution_count": null,
   "id": "d3ae5865",
   "metadata": {},
   "outputs": [],
   "source": [
    "X_train, y_train = preprocessing(trainset)"
   ]
  },
  {
   "cell_type": "code",
   "execution_count": null,
   "id": "b57e0a0f",
   "metadata": {},
   "outputs": [],
   "source": [
    "X_test, y_test = preprocessing(testset)"
   ]
  },
  {
   "cell_type": "code",
   "execution_count": null,
   "id": "3d2da251",
   "metadata": {},
   "outputs": [],
   "source": []
  },
  {
   "cell_type": "code",
   "execution_count": null,
   "id": "2c43c172",
   "metadata": {},
   "outputs": [],
   "source": [
    "from sklearn.metrics import classification_report, confusion_matrix"
   ]
  },
  {
   "cell_type": "code",
   "execution_count": null,
   "id": "3d800ef4",
   "metadata": {},
   "outputs": [],
   "source": [
    "from sklearn.model_selection import learning_curve"
   ]
  },
  {
   "cell_type": "code",
   "execution_count": null,
   "id": "89f5d167",
   "metadata": {},
   "outputs": [],
   "source": [
    "from sklearn.tree import DecisionTreeClassifier\n",
    "from sklearn.ensemble import AdaBoostClassifier, RandomForestClassifier\n",
    "from sklearn.svm import SVC\n",
    "from sklearn.linear_model import LogisticRegression\n",
    "from sklearn.neighbors import KNeighborsClassifier"
   ]
  },
  {
   "cell_type": "code",
   "execution_count": null,
   "id": "80096dd2",
   "metadata": {},
   "outputs": [],
   "source": [
    "from sklearn.pipeline import make_pipeline\n",
    "from sklearn.preprocessing import PolynomialFeatures"
   ]
  },
  {
   "cell_type": "code",
   "execution_count": null,
   "id": "53784691",
   "metadata": {},
   "outputs": [],
   "source": [
    "preprocess = make_pipeline(PolynomialFeatures(2, include_bias=False), \n",
    "                      SelectKBest(f_classif, k=10))\n",
    "\n",
    "DTC = make_pipeline(preprocess, DecisionTreeClassifier(random_state=0))\n",
    "ADABOOST = make_pipeline(preprocess, AdaBoostClassifier(random_state=0))\n",
    "RF = make_pipeline(preprocess, RandomForestClassifier(random_state=0))\n",
    "LogisticReg = make_pipeline(preprocess, LogisticRegression(random_state=0))\n",
    "SVM = make_pipeline(preprocess, SVC(random_state=0))\n",
    "KNN = make_pipeline(preprocess, KNeighborsClassifier())"
   ]
  },
  {
   "cell_type": "code",
   "execution_count": null,
   "id": "71c38bdf",
   "metadata": {},
   "outputs": [],
   "source": [
    "dictio_models = { 'DTC':DTC,\n",
    "                 'ADABOOST':ADABOOST,\n",
    "                 'RF':RF,\n",
    "                 'LogisticReg':LogisticReg,\n",
    "                 'SVM':SVM,\n",
    "                 'KNN':KNN\n",
    "    \n",
    "}"
   ]
  },
  {
   "cell_type": "code",
   "execution_count": null,
   "id": "38262cc2",
   "metadata": {},
   "outputs": [],
   "source": [
    "def evaluation(model):\n",
    "    model.fit(X_best, y_best)\n",
    "    \n",
    "    y_pred = model.predict(X_test)\n",
    "    \n",
    "    print(confusion_matrix(y_test, y_pred))\n",
    "    print(classification_report(y_test, y_pred))\n",
    "    \n",
    "    N, train_score, test_score = learning_curve(model, X_train, y_train, cv=4, scoring='f1', train_sizes=np.linspace(0.1,1,50))\n",
    "    \n",
    "    \n",
    "    plt.figure(figsize=(8,6))\n",
    "    plt.plot(N, train_score.mean(axis=1), label=model)\n",
    "    plt.plot(N, test_score.mean(axis=1), label='validation')\n",
    "    plt.legend()"
   ]
  },
  {
   "cell_type": "code",
   "execution_count": null,
   "id": "ca0d0ebd",
   "metadata": {},
   "outputs": [],
   "source": [
    "for name, model in dictio_models.items():\n",
    "    print(name)\n",
    "    evaluation(model)"
   ]
  }
 ],
 "metadata": {
  "kernelspec": {
   "display_name": "Python 3 (ipykernel)",
   "language": "python",
   "name": "python3"
  },
  "language_info": {
   "codemirror_mode": {
    "name": "ipython",
    "version": 3
   },
   "file_extension": ".py",
   "mimetype": "text/x-python",
   "name": "python",
   "nbconvert_exporter": "python",
   "pygments_lexer": "ipython3",
   "version": "3.8.11"
  }
 },
 "nbformat": 4,
 "nbformat_minor": 5
}
