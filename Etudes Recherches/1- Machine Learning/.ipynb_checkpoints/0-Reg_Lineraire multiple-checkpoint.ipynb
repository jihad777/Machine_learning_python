{
 "cells": [
  {
   "cell_type": "code",
   "execution_count": 1,
   "id": "5683075b-a19d-41d2-8c82-d655869fc8f2",
   "metadata": {},
   "outputs": [],
   "source": [
    "#Régression linéaire multiple , modèle polynomiâle\n",
    "import numpy as np\n",
    "from sklearn.datasets import make_regression\n",
    "import matplotlib.pyplot as plt"
   ]
  },
  {
   "cell_type": "code",
   "execution_count": 2,
   "id": "b29f1fd9-4bb4-44fb-84c4-cb31db445f1a",
   "metadata": {},
   "outputs": [],
   "source": [
    "x , y = make_regression(n_samples=100, n_features=1, noise = 10)"
   ]
  },
  {
   "cell_type": "code",
   "execution_count": 4,
   "id": "2e38cf2c-1e72-4e47-b049-ec0d7ed41be8",
   "metadata": {},
   "outputs": [
    {
     "data": {
      "text/plain": [
       "<matplotlib.collections.PathCollection at 0x2cee44f1940>"
      ]
     },
     "execution_count": 4,
     "metadata": {},
     "output_type": "execute_result"
    },
    {
     "data": {
      "image/png": "[encoded data removed]",
      "text/plain": [
       "<Figure size 432x288 with 1 Axes>"
      ]
     },
     "metadata": {
      "needs_background": "light"
     },
     "output_type": "display_data"
    }
   ],
   "source": [
    "y = y**2\n",
    "plt.scatter(x,y)"
   ]
  },
  {
   "cell_type": "code",
   "execution_count": 5,
   "id": "5ffdf4ce-6755-4724-bf79-9af8a8da44e2",
   "metadata": {},
   "outputs": [
    {
     "name": "stdout",
     "output_type": "stream",
     "text": [
      "(100, 1)\n",
      "(100,)\n"
     ]
    }
   ],
   "source": [
    "print(x.shape)\n",
    "print(y.shape)"
   ]
  },
  {
   "cell_type": "code",
   "execution_count": 9,
   "id": "23093916-87f2-470a-8e30-67c183904caf",
   "metadata": {},
   "outputs": [
    {
     "name": "stdout",
     "output_type": "stream",
     "text": [
      "(100, 1)\n"
     ]
    }
   ],
   "source": [
    "y = y.reshape(y.shape[0],1 )\n",
    "print(y.shape)"
   ]
  },
  {
   "cell_type": "code",
   "execution_count": 10,
   "id": "875ab6de-ee1b-4c8c-838f-cee36c6c68f7",
   "metadata": {},
   "outputs": [
    {
     "data": {
      "text/plain": [
       "(100, 3)"
      ]
     },
     "execution_count": 10,
     "metadata": {},
     "output_type": "execute_result"
    }
   ],
   "source": [
    "X = np.hstack((x , np.ones(x.shape)))\n",
    "X = np.hstack((x**2, X))\n",
    "X.shape"
   ]
  },
  {
   "cell_type": "code",
   "execution_count": 11,
   "id": "933d8aaf-1f52-4912-bfd2-0401ea280ee3",
   "metadata": {},
   "outputs": [
    {
     "data": {
      "text/plain": [
       "array([[ 1.92622209e-03,  4.38887468e-02,  1.00000000e+00],\n",
       "       [ 6.60138415e-01,  8.12489024e-01,  1.00000000e+00],\n",
       "       [ 6.98419017e-01,  8.35714674e-01,  1.00000000e+00],\n",
       "       [ 5.21410799e+00,  2.28344214e+00,  1.00000000e+00],\n",
       "       [ 9.00044364e-02,  3.00007394e-01,  1.00000000e+00],\n",
       "       [ 3.72567404e-02,  1.93020052e-01,  1.00000000e+00],\n",
       "       [ 5.09540480e-02, -2.25730033e-01,  1.00000000e+00],\n",
       "       [ 3.34234944e-01, -5.78130559e-01,  1.00000000e+00],\n",
       "       [ 1.09390542e+00, -1.04589934e+00,  1.00000000e+00],\n",
       "       [ 1.45085748e+00,  1.20451545e+00,  1.00000000e+00],\n",
       "       [ 1.05290147e+00,  1.02610987e+00,  1.00000000e+00],\n",
       "       [ 1.02155807e-01, -3.19618220e-01,  1.00000000e+00],\n",
       "       [ 1.06716755e-01,  3.26675304e-01,  1.00000000e+00],\n",
       "       [ 2.41017165e+00, -1.55247275e+00,  1.00000000e+00],\n",
       "       [ 3.37762927e-01, -5.81173749e-01,  1.00000000e+00],\n",
       "       [ 2.20367049e+00, -1.48447650e+00,  1.00000000e+00],\n",
       "       [ 2.06552171e-02,  1.43719230e-01,  1.00000000e+00],\n",
       "       [ 1.58878617e+00, -1.26047061e+00,  1.00000000e+00],\n",
       "       [ 1.43642065e+00,  1.19850767e+00,  1.00000000e+00],\n",
       "       [ 1.65554560e+00, -1.28668007e+00,  1.00000000e+00],\n",
       "       [ 2.36211195e+00, -1.53691638e+00,  1.00000000e+00],\n",
       "       [ 3.48605767e-01, -5.90428460e-01,  1.00000000e+00],\n",
       "       [ 1.26485449e-03, -3.55647929e-02,  1.00000000e+00],\n",
       "       [ 9.62235497e-01,  9.80936031e-01,  1.00000000e+00],\n",
       "       [ 1.45080515e-01, -3.80894362e-01,  1.00000000e+00],\n",
       "       [ 6.57918059e-02, -2.56499134e-01,  1.00000000e+00],\n",
       "       [ 3.16407230e-01,  5.62500871e-01,  1.00000000e+00],\n",
       "       [ 1.21923219e-01, -3.49175055e-01,  1.00000000e+00],\n",
       "       [ 7.21136619e-02,  2.68539870e-01,  1.00000000e+00],\n",
       "       [ 1.93596574e+00,  1.39138986e+00,  1.00000000e+00],\n",
       "       [ 3.27159331e+00,  1.80875463e+00,  1.00000000e+00],\n",
       "       [ 5.50478098e-01, -7.41942112e-01,  1.00000000e+00],\n",
       "       [ 4.95506427e-01, -7.03922174e-01,  1.00000000e+00],\n",
       "       [ 6.05996671e-01,  7.78457880e-01,  1.00000000e+00],\n",
       "       [ 3.62824957e-01,  6.02349530e-01,  1.00000000e+00],\n",
       "       [ 6.67206359e-01,  8.16827007e-01,  1.00000000e+00],\n",
       "       [ 4.86125857e+00,  2.20482620e+00,  1.00000000e+00],\n",
       "       [ 7.25532524e-01,  8.51781970e-01,  1.00000000e+00],\n",
       "       [ 1.62311786e-01, -4.02879369e-01,  1.00000000e+00],\n",
       "       [ 1.42605842e+00, -1.19417688e+00,  1.00000000e+00],\n",
       "       [ 4.88275169e-02,  2.20969493e-01,  1.00000000e+00],\n",
       "       [ 4.58539208e-01, -6.77155232e-01,  1.00000000e+00],\n",
       "       [ 1.84146596e+00, -1.35700625e+00,  1.00000000e+00],\n",
       "       [ 3.08444598e+00, -1.75625909e+00,  1.00000000e+00],\n",
       "       [ 6.38307657e-01,  7.98941586e-01,  1.00000000e+00],\n",
       "       [ 5.91545084e+00,  2.43216999e+00,  1.00000000e+00],\n",
       "       [ 5.96122811e-02,  2.44156264e-01,  1.00000000e+00],\n",
       "       [ 9.10890445e-02,  3.01809616e-01,  1.00000000e+00],\n",
       "       [ 4.55813866e-03, -6.75139886e-02,  1.00000000e+00],\n",
       "       [ 6.24342331e-02,  2.49868432e-01,  1.00000000e+00],\n",
       "       [ 1.40305275e-01, -3.74573458e-01,  1.00000000e+00],\n",
       "       [ 1.39417425e-01,  3.73386428e-01,  1.00000000e+00],\n",
       "       [ 6.29194163e-03, -7.93217601e-02,  1.00000000e+00],\n",
       "       [ 1.65184670e+00,  1.28524188e+00,  1.00000000e+00],\n",
       "       [ 3.75546407e-01,  6.12818413e-01,  1.00000000e+00],\n",
       "       [ 4.21034134e+00, -2.05191163e+00,  1.00000000e+00],\n",
       "       [ 8.48851160e-01, -9.21331189e-01,  1.00000000e+00],\n",
       "       [ 6.07173065e-01, -7.79213106e-01,  1.00000000e+00],\n",
       "       [ 8.11016915e-01, -9.00564776e-01,  1.00000000e+00],\n",
       "       [ 1.32549927e+00,  1.15130329e+00,  1.00000000e+00],\n",
       "       [ 7.21103132e-01,  8.49177915e-01,  1.00000000e+00],\n",
       "       [ 6.08122503e-01, -7.79822097e-01,  1.00000000e+00],\n",
       "       [ 5.39407596e-01,  7.34443732e-01,  1.00000000e+00],\n",
       "       [ 7.16455799e-03, -8.46437121e-02,  1.00000000e+00],\n",
       "       [ 3.52557755e+00, -1.87765214e+00,  1.00000000e+00],\n",
       "       [ 8.60242927e-01,  9.27492818e-01,  1.00000000e+00],\n",
       "       [ 1.05227518e+00, -1.02580465e+00,  1.00000000e+00],\n",
       "       [ 1.04785532e-02,  1.02364804e-01,  1.00000000e+00],\n",
       "       [ 2.46187300e-01,  4.96172652e-01,  1.00000000e+00],\n",
       "       [ 6.71544642e-02,  2.59141784e-01,  1.00000000e+00],\n",
       "       [ 1.77928646e+00, -1.33389897e+00,  1.00000000e+00],\n",
       "       [ 1.41446391e-01,  3.76093593e-01,  1.00000000e+00],\n",
       "       [ 1.90708902e-01, -4.36702304e-01,  1.00000000e+00],\n",
       "       [ 1.89826588e+00, -1.37777570e+00,  1.00000000e+00],\n",
       "       [ 7.17412939e-01, -8.47002325e-01,  1.00000000e+00],\n",
       "       [ 2.55657227e-01, -5.05625580e-01,  1.00000000e+00],\n",
       "       [ 8.38489272e-03, -9.15690599e-02,  1.00000000e+00],\n",
       "       [ 8.94159498e-01,  9.45600073e-01,  1.00000000e+00],\n",
       "       [ 2.80918773e-04,  1.67606316e-02,  1.00000000e+00],\n",
       "       [ 4.53778501e-01, -6.73630835e-01,  1.00000000e+00],\n",
       "       [ 3.65922816e-03, -6.04915545e-02,  1.00000000e+00],\n",
       "       [ 6.87084265e-02, -2.62122923e-01,  1.00000000e+00],\n",
       "       [ 5.13361160e-03,  7.16492261e-02,  1.00000000e+00],\n",
       "       [ 2.71354500e+00,  1.64728413e+00,  1.00000000e+00],\n",
       "       [ 1.26841380e-03, -3.56147975e-02,  1.00000000e+00],\n",
       "       [ 2.56615893e+00,  1.60192351e+00,  1.00000000e+00],\n",
       "       [ 2.16264821e-01,  4.65042816e-01,  1.00000000e+00],\n",
       "       [ 1.91277210e+00, -1.38303004e+00,  1.00000000e+00],\n",
       "       [ 4.93244791e-01,  7.02313883e-01,  1.00000000e+00],\n",
       "       [ 8.73280466e-01, -9.34494765e-01,  1.00000000e+00],\n",
       "       [ 3.66050482e-01,  6.05021059e-01,  1.00000000e+00],\n",
       "       [ 9.84940574e-01, -9.92441723e-01,  1.00000000e+00],\n",
       "       [ 7.42810787e-01,  8.61864715e-01,  1.00000000e+00],\n",
       "       [ 2.45960057e-02, -1.56831137e-01,  1.00000000e+00],\n",
       "       [ 1.41722303e+00, -1.19047177e+00,  1.00000000e+00],\n",
       "       [ 2.86303516e+00, -1.69205058e+00,  1.00000000e+00],\n",
       "       [ 1.14703473e+00,  1.07099707e+00,  1.00000000e+00],\n",
       "       [ 5.38293144e-01, -7.33684636e-01,  1.00000000e+00],\n",
       "       [ 5.91828635e-05, -7.69303994e-03,  1.00000000e+00],\n",
       "       [ 2.66909013e-01,  5.16632377e-01,  1.00000000e+00]])"
      ]
     },
     "execution_count": 11,
     "metadata": {},
     "output_type": "execute_result"
    }
   ],
   "source": [
    "X"
   ]
  },
  {
   "cell_type": "code",
   "execution_count": 12,
   "id": "016ec75f-593d-4fdc-88f2-c86b57c7b64a",
   "metadata": {},
   "outputs": [
    {
     "data": {
      "text/plain": [
       "(3, 1)"
      ]
     },
     "execution_count": 12,
     "metadata": {},
     "output_type": "execute_result"
    }
   ],
   "source": [
    "#Initialiser theta avec des paramètres aléatoires\n",
    "theta = np.random.randn(3,1)\n",
    "theta.shape"
   ]
  },
  {
   "cell_type": "code",
   "execution_count": 13,
   "id": "fa0a81a8-4bf5-479c-a2f2-fadb0de440be",
   "metadata": {},
   "outputs": [],
   "source": [
    "#Etape 2: modèle\n",
    "#créer fonction X produit theta\n",
    "def model(X, theta):\n",
    "    return X.dot(theta)"
   ]
  },
  {
   "cell_type": "code",
   "execution_count": 14,
   "id": "c6d5e74f-0963-4aed-b1a7-46a1295881fe",
   "metadata": {},
   "outputs": [
    {
     "data": {
      "text/plain": [
       "<matplotlib.collections.PathCollection at 0x2cee464f4f0>"
      ]
     },
     "execution_count": 14,
     "metadata": {},
     "output_type": "execute_result"
    },
    {
     "data": {
      "image/png": "[encoded data removed]",
      "text/plain": [
       "<Figure size 432x288 with 1 Axes>"
      ]
     },
     "metadata": {
      "needs_background": "light"
     },
     "output_type": "display_data"
    }
   ],
   "source": [
    "plt.plot(x,model(X, theta), c='r')\n",
    "plt.scatter(y,x)"
   ]
  },
  {
   "cell_type": "code",
   "execution_count": 15,
   "id": "4bbb9572-3a1c-432a-94c5-27b3e13249b6",
   "metadata": {},
   "outputs": [],
   "source": [
    "#Fonction cout (erreur quadratique moyenne) >> on veut que ça tende vers 0\n",
    "def cost_function(X, y, theta):\n",
    "    m = len(y)\n",
    "    return 1/(2*m) * np.sum((model(X,theta)-y)**2)"
   ]
  },
  {
   "cell_type": "code",
   "execution_count": 16,
   "id": "a43690f0-b28b-4ecf-b9f8-201f6f04e79a",
   "metadata": {},
   "outputs": [
    {
     "data": {
      "text/plain": [
       "5902541.376280512"
      ]
     },
     "execution_count": 16,
     "metadata": {},
     "output_type": "execute_result"
    }
   ],
   "source": [
    "cost_function(X,y,theta)"
   ]
  },
  {
   "cell_type": "code",
   "execution_count": 17,
   "id": "22c5f9c2-bbf8-4619-b2c8-b004c874c14e",
   "metadata": {},
   "outputs": [],
   "source": [
    "#Gradient et Descente de gradient\n",
    "#Gradient\n",
    "def grad(X,y,theta):\n",
    "    m=len(y)\n",
    "    return (1/m)*X.T.dot( model(X,theta) - y)"
   ]
  },
  {
   "cell_type": "code",
   "execution_count": 18,
   "id": "3ae49be2-5b8a-4cad-8e93-0985a6b61375",
   "metadata": {},
   "outputs": [
    {
     "data": {
      "text/plain": [
       "array([[-5150.3191207 ],\n",
       "       [ -221.24998105],\n",
       "       [-2083.66771667]])"
      ]
     },
     "execution_count": 18,
     "metadata": {},
     "output_type": "execute_result"
    }
   ],
   "source": [
    "grad(X,y,theta)"
   ]
  },
  {
   "cell_type": "code",
   "execution_count": 19,
   "id": "5ac18c3e-8c11-4d2d-8987-76c191473cc6",
   "metadata": {},
   "outputs": [],
   "source": [
    "#Algo de descente de gradient\n",
    "def gradient_descent(X,y,theta, learning_rate, n_iterations):\n",
    "    \n",
    "    #---------------on a rajouté ces 2 lignes pour savoir si la machine a réussi à bien apprendre----------\n",
    "    cost_history = np.zeros(n_iterations)\n",
    "    for i in range (0, n_iterations):\n",
    "        theta = theta - learning_rate * grad(X,y,theta)\n",
    "        #------------ on va insérer dans ce vecteur (après chaque itération) -----------\n",
    "        cost_history[i]= cost_function(X,y,theta)\n",
    "        \n",
    "    return theta , cost_history"
   ]
  },
  {
   "cell_type": "code",
   "execution_count": 22,
   "id": "99fef832-592b-4417-b2a0-3624d124efdf",
   "metadata": {},
   "outputs": [
    {
     "data": {
      "text/plain": [
       "array([[2265.01531812],\n",
       "       [  13.24498281],\n",
       "       [ -28.83621904]])"
      ]
     },
     "execution_count": 22,
     "metadata": {},
     "output_type": "execute_result"
    }
   ],
   "source": [
    "#Machine Learning\n",
    "theta_final ,cost_history = gradient_descent(X,y,theta, learning_rate=0.01, n_iterations=1000)\n",
    "theta_final"
   ]
  },
  {
   "cell_type": "code",
   "execution_count": 23,
   "id": "eaaf8d30-8abb-4723-b31f-86ff75642651",
   "metadata": {},
   "outputs": [
    {
     "data": {
      "text/plain": [
       "<matplotlib.collections.PathCollection at 0x2cee56e1880>"
      ]
     },
     "execution_count": 23,
     "metadata": {},
     "output_type": "execute_result"
    },
    {
     "data": {
      "image/png": "[encoded data removed]",
      "text/plain": [
       "<Figure size 432x288 with 1 Axes>"
      ]
     },
     "metadata": {
      "needs_background": "light"
     },
     "output_type": "display_data"
    }
   ],
   "source": [
    "#vérification de l'apprentissage du madèle\n",
    "predictions = model(X,theta_final)\n",
    "plt.plot(x,predictions,c='r')\n",
    "plt.scatter(x,y)"
   ]
  },
  {
   "cell_type": "code",
   "execution_count": 25,
   "id": "8e069e66-7e76-4dd2-badc-adbc7d5e82dd",
   "metadata": {},
   "outputs": [
    {
     "data": {
      "text/plain": [
       "[<matplotlib.lines.Line2D at 0x2cee58cfd00>]"
      ]
     },
     "execution_count": 25,
     "metadata": {},
     "output_type": "execute_result"
    },
    {
     "data": {
      "image/png": "[encoded data removed]",
      "text/plain": [
       "<Figure size 432x288 with 1 Axes>"
      ]
     },
     "metadata": {
      "needs_background": "light"
     },
     "output_type": "display_data"
    }
   ],
   "source": [
    "#cost_history ou visualiser la courbe d'apprentissage de notre algo (ici à partir de la 80ème itération on aurai pu aaréter les itérations) \n",
    "plt.plot(range(1000), cost_history)"
   ]
  },
  {
   "cell_type": "code",
   "execution_count": 26,
   "id": "51c628a0-da5f-4aaf-8fea-090256eb66e1",
   "metadata": {},
   "outputs": [],
   "source": [
    "#Coefficient de détermination (permet de montrer la performance de notre modèle- plus proche de 1 plus le modèle performant)\n",
    "def coef_determination(y , pred):\n",
    "    u = ((y-pred)**2).sum()\n",
    "    v = ((y- y.mean())**2).sum()\n",
    "    return 1- u/v"
   ]
  },
  {
   "cell_type": "code",
   "execution_count": 27,
   "id": "dd581c11-72d7-41fc-92a7-b73d31ac7ce5",
   "metadata": {},
   "outputs": [
    {
     "data": {
      "text/plain": [
       "0.9736842066008138"
      ]
     },
     "execution_count": 27,
     "metadata": {},
     "output_type": "execute_result"
    }
   ],
   "source": [
    "coef_determination(y, predictions)"
   ]
  },
  {
   "cell_type": "code",
   "execution_count": null,
   "id": "5fc36f7c-040b-4d66-bb72-e811bda3c750",
   "metadata": {},
   "outputs": [],
   "source": []
  }
 ],
 "metadata": {
  "kernelspec": {
   "display_name": "Python 3",
   "language": "python",
   "name": "python3"
  },
  "language_info": {
   "codemirror_mode": {
    "name": "ipython",
    "version": 3
   },
   "file_extension": ".py",
   "mimetype": "text/x-python",
   "name": "python",
   "nbconvert_exporter": "python",
   "pygments_lexer": "ipython3",
   "version": "3.8.8"
  }
 },
 "nbformat": 4,
 "nbformat_minor": 5
}
