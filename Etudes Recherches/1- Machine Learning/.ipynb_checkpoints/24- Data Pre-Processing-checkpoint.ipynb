{
 "cells": [
  {
   "cell_type": "code",
   "execution_count": 1,
   "id": "55157164",
   "metadata": {},
   "outputs": [],
   "source": [
    "#Le Pre-Processing représnte parfois 80% du travail d'un Data Scientist\n",
    "import numpy as np\n",
    "   \n",
    "    "
   ]
  },
  {
   "cell_type": "code",
   "execution_count": 2,
   "id": "7145072a",
   "metadata": {},
   "outputs": [],
   "source": [
    "#Encoder (transformer valeurs qualitatives en valeurs numériques)\n",
    "        \n",
    "        #Ordinal encoders:  LabelEncoder() , OrdinalEncoder()\n",
    "   \n",
    "vect = np.array(['chat', 'chien', 'chat', 'loup'])"
   ]
  },
  {
   "cell_type": "code",
   "execution_count": 4,
   "id": "e7980ca8",
   "metadata": {},
   "outputs": [],
   "source": [
    "from sklearn.preprocessing import LabelEncoder, OrdinalEncoder"
   ]
  },
  {
   "cell_type": "code",
   "execution_count": 5,
   "id": "2752e200",
   "metadata": {},
   "outputs": [],
   "source": [
    "encoder = LabelEncoder()"
   ]
  },
  {
   "cell_type": "code",
   "execution_count": 6,
   "id": "9a83f9f0",
   "metadata": {},
   "outputs": [
    {
     "data": {
      "text/plain": [
       "LabelEncoder()"
      ]
     },
     "execution_count": 6,
     "metadata": {},
     "output_type": "execute_result"
    }
   ],
   "source": [
    "encoder.fit(vect)"
   ]
  },
  {
   "cell_type": "code",
   "execution_count": 7,
   "id": "a6afdcc7",
   "metadata": {},
   "outputs": [
    {
     "data": {
      "text/plain": [
       "array([0, 1, 0, 2])"
      ]
     },
     "execution_count": 7,
     "metadata": {},
     "output_type": "execute_result"
    }
   ],
   "source": [
    "encoder.transform(vect)"
   ]
  },
  {
   "cell_type": "code",
   "execution_count": 10,
   "id": "39afd78e",
   "metadata": {},
   "outputs": [
    {
     "data": {
      "text/plain": [
       "array(['chat', 'chat', 'chat', 'loup', 'chien', 'loup'], dtype='<U5')"
      ]
     },
     "execution_count": 10,
     "metadata": {},
     "output_type": "execute_result"
    }
   ],
   "source": [
    "encoder.inverse_transform(np.array([0, 0, 0, 2,1,2]))"
   ]
  },
  {
   "cell_type": "code",
   "execution_count": 11,
   "id": "9120106e",
   "metadata": {},
   "outputs": [],
   "source": [
    "        #OneHotEncoders : LabelBinarizer, MultiLabelBinarizer, OneHotEncoder\n",
    "    \n",
    "from sklearn.preprocessing import LabelBinarizer    "
   ]
  },
  {
   "cell_type": "code",
   "execution_count": 12,
   "id": "147fc02e",
   "metadata": {},
   "outputs": [],
   "source": [
    "encoder1= LabelBinarizer()"
   ]
  },
  {
   "cell_type": "code",
   "execution_count": 15,
   "id": "b582e2a1",
   "metadata": {},
   "outputs": [
    {
     "data": {
      "text/plain": [
       "array([[1, 0, 0],\n",
       "       [0, 1, 0],\n",
       "       [1, 0, 0],\n",
       "       [0, 0, 1]])"
      ]
     },
     "execution_count": 15,
     "metadata": {},
     "output_type": "execute_result"
    }
   ],
   "source": [
    "encoder1.fit_transform(vect)"
   ]
  },
  {
   "cell_type": "code",
   "execution_count": 16,
   "id": "f41f8e83",
   "metadata": {},
   "outputs": [
    {
     "data": {
      "text/plain": [
       "array(['chat', 'chien', 'chat', 'loup'], dtype='<U5')"
      ]
     },
     "execution_count": 16,
     "metadata": {},
     "output_type": "execute_result"
    }
   ],
   "source": [
    "encoder1.inverse_transform(np.array([[1, 0, 0],\n",
    "                                     [0, 1, 0],\n",
    "                                     [1, 0, 0],\n",
    "                                     [0, 0, 1]]))"
   ]
  },
  {
   "cell_type": "code",
   "execution_count": null,
   "id": "76689e88",
   "metadata": {},
   "outputs": [],
   "source": []
  }
 ],
 "metadata": {
  "kernelspec": {
   "display_name": "Python 3",
   "language": "python",
   "name": "python3"
  },
  "language_info": {
   "codemirror_mode": {
    "name": "ipython",
    "version": 3
   },
   "file_extension": ".py",
   "mimetype": "text/x-python",
   "name": "python",
   "nbconvert_exporter": "python",
   "pygments_lexer": "ipython3",
   "version": "3.8.8"
  }
 },
 "nbformat": 4,
 "nbformat_minor": 5
}
