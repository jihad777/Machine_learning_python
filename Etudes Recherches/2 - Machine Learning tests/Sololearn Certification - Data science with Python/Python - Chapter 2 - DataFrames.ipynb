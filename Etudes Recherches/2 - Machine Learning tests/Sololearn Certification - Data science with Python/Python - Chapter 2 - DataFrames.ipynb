{
 "cells": [
  {
   "cell_type": "code",
   "execution_count": 1,
   "id": "c7df37ba",
   "metadata": {},
   "outputs": [],
   "source": [
    "import numpy as np\n",
    "import pandas as pd"
   ]
  },
  {
   "cell_type": "code",
   "execution_count": 2,
   "id": "23f22ebb",
   "metadata": {},
   "outputs": [],
   "source": [
    "dict1 = {'red_liquid': [3, 8, 5],\n",
    "        'white_liquid': [13,14,19]}"
   ]
  },
  {
   "cell_type": "code",
   "execution_count": 3,
   "id": "8245319b",
   "metadata": {},
   "outputs": [],
   "source": [
    "A = pd.DataFrame(dict1, index=['Alex', 'John', 'Jihad'])"
   ]
  },
  {
   "cell_type": "code",
   "execution_count": 5,
   "id": "55e8c86c",
   "metadata": {},
   "outputs": [
    {
     "data": {
      "text/plain": [
       "{'red_liquid': [3, 8, 5], 'white_liquid': [13, 14, 19]}"
      ]
     },
     "execution_count": 5,
     "metadata": {},
     "output_type": "execute_result"
    }
   ],
   "source": [
    "dict1"
   ]
  },
  {
   "cell_type": "code",
   "execution_count": 6,
   "id": "58e7e21d",
   "metadata": {},
   "outputs": [
    {
     "data": {
      "text/html": [
       "<div>\n",
       "<style scoped>\n",
       "    .dataframe tbody tr th:only-of-type {\n",
       "        vertical-align: middle;\n",
       "    }\n",
       "\n",
       "    .dataframe tbody tr th {\n",
       "        vertical-align: top;\n",
       "    }\n",
       "\n",
       "    .dataframe thead th {\n",
       "        text-align: right;\n",
       "    }\n",
       "</style>\n",
       "<table border=\"1\" class=\"dataframe\">\n",
       "  <thead>\n",
       "    <tr style=\"text-align: right;\">\n",
       "      <th></th>\n",
       "      <th>red_liquid</th>\n",
       "      <th>white_liquid</th>\n",
       "    </tr>\n",
       "  </thead>\n",
       "  <tbody>\n",
       "    <tr>\n",
       "      <th>Alex</th>\n",
       "      <td>3</td>\n",
       "      <td>13</td>\n",
       "    </tr>\n",
       "    <tr>\n",
       "      <th>John</th>\n",
       "      <td>8</td>\n",
       "      <td>14</td>\n",
       "    </tr>\n",
       "    <tr>\n",
       "      <th>Jihad</th>\n",
       "      <td>5</td>\n",
       "      <td>19</td>\n",
       "    </tr>\n",
       "  </tbody>\n",
       "</table>\n",
       "</div>"
      ],
      "text/plain": [
       "       red_liquid  white_liquid\n",
       "Alex            3            13\n",
       "John            8            14\n",
       "Jihad           5            19"
      ]
     },
     "execution_count": 6,
     "metadata": {},
     "output_type": "execute_result"
    }
   ],
   "source": [
    "A"
   ]
  },
  {
   "cell_type": "code",
   "execution_count": 9,
   "id": "8d7ae9d8",
   "metadata": {},
   "outputs": [
    {
     "data": {
      "text/plain": [
       "Alex     3\n",
       "John     8\n",
       "Jihad    5\n",
       "Name: red_liquid, dtype: int64"
      ]
     },
     "execution_count": 9,
     "metadata": {},
     "output_type": "execute_result"
    }
   ],
   "source": [
    "A['red_liquid']"
   ]
  },
  {
   "cell_type": "code",
   "execution_count": 36,
   "id": "86b0f60b",
   "metadata": {},
   "outputs": [
    {
     "data": {
      "text/html": [
       "<div>\n",
       "<style scoped>\n",
       "    .dataframe tbody tr th:only-of-type {\n",
       "        vertical-align: middle;\n",
       "    }\n",
       "\n",
       "    .dataframe tbody tr th {\n",
       "        vertical-align: top;\n",
       "    }\n",
       "\n",
       "    .dataframe thead th {\n",
       "        text-align: right;\n",
       "    }\n",
       "</style>\n",
       "<table border=\"1\" class=\"dataframe\">\n",
       "  <thead>\n",
       "    <tr style=\"text-align: right;\">\n",
       "      <th></th>\n",
       "      <th>red_liquid</th>\n",
       "      <th>white_liquid</th>\n",
       "    </tr>\n",
       "  </thead>\n",
       "  <tbody>\n",
       "    <tr>\n",
       "      <th>0.25</th>\n",
       "      <td>4.0</td>\n",
       "      <td>13.5</td>\n",
       "    </tr>\n",
       "    <tr>\n",
       "      <th>0.50</th>\n",
       "      <td>5.0</td>\n",
       "      <td>14.0</td>\n",
       "    </tr>\n",
       "    <tr>\n",
       "      <th>0.75</th>\n",
       "      <td>6.5</td>\n",
       "      <td>16.5</td>\n",
       "    </tr>\n",
       "    <tr>\n",
       "      <th>1.00</th>\n",
       "      <td>8.0</td>\n",
       "      <td>19.0</td>\n",
       "    </tr>\n",
       "  </tbody>\n",
       "</table>\n",
       "</div>"
      ],
      "text/plain": [
       "      red_liquid  white_liquid\n",
       "0.25         4.0          13.5\n",
       "0.50         5.0          14.0\n",
       "0.75         6.5          16.5\n",
       "1.00         8.0          19.0"
      ]
     },
     "execution_count": 36,
     "metadata": {},
     "output_type": "execute_result"
    }
   ],
   "source": [
    "A.quantile([0.25, 0.5, 0.75,1])"
   ]
  },
  {
   "cell_type": "code",
   "execution_count": 35,
   "id": "31653dae",
   "metadata": {},
   "outputs": [
    {
     "data": {
      "text/html": [
       "<div>\n",
       "<style scoped>\n",
       "    .dataframe tbody tr th:only-of-type {\n",
       "        vertical-align: middle;\n",
       "    }\n",
       "\n",
       "    .dataframe tbody tr th {\n",
       "        vertical-align: top;\n",
       "    }\n",
       "\n",
       "    .dataframe thead th {\n",
       "        text-align: right;\n",
       "    }\n",
       "</style>\n",
       "<table border=\"1\" class=\"dataframe\">\n",
       "  <thead>\n",
       "    <tr style=\"text-align: right;\">\n",
       "      <th></th>\n",
       "      <th>red_liquid</th>\n",
       "      <th>white_liquid</th>\n",
       "    </tr>\n",
       "  </thead>\n",
       "  <tbody>\n",
       "    <tr>\n",
       "      <th>Alex</th>\n",
       "      <td>3</td>\n",
       "      <td>13</td>\n",
       "    </tr>\n",
       "    <tr>\n",
       "      <th>John</th>\n",
       "      <td>8</td>\n",
       "      <td>14</td>\n",
       "    </tr>\n",
       "    <tr>\n",
       "      <th>Jihad</th>\n",
       "      <td>5</td>\n",
       "      <td>19</td>\n",
       "    </tr>\n",
       "  </tbody>\n",
       "</table>\n",
       "</div>"
      ],
      "text/plain": [
       "       red_liquid  white_liquid\n",
       "Alex            3            13\n",
       "John            8            14\n",
       "Jihad           5            19"
      ]
     },
     "execution_count": 35,
     "metadata": {},
     "output_type": "execute_result"
    }
   ],
   "source": [
    "A"
   ]
  },
  {
   "cell_type": "code",
   "execution_count": 92,
   "id": "23952f99",
   "metadata": {},
   "outputs": [],
   "source": [
    "couleur = np.array((['black','black', 'white'],[90, 75, 60])).reshape(2,3)"
   ]
  },
  {
   "cell_type": "code",
   "execution_count": 93,
   "id": "a1f9dd89",
   "metadata": {},
   "outputs": [
    {
     "data": {
      "text/plain": [
       "array([['black', 'black', 'white'],\n",
       "       ['90', '75', '60']], dtype='<U11')"
      ]
     },
     "execution_count": 93,
     "metadata": {},
     "output_type": "execute_result"
    }
   ],
   "source": [
    "couleur"
   ]
  },
  {
   "cell_type": "code",
   "execution_count": 98,
   "id": "d839ea9a",
   "metadata": {},
   "outputs": [],
   "source": [
    "couleur_df = pd.DataFrame(couleur.transpose(), index=['Alex', 'John', 'Jihad'], columns=['couleur','poids'])"
   ]
  },
  {
   "cell_type": "code",
   "execution_count": 99,
   "id": "376e1b13",
   "metadata": {},
   "outputs": [
    {
     "data": {
      "text/plain": [
       "(2, 3)"
      ]
     },
     "execution_count": 99,
     "metadata": {},
     "output_type": "execute_result"
    }
   ],
   "source": [
    "couleur.shape"
   ]
  },
  {
   "cell_type": "code",
   "execution_count": 100,
   "id": "8c375efb",
   "metadata": {},
   "outputs": [
    {
     "data": {
      "text/plain": [
       "array([['black', 'black', 'white'],\n",
       "       ['90', '75', '60']], dtype='<U11')"
      ]
     },
     "execution_count": 100,
     "metadata": {},
     "output_type": "execute_result"
    }
   ],
   "source": [
    "couleur"
   ]
  },
  {
   "cell_type": "code",
   "execution_count": 102,
   "id": "d6720c96",
   "metadata": {},
   "outputs": [],
   "source": [
    "df = pd.merge(A, couleur_df, left_index=True, right_index=True)"
   ]
  },
  {
   "cell_type": "code",
   "execution_count": 103,
   "id": "1942ba01",
   "metadata": {},
   "outputs": [
    {
     "data": {
      "text/html": [
       "<div>\n",
       "<style scoped>\n",
       "    .dataframe tbody tr th:only-of-type {\n",
       "        vertical-align: middle;\n",
       "    }\n",
       "\n",
       "    .dataframe tbody tr th {\n",
       "        vertical-align: top;\n",
       "    }\n",
       "\n",
       "    .dataframe thead th {\n",
       "        text-align: right;\n",
       "    }\n",
       "</style>\n",
       "<table border=\"1\" class=\"dataframe\">\n",
       "  <thead>\n",
       "    <tr style=\"text-align: right;\">\n",
       "      <th></th>\n",
       "      <th>red_liquid</th>\n",
       "      <th>white_liquid</th>\n",
       "      <th>couleur</th>\n",
       "      <th>poids</th>\n",
       "    </tr>\n",
       "  </thead>\n",
       "  <tbody>\n",
       "    <tr>\n",
       "      <th>Alex</th>\n",
       "      <td>3</td>\n",
       "      <td>13</td>\n",
       "      <td>black</td>\n",
       "      <td>90</td>\n",
       "    </tr>\n",
       "    <tr>\n",
       "      <th>John</th>\n",
       "      <td>8</td>\n",
       "      <td>14</td>\n",
       "      <td>black</td>\n",
       "      <td>75</td>\n",
       "    </tr>\n",
       "    <tr>\n",
       "      <th>Jihad</th>\n",
       "      <td>5</td>\n",
       "      <td>19</td>\n",
       "      <td>white</td>\n",
       "      <td>60</td>\n",
       "    </tr>\n",
       "  </tbody>\n",
       "</table>\n",
       "</div>"
      ],
      "text/plain": [
       "       red_liquid  white_liquid couleur poids\n",
       "Alex            3            13   black    90\n",
       "John            8            14   black    75\n",
       "Jihad           5            19   white    60"
      ]
     },
     "execution_count": 103,
     "metadata": {},
     "output_type": "execute_result"
    }
   ],
   "source": [
    "pd.merge(A, couleur_df, left_index=True, right_index=True)"
   ]
  },
  {
   "cell_type": "code",
   "execution_count": 112,
   "id": "3e2b51c8",
   "metadata": {},
   "outputs": [
    {
     "data": {
      "text/html": [
       "<div>\n",
       "<style scoped>\n",
       "    .dataframe tbody tr th:only-of-type {\n",
       "        vertical-align: middle;\n",
       "    }\n",
       "\n",
       "    .dataframe tbody tr th {\n",
       "        vertical-align: top;\n",
       "    }\n",
       "\n",
       "    .dataframe thead th {\n",
       "        text-align: right;\n",
       "    }\n",
       "</style>\n",
       "<table border=\"1\" class=\"dataframe\">\n",
       "  <thead>\n",
       "    <tr style=\"text-align: right;\">\n",
       "      <th></th>\n",
       "      <th>min</th>\n",
       "      <th>max</th>\n",
       "      <th>median</th>\n",
       "      <th>mean</th>\n",
       "    </tr>\n",
       "    <tr>\n",
       "      <th>couleur</th>\n",
       "      <th></th>\n",
       "      <th></th>\n",
       "      <th></th>\n",
       "      <th></th>\n",
       "    </tr>\n",
       "  </thead>\n",
       "  <tbody>\n",
       "    <tr>\n",
       "      <th>black</th>\n",
       "      <td>75</td>\n",
       "      <td>90</td>\n",
       "      <td>82.5</td>\n",
       "      <td>4537.5</td>\n",
       "    </tr>\n",
       "    <tr>\n",
       "      <th>white</th>\n",
       "      <td>60</td>\n",
       "      <td>60</td>\n",
       "      <td>60.0</td>\n",
       "      <td>60.0</td>\n",
       "    </tr>\n",
       "  </tbody>\n",
       "</table>\n",
       "</div>"
      ],
      "text/plain": [
       "        min max  median    mean\n",
       "couleur                        \n",
       "black    75  90    82.5  4537.5\n",
       "white    60  60    60.0    60.0"
      ]
     },
     "execution_count": 112,
     "metadata": {},
     "output_type": "execute_result"
    }
   ],
   "source": [
    "df.groupby('couleur')['poids'].agg(['min', 'max','median','mean'])"
   ]
  },
  {
   "cell_type": "code",
   "execution_count": 115,
   "id": "9d0cf796",
   "metadata": {},
   "outputs": [
    {
     "data": {
      "text/html": [
       "<div>\n",
       "<style scoped>\n",
       "    .dataframe tbody tr th:only-of-type {\n",
       "        vertical-align: middle;\n",
       "    }\n",
       "\n",
       "    .dataframe tbody tr th {\n",
       "        vertical-align: top;\n",
       "    }\n",
       "\n",
       "    .dataframe thead tr th {\n",
       "        text-align: left;\n",
       "    }\n",
       "\n",
       "    .dataframe thead tr:last-of-type th {\n",
       "        text-align: right;\n",
       "    }\n",
       "</style>\n",
       "<table border=\"1\" class=\"dataframe\">\n",
       "  <thead>\n",
       "    <tr>\n",
       "      <th></th>\n",
       "      <th>red_liquid</th>\n",
       "      <th>white_liquid</th>\n",
       "      <th>poids</th>\n",
       "    </tr>\n",
       "    <tr>\n",
       "      <th></th>\n",
       "      <th>min</th>\n",
       "      <th>max</th>\n",
       "      <th>mean</th>\n",
       "    </tr>\n",
       "    <tr>\n",
       "      <th>couleur</th>\n",
       "      <th></th>\n",
       "      <th></th>\n",
       "      <th></th>\n",
       "    </tr>\n",
       "  </thead>\n",
       "  <tbody>\n",
       "    <tr>\n",
       "      <th>black</th>\n",
       "      <td>3</td>\n",
       "      <td>14</td>\n",
       "      <td>4537.5</td>\n",
       "    </tr>\n",
       "    <tr>\n",
       "      <th>white</th>\n",
       "      <td>5</td>\n",
       "      <td>19</td>\n",
       "      <td>60.0</td>\n",
       "    </tr>\n",
       "  </tbody>\n",
       "</table>\n",
       "</div>"
      ],
      "text/plain": [
       "        red_liquid white_liquid   poids\n",
       "               min          max    mean\n",
       "couleur                                \n",
       "black            3           14  4537.5\n",
       "white            5           19    60.0"
      ]
     },
     "execution_count": 115,
     "metadata": {},
     "output_type": "execute_result"
    }
   ],
   "source": [
    "# Groupby + agg(dictionnaire) ------------------------------ \n",
    "# ----------------------------tableau croisé avec aggrégation puis selection de fonction d'aggrégat pour chaque variable\n",
    "\n",
    "df.groupby('couleur').agg({'red_liquid':['min'],\n",
    "                            'white_liquid':['max'],\n",
    "                             'poids':['mean']})"
   ]
  },
  {
   "cell_type": "markdown",
   "id": "9bd7eee1",
   "metadata": {},
   "source": [
    "# Test case 1 "
   ]
  },
  {
   "cell_type": "code",
   "execution_count": 133,
   "id": "4409dc36",
   "metadata": {},
   "outputs": [
    {
     "name": "stdout",
     "output_type": "stream",
     "text": [
      "[[ 1.2  0. ]\n",
      " [ 0.5 -1. ]]\n"
     ]
    }
   ],
   "source": [
    "import numpy as np\n",
    "\n",
    "r =2\n",
    "lst =[1.2 ,0 ,0.5 ,-1]\n",
    "arr = np.array(lst)\n",
    "arr1 = arr.reshape(r,2)\n",
    "print(arr1)"
   ]
  },
  {
   "cell_type": "markdown",
   "id": "3496b8ef",
   "metadata": {},
   "source": [
    "# Test case 2"
   ]
  },
  {
   "cell_type": "code",
   "execution_count": 135,
   "id": "495c9190",
   "metadata": {},
   "outputs": [
    {
     "name": "stdout",
     "output_type": "stream",
     "text": [
      "[[1.  2. ]\n",
      " [1.  0.5]\n",
      " [1.  0.3]]\n"
     ]
    }
   ],
   "source": [
    "import numpy as np\n",
    "\n",
    "r = 3\n",
    "arr = np.array([1,2,1,0.5,1,0.3])\n",
    "arr1 = arr.reshape(r,2)\n",
    "print(arr1)"
   ]
  },
  {
   "cell_type": "code",
   "execution_count": null,
   "id": "644a1d1b",
   "metadata": {},
   "outputs": [],
   "source": []
  }
 ],
 "metadata": {
  "kernelspec": {
   "display_name": "Python 3 (ipykernel)",
   "language": "python",
   "name": "python3"
  },
  "language_info": {
   "codemirror_mode": {
    "name": "ipython",
    "version": 3
   },
   "file_extension": ".py",
   "mimetype": "text/x-python",
   "name": "python",
   "nbconvert_exporter": "python",
   "pygments_lexer": "ipython3",
   "version": "3.8.11"
  }
 },
 "nbformat": 4,
 "nbformat_minor": 5
}
