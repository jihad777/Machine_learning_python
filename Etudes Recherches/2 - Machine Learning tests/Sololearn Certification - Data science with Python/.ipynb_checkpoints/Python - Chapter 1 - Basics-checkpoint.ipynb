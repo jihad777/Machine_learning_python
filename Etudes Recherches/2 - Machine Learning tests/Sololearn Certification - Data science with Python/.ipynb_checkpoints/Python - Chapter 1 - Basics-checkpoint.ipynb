{
 "cells": [
  {
   "cell_type": "markdown",
   "id": "f1dabb4f",
   "metadata": {},
   "source": [
    "# lesson 3"
   ]
  },
  {
   "cell_type": "code",
   "execution_count": 1,
   "id": "923f9df2",
   "metadata": {},
   "outputs": [],
   "source": [
    "height = [189, 170, 189, 163, 183, 171, 185, 168, 173, 183, 173, 173, 175, 178, 183, 193, 178, 173, 174, 183, 183, 180, 168, 180, 170, 178, 182, 180, 183, 178, 182, 188, 175, 179, 183, 193, 182, 183, 177, 185, 188, 188, 182, 185, 191]"
   ]
  },
  {
   "cell_type": "code",
   "execution_count": 4,
   "id": "b508f368",
   "metadata": {},
   "outputs": [
    {
     "name": "stdout",
     "output_type": "stream",
     "text": [
      "5\n"
     ]
    }
   ],
   "source": [
    "count = 0\n",
    "for h in height:\n",
    "    if h > 188:\n",
    "        count = count +1\n",
    "    \n",
    "print(count)\n",
    "        \n",
    "    "
   ]
  },
  {
   "cell_type": "markdown",
   "id": "df9ce087",
   "metadata": {},
   "source": [
    "#### Exo 2"
   ]
  },
  {
   "cell_type": "code",
   "execution_count": 2,
   "id": "4c41bc43",
   "metadata": {},
   "outputs": [],
   "source": [
    "import numpy as np"
   ]
  },
  {
   "cell_type": "code",
   "execution_count": 7,
   "id": "0e7a886c",
   "metadata": {},
   "outputs": [],
   "source": [
    "height_arr = np.array(height)"
   ]
  },
  {
   "cell_type": "code",
   "execution_count": 12,
   "id": "ea7be15e",
   "metadata": {},
   "outputs": [
    {
     "data": {
      "text/plain": [
       "5"
      ]
     },
     "execution_count": 12,
     "metadata": {},
     "output_type": "execute_result"
    }
   ],
   "source": [
    "(height_arr > 188).sum()"
   ]
  },
  {
   "cell_type": "code",
   "execution_count": 13,
   "id": "4825a4e9",
   "metadata": {},
   "outputs": [
    {
     "data": {
      "text/plain": [
       "45"
      ]
     },
     "execution_count": 13,
     "metadata": {},
     "output_type": "execute_result"
    }
   ],
   "source": [
    "height_arr.size"
   ]
  },
  {
   "cell_type": "code",
   "execution_count": 14,
   "id": "f2865448",
   "metadata": {},
   "outputs": [
    {
     "data": {
      "text/plain": [
       "(45,)"
      ]
     },
     "execution_count": 14,
     "metadata": {},
     "output_type": "execute_result"
    }
   ],
   "source": [
    "height_arr.shape"
   ]
  },
  {
   "cell_type": "code",
   "execution_count": 18,
   "id": "ade7334a",
   "metadata": {},
   "outputs": [
    {
     "data": {
      "text/plain": [
       "45"
      ]
     },
     "execution_count": 18,
     "metadata": {},
     "output_type": "execute_result"
    }
   ],
   "source": [
    "height_arr.shape[0]"
   ]
  },
  {
   "cell_type": "markdown",
   "id": "04df82fe",
   "metadata": {},
   "source": [
    "# Reshape"
   ]
  },
  {
   "cell_type": "code",
   "execution_count": 3,
   "id": "f443ea34",
   "metadata": {},
   "outputs": [],
   "source": [
    "ages = [57, 61, 57, 57, 58, 57, 61, 54, 68, 51, 49, 64, 50, 48, 65, 52, 56, 46, 54, 49, 51, 47, 55, 55, 54, 42, 51, 56, 55, 51, 54, 51, 60, 62, 43, 55, 56, 61, 52, 69, 64, 46, 54, 47, 70]"
   ]
  },
  {
   "cell_type": "code",
   "execution_count": 20,
   "id": "b06e03cf",
   "metadata": {},
   "outputs": [],
   "source": [
    "height_ages = height + ages"
   ]
  },
  {
   "cell_type": "code",
   "execution_count": 21,
   "id": "675b9b5f",
   "metadata": {},
   "outputs": [],
   "source": [
    "height_ages_array = np.array(height_ages)"
   ]
  },
  {
   "cell_type": "code",
   "execution_count": 23,
   "id": "c75de3e4",
   "metadata": {},
   "outputs": [
    {
     "data": {
      "text/plain": [
       "array([189, 170, 189, 163, 183, 171, 185, 168, 173, 183, 173, 173, 175,\n",
       "       178, 183, 193, 178, 173, 174, 183, 183, 180, 168, 180, 170, 178,\n",
       "       182, 180, 183, 178, 182, 188, 175, 179, 183, 193, 182, 183, 177,\n",
       "       185, 188, 188, 182, 185, 191,  57,  61,  57,  57,  58,  57,  61,\n",
       "        54,  68,  51,  49,  64,  50,  48,  65,  52,  56,  46,  54,  49,\n",
       "        51,  47,  55,  55,  54,  42,  51,  56,  55,  51,  54,  51,  60,\n",
       "        62,  43,  55,  56,  61,  52,  69,  64,  46,  54,  47,  70])"
      ]
     },
     "execution_count": 23,
     "metadata": {},
     "output_type": "execute_result"
    }
   ],
   "source": [
    "height_ages_array"
   ]
  },
  {
   "cell_type": "code",
   "execution_count": 24,
   "id": "85860923",
   "metadata": {},
   "outputs": [
    {
     "data": {
      "text/plain": [
       "array([[189, 170, 189, 163, 183, 171, 185, 168, 173, 183, 173, 173, 175,\n",
       "        178, 183, 193, 178, 173, 174, 183, 183, 180, 168, 180, 170, 178,\n",
       "        182, 180, 183, 178, 182, 188, 175, 179, 183, 193, 182, 183, 177,\n",
       "        185, 188, 188, 182, 185, 191],\n",
       "       [ 57,  61,  57,  57,  58,  57,  61,  54,  68,  51,  49,  64,  50,\n",
       "         48,  65,  52,  56,  46,  54,  49,  51,  47,  55,  55,  54,  42,\n",
       "         51,  56,  55,  51,  54,  51,  60,  62,  43,  55,  56,  61,  52,\n",
       "         69,  64,  46,  54,  47,  70]])"
      ]
     },
     "execution_count": 24,
     "metadata": {},
     "output_type": "execute_result"
    }
   ],
   "source": [
    "height_ages_array.reshape(2,45)"
   ]
  },
  {
   "cell_type": "code",
   "execution_count": 1,
   "id": "b4ee5080",
   "metadata": {},
   "outputs": [],
   "source": [
    "height = [189, 170, 189, 163, 183, 171, 185, 168, 173, 183, 173, 173, 175, 178, 183, 193, 178, 173, 174, 183, 183, 180, 168, 180, 170, 178, 182, 180, 183, 178, 182, 188, 175, 179, 183, 193, 182, 183, 177, 185, 188, 188, 182, 185, 191]"
   ]
  },
  {
   "cell_type": "code",
   "execution_count": 3,
   "id": "91e17d88",
   "metadata": {},
   "outputs": [],
   "source": [
    "height_arr = np.array(height)"
   ]
  },
  {
   "cell_type": "code",
   "execution_count": 4,
   "id": "4749a33f",
   "metadata": {},
   "outputs": [
    {
     "data": {
      "text/plain": [
       "array([189, 170, 189, 163, 183, 171, 185, 168, 173, 183, 173, 173, 175,\n",
       "       178, 183, 193, 178, 173, 174, 183, 183, 180, 168, 180, 170, 178,\n",
       "       182, 180, 183, 178, 182, 188, 175, 179, 183, 193, 182, 183, 177,\n",
       "       185, 188, 188, 182, 185, 191])"
      ]
     },
     "execution_count": 4,
     "metadata": {},
     "output_type": "execute_result"
    }
   ],
   "source": [
    "height_arr"
   ]
  },
  {
   "cell_type": "code",
   "execution_count": 8,
   "id": "e4f52312",
   "metadata": {},
   "outputs": [
    {
     "data": {
      "text/plain": [
       "189"
      ]
     },
     "execution_count": 8,
     "metadata": {},
     "output_type": "execute_result"
    }
   ],
   "source": [
    "height_arr[2]"
   ]
  },
  {
   "cell_type": "code",
   "execution_count": 11,
   "id": "b83a9cb9",
   "metadata": {},
   "outputs": [],
   "source": [
    "height_ages= height +ages"
   ]
  },
  {
   "cell_type": "code",
   "execution_count": 13,
   "id": "3bb0cc7f",
   "metadata": {},
   "outputs": [],
   "source": [
    "height_ages_2darray = (np.array(height_ages)).reshape(2,45)"
   ]
  },
  {
   "cell_type": "code",
   "execution_count": 18,
   "id": "3892cf9e",
   "metadata": {},
   "outputs": [
    {
     "data": {
      "text/plain": [
       "array([57, 61, 57])"
      ]
     },
     "execution_count": 18,
     "metadata": {},
     "output_type": "execute_result"
    }
   ],
   "source": [
    "height_ages_2darray[1,0:3]"
   ]
  },
  {
   "cell_type": "code",
   "execution_count": 23,
   "id": "788357b7",
   "metadata": {},
   "outputs": [
    {
     "data": {
      "text/plain": [
       "array([[189, 170, 189, 163, 183],\n",
       "       [ 57,  61,  57,  57,  58]])"
      ]
     },
     "execution_count": 23,
     "metadata": {},
     "output_type": "execute_result"
    }
   ],
   "source": [
    "height_ages_2darray[:,0:5]"
   ]
  },
  {
   "cell_type": "code",
   "execution_count": 24,
   "id": "5b46dc98",
   "metadata": {},
   "outputs": [
    {
     "data": {
      "text/plain": [
       "array([163,  57])"
      ]
     },
     "execution_count": 24,
     "metadata": {},
     "output_type": "execute_result"
    }
   ],
   "source": [
    "height_ages_2darray[:,3]"
   ]
  },
  {
   "cell_type": "code",
   "execution_count": 29,
   "id": "c29d5d06",
   "metadata": {},
   "outputs": [
    {
     "data": {
      "text/plain": [
       "array([[189, 170]])"
      ]
     },
     "execution_count": 29,
     "metadata": {},
     "output_type": "execute_result"
    }
   ],
   "source": [
    "height_ages_2darray[:1,:2]"
   ]
  },
  {
   "cell_type": "code",
   "execution_count": 30,
   "id": "e966c20e",
   "metadata": {},
   "outputs": [],
   "source": [
    "# change values with subsets\n",
    "\n",
    "height_ages_2darray[:,0]= [210, 110]"
   ]
  },
  {
   "cell_type": "code",
   "execution_count": 31,
   "id": "bccfe49f",
   "metadata": {},
   "outputs": [
    {
     "data": {
      "text/plain": [
       "array([[210, 170, 189, 163, 183, 171, 185, 168, 173, 183, 173, 173, 175,\n",
       "        178, 183, 193, 178, 173, 174, 183, 183, 180, 168, 180, 170, 178,\n",
       "        182, 180, 183, 178, 182, 188, 175, 179, 183, 193, 182, 183, 177,\n",
       "        185, 188, 188, 182, 185, 191],\n",
       "       [110,  61,  57,  57,  58,  57,  61,  54,  68,  51,  49,  64,  50,\n",
       "         48,  65,  52,  56,  46,  54,  49,  51,  47,  55,  55,  54,  42,\n",
       "         51,  56,  55,  51,  54,  51,  60,  62,  43,  55,  56,  61,  52,\n",
       "         69,  64,  46,  54,  47,  70]])"
      ]
     },
     "execution_count": 31,
     "metadata": {},
     "output_type": "execute_result"
    }
   ],
   "source": [
    "height_ages_2darray"
   ]
  },
  {
   "cell_type": "code",
   "execution_count": 34,
   "id": "adc25477",
   "metadata": {},
   "outputs": [],
   "source": [
    "ages_arr = np.array(ages)"
   ]
  },
  {
   "cell_type": "code",
   "execution_count": 37,
   "id": "a0c787a6",
   "metadata": {},
   "outputs": [],
   "source": [
    "ages_reshaped = ages_arr.reshape(1,45)"
   ]
  },
  {
   "cell_type": "code",
   "execution_count": 38,
   "id": "627f3bf4",
   "metadata": {},
   "outputs": [],
   "source": [
    "height_reshaped = height_arr.reshape(1,45)"
   ]
  },
  {
   "cell_type": "code",
   "execution_count": 41,
   "id": "fdc50bed",
   "metadata": {},
   "outputs": [],
   "source": [
    "height_ages_hstack = np.vstack((height_reshaped, ages_reshaped))"
   ]
  },
  {
   "cell_type": "code",
   "execution_count": 42,
   "id": "b829c551",
   "metadata": {},
   "outputs": [
    {
     "data": {
      "text/plain": [
       "array([[189, 170, 189, 163, 183, 171, 185, 168, 173, 183, 173, 173, 175,\n",
       "        178, 183, 193, 178, 173, 174, 183, 183, 180, 168, 180, 170, 178,\n",
       "        182, 180, 183, 178, 182, 188, 175, 179, 183, 193, 182, 183, 177,\n",
       "        185, 188, 188, 182, 185, 191],\n",
       "       [ 57,  61,  57,  57,  58,  57,  61,  54,  68,  51,  49,  64,  50,\n",
       "         48,  65,  52,  56,  46,  54,  49,  51,  47,  55,  55,  54,  42,\n",
       "         51,  56,  55,  51,  54,  51,  60,  62,  43,  55,  56,  61,  52,\n",
       "         69,  64,  46,  54,  47,  70]])"
      ]
     },
     "execution_count": 42,
     "metadata": {},
     "output_type": "execute_result"
    }
   ],
   "source": [
    "height_ages_hstack"
   ]
  },
  {
   "cell_type": "code",
   "execution_count": 4,
   "id": "d156730e",
   "metadata": {},
   "outputs": [],
   "source": [
    "height_ages_2darray = (np.array((height, ages))).reshape(2,45)"
   ]
  },
  {
   "cell_type": "code",
   "execution_count": 5,
   "id": "a19fc5bf",
   "metadata": {},
   "outputs": [
    {
     "data": {
      "text/plain": [
       "array([[189, 170, 189, 163, 183, 171, 185, 168, 173, 183, 173, 173, 175,\n",
       "        178, 183, 193, 178, 173, 174, 183, 183, 180, 168, 180, 170, 178,\n",
       "        182, 180, 183, 178, 182, 188, 175, 179, 183, 193, 182, 183, 177,\n",
       "        185, 188, 188, 182, 185, 191],\n",
       "       [ 57,  61,  57,  57,  58,  57,  61,  54,  68,  51,  49,  64,  50,\n",
       "         48,  65,  52,  56,  46,  54,  49,  51,  47,  55,  55,  54,  42,\n",
       "         51,  56,  55,  51,  54,  51,  60,  62,  43,  55,  56,  61,  52,\n",
       "         69,  64,  46,  54,  47,  70]])"
      ]
     },
     "execution_count": 5,
     "metadata": {},
     "output_type": "execute_result"
    }
   ],
   "source": [
    "height_ages_2darray"
   ]
  },
  {
   "cell_type": "code",
   "execution_count": 8,
   "id": "e2396cc0",
   "metadata": {},
   "outputs": [
    {
     "data": {
      "text/plain": [
       "array([8100, 2475])"
      ]
     },
     "execution_count": 8,
     "metadata": {},
     "output_type": "execute_result"
    }
   ],
   "source": [
    "height_ages_2darray.sum(axis=1)"
   ]
  },
  {
   "cell_type": "code",
   "execution_count": 12,
   "id": "7bd4bab8",
   "metadata": {},
   "outputs": [
    {
     "data": {
      "text/plain": [
       "array([False, False])"
      ]
     },
     "execution_count": 12,
     "metadata": {},
     "output_type": "execute_result"
    }
   ],
   "source": [
    "height_ages_2darray[:,0]==55"
   ]
  },
  {
   "cell_type": "code",
   "execution_count": 17,
   "id": "ab9ed357",
   "metadata": {},
   "outputs": [
    {
     "data": {
      "text/plain": [
       "4"
      ]
     },
     "execution_count": 17,
     "metadata": {},
     "output_type": "execute_result"
    }
   ],
   "source": [
    "(height_ages_2darray[1,:]==55).sum()"
   ]
  },
  {
   "cell_type": "markdown",
   "id": "894cdfc1",
   "metadata": {},
   "source": [
    "# Mask & subsetting"
   ]
  },
  {
   "cell_type": "code",
   "execution_count": 48,
   "id": "87640411",
   "metadata": {},
   "outputs": [],
   "source": [
    "mask = height_ages_2darray[:,0] >= 182"
   ]
  },
  {
   "cell_type": "code",
   "execution_count": 49,
   "id": "5abe962a",
   "metadata": {},
   "outputs": [
    {
     "data": {
      "text/plain": [
       "1"
      ]
     },
     "execution_count": 49,
     "metadata": {},
     "output_type": "execute_result"
    }
   ],
   "source": [
    "mask.sum()"
   ]
  },
  {
   "cell_type": "code",
   "execution_count": 50,
   "id": "2dd55860",
   "metadata": {},
   "outputs": [
    {
     "data": {
      "text/plain": [
       "array([ True, False])"
      ]
     },
     "execution_count": 50,
     "metadata": {},
     "output_type": "execute_result"
    }
   ],
   "source": [
    "mask"
   ]
  },
  {
   "cell_type": "code",
   "execution_count": 51,
   "id": "e28f45ee",
   "metadata": {},
   "outputs": [
    {
     "data": {
      "text/plain": [
       "array([[189, 170, 189, 163, 183, 171, 185, 168, 173, 183, 173, 173, 175,\n",
       "        178, 183, 193, 178, 173, 174, 183, 183, 180, 168, 180, 170, 178,\n",
       "        182, 180, 183, 178, 182, 188, 175, 179, 183, 193, 182, 183, 177,\n",
       "        185, 188, 188, 182, 185, 191]])"
      ]
     },
     "execution_count": 51,
     "metadata": {},
     "output_type": "execute_result"
    }
   ],
   "source": [
    "height_ages_2darray[mask,]"
   ]
  },
  {
   "cell_type": "code",
   "execution_count": 52,
   "id": "cc9208e2",
   "metadata": {},
   "outputs": [],
   "source": [
    "height_ages_arr = np.array(height+ages)"
   ]
  },
  {
   "cell_type": "code",
   "execution_count": 56,
   "id": "66f97904",
   "metadata": {},
   "outputs": [],
   "source": [
    "mask1 = height_ages_arr>= 182"
   ]
  },
  {
   "cell_type": "code",
   "execution_count": 59,
   "id": "e1a7606b",
   "metadata": {},
   "outputs": [
    {
     "data": {
      "text/plain": [
       "array([189, 189, 183, 185, 183, 183, 193, 183, 183, 182, 183, 182, 188,\n",
       "       183, 193, 182, 183, 185, 188, 188, 182, 185, 191])"
      ]
     },
     "execution_count": 59,
     "metadata": {},
     "output_type": "execute_result"
    }
   ],
   "source": [
    "height_ages_arr[mask1,]"
   ]
  },
  {
   "cell_type": "code",
   "execution_count": 60,
   "id": "465d6598",
   "metadata": {},
   "outputs": [
    {
     "ename": "IndexError",
     "evalue": "too many indices for array: array is 1-dimensional, but 2 were indexed",
     "output_type": "error",
     "traceback": [
      "\u001b[1;31m---------------------------------------------------------------------------\u001b[0m",
      "\u001b[1;31mIndexError\u001b[0m                                Traceback (most recent call last)",
      "\u001b[1;32mC:\\Users\\ELBAKK~1\\AppData\\Local\\Temp/ipykernel_78792/3300883079.py\u001b[0m in \u001b[0;36m<module>\u001b[1;34m\u001b[0m\n\u001b[1;32m----> 1\u001b[1;33m \u001b[0mmask2\u001b[0m \u001b[1;33m=\u001b[0m \u001b[1;33m(\u001b[0m\u001b[0mheight_ages_arr\u001b[0m\u001b[1;33m[\u001b[0m\u001b[1;33m:\u001b[0m\u001b[1;33m,\u001b[0m\u001b[1;36m0\u001b[0m\u001b[1;33m]\u001b[0m\u001b[1;33m>\u001b[0m\u001b[1;36m182\u001b[0m\u001b[1;33m)\u001b[0m \u001b[1;33m&\u001b[0m \u001b[1;33m(\u001b[0m\u001b[0mheight_ages_arr\u001b[0m\u001b[1;33m[\u001b[0m\u001b[1;33m:\u001b[0m\u001b[1;33m,\u001b[0m\u001b[1;36m1\u001b[0m\u001b[1;33m]\u001b[0m\u001b[1;33m)\u001b[0m\u001b[1;33m\u001b[0m\u001b[1;33m\u001b[0m\u001b[0m\n\u001b[0m",
      "\u001b[1;31mIndexError\u001b[0m: too many indices for array: array is 1-dimensional, but 2 were indexed"
     ]
    }
   ],
   "source": [
    "mask2 = (height_ages_arr[:,0]>182) & (height_ages_arr[:,1])"
   ]
  },
  {
   "cell_type": "code",
   "execution_count": 1,
   "id": "9cf2e1f5",
   "metadata": {},
   "outputs": [],
   "source": [
    "import numpy as np"
   ]
  },
  {
   "cell_type": "code",
   "execution_count": 3,
   "id": "5eaa0c0b",
   "metadata": {},
   "outputs": [
    {
     "name": "stdout",
     "output_type": "stream",
     "text": [
      "2 2\n"
     ]
    }
   ],
   "source": [
    "n, p = [int(x) for x in input().split()]"
   ]
  },
  {
   "cell_type": "code",
   "execution_count": 12,
   "id": "0335c034",
   "metadata": {},
   "outputs": [
    {
     "data": {
      "text/plain": [
       "array([1.25, 2.45])"
      ]
     },
     "execution_count": 12,
     "metadata": {},
     "output_type": "execute_result"
    }
   ],
   "source": [
    "arr = np.array([[1.5,1],[2,2.9]]).reshape(2,2)\n",
    "arr.mean(axis=1)"
   ]
  },
  {
   "cell_type": "code",
   "execution_count": 11,
   "id": "b1dd0cd8",
   "metadata": {},
   "outputs": [
    {
     "data": {
      "text/plain": [
       "array([[1.5, 1. ],\n",
       "       [2. , 2.9]])"
      ]
     },
     "execution_count": 11,
     "metadata": {},
     "output_type": "execute_result"
    }
   ],
   "source": [
    "arr"
   ]
  },
  {
   "cell_type": "markdown",
   "id": "fa920bed",
   "metadata": {},
   "source": [
    "# Test "
   ]
  },
  {
   "cell_type": "markdown",
   "id": "ef7eb9d8",
   "metadata": {},
   "source": [
    "## Test case 1"
   ]
  },
  {
   "cell_type": "code",
   "execution_count": 8,
   "id": "1942ab92",
   "metadata": {},
   "outputs": [
    {
     "name": "stdout",
     "output_type": "stream",
     "text": [
      "[1.25 2.45]\n"
     ]
    }
   ],
   "source": [
    "import numpy as np \n",
    "\n",
    "n = 2\n",
    "p = 2\n",
    "\n",
    "a = np.array([1.5,1,2,2.9])\n",
    "arr= a.reshape(2,2)\n",
    "arr2= np.round(arr.mean(axis=1),decimals=2 )\n",
    "print(arr2)"
   ]
  },
  {
   "cell_type": "markdown",
   "id": "8e3f2b06",
   "metadata": {},
   "source": [
    "## Test case 2"
   ]
  },
  {
   "cell_type": "code",
   "execution_count": 7,
   "id": "a7ed36ac",
   "metadata": {},
   "outputs": [
    {
     "name": "stdout",
     "output_type": "stream",
     "text": [
      "[1.5  0.75 0.65]\n"
     ]
    }
   ],
   "source": [
    "import numpy as np \n",
    "\n",
    "n=3\n",
    "p=2\n",
    "arr = np.array([1,2,1,0.5,1,0.3]).reshape(n,p)\n",
    "arr2 = arr.mean(axis=1)\n",
    "print(arr2)"
   ]
  },
  {
   "cell_type": "code",
   "execution_count": null,
   "id": "e587f12b",
   "metadata": {},
   "outputs": [],
   "source": []
  },
  {
   "cell_type": "code",
   "execution_count": null,
   "id": "92ce9284",
   "metadata": {},
   "outputs": [],
   "source": []
  },
  {
   "cell_type": "code",
   "execution_count": null,
   "id": "a58c7343",
   "metadata": {},
   "outputs": [],
   "source": []
  },
  {
   "cell_type": "code",
   "execution_count": null,
   "id": "fa6a3fca",
   "metadata": {},
   "outputs": [],
   "source": []
  }
 ],
 "metadata": {
  "kernelspec": {
   "display_name": "Python 3 (ipykernel)",
   "language": "python",
   "name": "python3"
  },
  "language_info": {
   "codemirror_mode": {
    "name": "ipython",
    "version": 3
   },
   "file_extension": ".py",
   "mimetype": "text/x-python",
   "name": "python",
   "nbconvert_exporter": "python",
   "pygments_lexer": "ipython3",
   "version": "3.8.11"
  }
 },
 "nbformat": 4,
 "nbformat_minor": 5
}
