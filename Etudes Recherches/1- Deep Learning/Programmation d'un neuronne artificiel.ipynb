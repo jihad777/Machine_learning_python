{
 "cells": [
  {
   "cell_type": "code",
   "execution_count": 1,
   "id": "f25ad1f9",
   "metadata": {},
   "outputs": [],
   "source": [
    "import numpy as np\n",
    "import matplotlib.pyplot as plt\n",
    "from sklearn.datasets import make_blobs"
   ]
  },
  {
   "cell_type": "code",
   "execution_count": 4,
   "id": "f9a821e6",
   "metadata": {},
   "outputs": [
    {
     "name": "stdout",
     "output_type": "stream",
     "text": [
      "dimensions de X: (100, 2)\n",
      "dimensions de y: (100, 1)\n"
     ]
    },
    {
     "data": {
      "image/png": "[encoded data removed]",
      "text/plain": [
       "<Figure size 432x288 with 1 Axes>"
      ]
     },
     "metadata": {
      "needs_background": "light"
     },
     "output_type": "display_data"
    }
   ],
   "source": [
    "X,y = make_blobs(n_samples=100, n_features=2, centers=2 ,random_state=0)\n",
    "y = y.reshape((y.shape[0],1))\n",
    "\n",
    "print('dimensions de X:', X.shape)\n",
    "print('dimensions de y:', y.shape)\n",
    "\n",
    "plt.scatter(X[:,0], X[:,1], c=y, cmap='winter')\n",
    "plt.show()"
   ]
  },
  {
   "cell_type": "code",
   "execution_count": 5,
   "id": "8327eee6",
   "metadata": {},
   "outputs": [],
   "source": [
    "def initialisation(X):\n",
    "    W= np.random.randn(X.shape[1], 1)\n",
    "    b= np.random.randn(1)\n",
    "    return (W,b)"
   ]
  },
  {
   "cell_type": "code",
   "execution_count": 10,
   "id": "9dc3b36b",
   "metadata": {},
   "outputs": [
    {
     "name": "stdout",
     "output_type": "stream",
     "text": [
      "W------ (2, 1)\n",
      "b------ (1,)\n"
     ]
    }
   ],
   "source": [
    "W, b = initialisation(X)\n",
    "\n",
    "print('W------', W.shape)\n",
    "print('b------', b.shape)"
   ]
  },
  {
   "cell_type": "code",
   "execution_count": 11,
   "id": "cf80a5b3",
   "metadata": {},
   "outputs": [],
   "source": [
    "def model(X, W, b):\n",
    "    Z= X.dot(W)+b\n",
    "    A= 1/(1+np.exp(-Z))\n",
    "    return A"
   ]
  },
  {
   "cell_type": "code",
   "execution_count": 13,
   "id": "0411e5af",
   "metadata": {},
   "outputs": [
    {
     "name": "stdout",
     "output_type": "stream",
     "text": [
      "(100, 1)\n"
     ]
    }
   ],
   "source": [
    "A = model(X, W, b)\n",
    "\n",
    "print(A.shape)"
   ]
  },
  {
   "cell_type": "code",
   "execution_count": 14,
   "id": "e36e7b3d",
   "metadata": {},
   "outputs": [],
   "source": [
    "def log_loss(A, y):\n",
    "    return (1/len(y))*np.sum(-y * np.log(A)-(1-y)*np.log(1-A))"
   ]
  },
  {
   "cell_type": "code",
   "execution_count": 15,
   "id": "dda6e265",
   "metadata": {},
   "outputs": [
    {
     "data": {
      "text/plain": [
       "0.4226935704752869"
      ]
     },
     "execution_count": 15,
     "metadata": {},
     "output_type": "execute_result"
    }
   ],
   "source": [
    "log_loss(A, y)"
   ]
  },
  {
   "cell_type": "code",
   "execution_count": 16,
   "id": "1c233b56",
   "metadata": {},
   "outputs": [],
   "source": [
    "def gradients(A, X, y):\n",
    "    dW = (1/len(y))*np.dot(X.T, A-y)\n",
    "    db = (1/len(y))*np.sum(A-y)\n",
    "    return dW, db"
   ]
  },
  {
   "cell_type": "code",
   "execution_count": 17,
   "id": "0976d4f7",
   "metadata": {},
   "outputs": [],
   "source": [
    "dW, db = gradients(A, X, y)"
   ]
  },
  {
   "cell_type": "code",
   "execution_count": 20,
   "id": "3b4c3c4c",
   "metadata": {},
   "outputs": [],
   "source": [
    "def update(dW, db, W, b, learning_rate):\n",
    "    W = W - learning_rate*dW\n",
    "    b = b - learning_rate*db\n",
    "    return (W, b)"
   ]
  },
  {
   "cell_type": "code",
   "execution_count": 41,
   "id": "cebfed3e",
   "metadata": {},
   "outputs": [],
   "source": [
    "def predict(X, W, b):\n",
    "    A = model(X, W, b)\n",
    "    print(A)\n",
    "    return A >=0.5"
   ]
  },
  {
   "cell_type": "code",
   "execution_count": 25,
   "id": "f1b9e6df",
   "metadata": {},
   "outputs": [],
   "source": [
    "from sklearn.metrics import accuracy_score"
   ]
  },
  {
   "cell_type": "code",
   "execution_count": 28,
   "id": "9e4a5028",
   "metadata": {},
   "outputs": [],
   "source": [
    "def artificial_neuron(X, y, learning_rate=0.1, n_iterations=100):\n",
    "    #initialiser W et b\n",
    "    W, b = initialisation(X)\n",
    "    \n",
    "    Loss=[]\n",
    "    \n",
    "    for i in range(n_iterations):\n",
    "        A = model(X, W, b)\n",
    "        Loss.append(log_loss(A, y))\n",
    "        dW, db = gradients(A, X, y)\n",
    "        W, b = update(dW, db, W, b, learning_rate)\n",
    "        \n",
    "    y_pred = predict(X, W, b)  \n",
    "    print(accuracy_score(y,y_pred))\n",
    "        \n",
    "    plt.plot(Loss)\n",
    "    plt.show()\n",
    "    \n",
    "    return (W,b)\n",
    "        "
   ]
  },
  {
   "cell_type": "code",
   "execution_count": 29,
   "id": "85f99016",
   "metadata": {},
   "outputs": [
    {
     "name": "stdout",
     "output_type": "stream",
     "text": [
      "0.92\n"
     ]
    },
    {
     "data": {
      "image/png": "[encoded data removed]",
      "text/plain": [
       "<Figure size 432x288 with 1 Axes>"
      ]
     },
     "metadata": {
      "needs_background": "light"
     },
     "output_type": "display_data"
    }
   ],
   "source": [
    "W,b= artificial_neuron(X,y, 0.01, 5000)"
   ]
  },
  {
   "cell_type": "code",
   "execution_count": 30,
   "id": "236bb178",
   "metadata": {},
   "outputs": [
    {
     "data": {
      "text/plain": [
       "array([[ 1.31308185],\n",
       "       [-1.57800439]])"
      ]
     },
     "execution_count": 30,
     "metadata": {},
     "output_type": "execute_result"
    }
   ],
   "source": [
    "W"
   ]
  },
  {
   "cell_type": "code",
   "execution_count": 31,
   "id": "6f19907a",
   "metadata": {},
   "outputs": [
    {
     "data": {
      "text/plain": [
       "array([1.9079189])"
      ]
     },
     "execution_count": 31,
     "metadata": {},
     "output_type": "execute_result"
    }
   ],
   "source": [
    "b"
   ]
  },
  {
   "cell_type": "code",
   "execution_count": 45,
   "id": "d2ca0532",
   "metadata": {},
   "outputs": [
    {
     "data": {
      "image/png": "[encoded data removed]",
      "text/plain": [
       "<Figure size 432x288 with 1 Axes>"
      ]
     },
     "metadata": {
      "needs_background": "light"
     },
     "output_type": "display_data"
    },
    {
     "name": "stdout",
     "output_type": "stream",
     "text": [
      "[0.95054998]\n"
     ]
    },
    {
     "data": {
      "text/plain": [
       "array([ True])"
      ]
     },
     "execution_count": 45,
     "metadata": {},
     "output_type": "execute_result"
    }
   ],
   "source": [
    "new_plant= np.array([2,1])\n",
    "\n",
    "x0 = np.linspace(-1,4,100)\n",
    "x1 = (-W[0] * x0 - b)/W[1]\n",
    "\n",
    "plt.scatter(X[:,0], X[:,1], c=y, cmap='winter')\n",
    "plt.scatter(new_plant[0], new_plant[1], c='red', marker='*')\n",
    "plt.plot(x0,x1, c='orange', lw=0.5)\n",
    "plt.show()\n",
    "predict(new_plant, W,b)"
   ]
  }
 ],
 "metadata": {
  "kernelspec": {
   "display_name": "Python 3 (ipykernel)",
   "language": "python",
   "name": "python3"
  },
  "language_info": {
   "codemirror_mode": {
    "name": "ipython",
    "version": 3
   },
   "file_extension": ".py",
   "mimetype": "text/x-python",
   "name": "python",
   "nbconvert_exporter": "python",
   "pygments_lexer": "ipython3",
   "version": "3.8.11"
  }
 },
 "nbformat": 4,
 "nbformat_minor": 5
}
